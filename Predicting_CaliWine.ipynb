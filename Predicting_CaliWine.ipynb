{
 "cells": [
  {
   "cell_type": "markdown",
   "metadata": {},
   "source": [
    "# Applied Machine Learning \n",
    "# Project - Predicting California Wine Price\n",
    "# Student name: Jiang Jiang"
   ]
  },
  {
   "cell_type": "markdown",
   "metadata": {},
   "source": [
    "## 1. Import the data"
   ]
  },
  {
   "cell_type": "code",
   "execution_count": 26,
   "metadata": {},
   "outputs": [],
   "source": [
    "import pandas as pd\n",
    "import numpy as np\n",
    "import seaborn as sns\n",
    "import matplotlib.pyplot as plt\n",
    "import tensorflow as tf\n",
    "import math\n",
    "from matplotlib.pyplot import figure\n",
    "\n",
    "# The command below means that the output of multiple commands in a cell will be output at once\n",
    "from IPython.core.interactiveshell import InteractiveShell\n",
    "InteractiveShell.ast_node_interactivity = \"all\"\n",
    "\n",
    "# The command below tells jupyter to display up to 80 columns, this keeps everything visible\n",
    "pd.set_option('display.max_columns', 80)\n",
    "pd.set_option('expand_frame_repr', True)\n",
    "\n",
    "# Show figures in notebook\n",
    "%matplotlib inline"
   ]
  },
  {
   "cell_type": "code",
   "execution_count": 65,
   "metadata": {},
   "outputs": [],
   "source": [
    "from sklearn.metrics import mean_absolute_error\n",
    "from sklearn.metrics import r2_score\n",
    "from sklearn.model_selection import train_test_split"
   ]
  },
  {
   "cell_type": "markdown",
   "metadata": {},
   "source": [
    "If you don't have tensorflow installed, you can upload this jupyter notebook onto your google drive and open it with Colabratory."
   ]
  },
  {
   "cell_type": "code",
   "execution_count": 46,
   "metadata": {},
   "outputs": [],
   "source": [
    "# import data\n",
    "path = '../data/'\n",
    "file1 = 'winemag_data.csv'\n",
    "df_org = pd.read_csv(path+file1)"
   ]
  },
  {
   "cell_type": "markdown",
   "metadata": {},
   "source": [
    "## 2. Data cleaning and mutation"
   ]
  },
  {
   "cell_type": "code",
   "execution_count": 47,
   "metadata": {},
   "outputs": [
    {
     "data": {
      "text/html": [
       "<div>\n",
       "<style scoped>\n",
       "    .dataframe tbody tr th:only-of-type {\n",
       "        vertical-align: middle;\n",
       "    }\n",
       "\n",
       "    .dataframe tbody tr th {\n",
       "        vertical-align: top;\n",
       "    }\n",
       "\n",
       "    .dataframe thead th {\n",
       "        text-align: right;\n",
       "    }\n",
       "</style>\n",
       "<table border=\"1\" class=\"dataframe\">\n",
       "  <thead>\n",
       "    <tr style=\"text-align: right;\">\n",
       "      <th></th>\n",
       "      <th>Unnamed: 0</th>\n",
       "      <th>country</th>\n",
       "      <th>description</th>\n",
       "      <th>designation</th>\n",
       "      <th>points</th>\n",
       "      <th>price</th>\n",
       "      <th>province</th>\n",
       "      <th>region_1</th>\n",
       "      <th>region_2</th>\n",
       "      <th>taster_name</th>\n",
       "      <th>taster_twitter_handle</th>\n",
       "      <th>title</th>\n",
       "      <th>variety</th>\n",
       "      <th>winery</th>\n",
       "    </tr>\n",
       "  </thead>\n",
       "  <tbody>\n",
       "    <tr>\n",
       "      <th>10</th>\n",
       "      <td>10</td>\n",
       "      <td>US</td>\n",
       "      <td>Soft, supple plum envelopes an oaky structure ...</td>\n",
       "      <td>Mountain Cuvée</td>\n",
       "      <td>87</td>\n",
       "      <td>19.0</td>\n",
       "      <td>California</td>\n",
       "      <td>Napa Valley</td>\n",
       "      <td>Napa</td>\n",
       "      <td>Virginie Boone</td>\n",
       "      <td>@vboone</td>\n",
       "      <td>Kirkland Signature 2011 Mountain Cuvée Caberne...</td>\n",
       "      <td>Cabernet Sauvignon</td>\n",
       "      <td>Kirkland Signature</td>\n",
       "    </tr>\n",
       "    <tr>\n",
       "      <th>12</th>\n",
       "      <td>12</td>\n",
       "      <td>US</td>\n",
       "      <td>Slightly reduced, this wine offers a chalky, t...</td>\n",
       "      <td>NaN</td>\n",
       "      <td>87</td>\n",
       "      <td>34.0</td>\n",
       "      <td>California</td>\n",
       "      <td>Alexander Valley</td>\n",
       "      <td>Sonoma</td>\n",
       "      <td>Virginie Boone</td>\n",
       "      <td>@vboone</td>\n",
       "      <td>Louis M. Martini 2012 Cabernet Sauvignon (Alex...</td>\n",
       "      <td>Cabernet Sauvignon</td>\n",
       "      <td>Louis M. Martini</td>\n",
       "    </tr>\n",
       "    <tr>\n",
       "      <th>14</th>\n",
       "      <td>14</td>\n",
       "      <td>US</td>\n",
       "      <td>Building on 150 years and six generations of w...</td>\n",
       "      <td>NaN</td>\n",
       "      <td>87</td>\n",
       "      <td>12.0</td>\n",
       "      <td>California</td>\n",
       "      <td>Central Coast</td>\n",
       "      <td>Central Coast</td>\n",
       "      <td>Matt Kettmann</td>\n",
       "      <td>@mattkettmann</td>\n",
       "      <td>Mirassou 2012 Chardonnay (Central Coast)</td>\n",
       "      <td>Chardonnay</td>\n",
       "      <td>Mirassou</td>\n",
       "    </tr>\n",
       "    <tr>\n",
       "      <th>23</th>\n",
       "      <td>23</td>\n",
       "      <td>US</td>\n",
       "      <td>This wine from the Geneseo district offers aro...</td>\n",
       "      <td>Signature Selection</td>\n",
       "      <td>87</td>\n",
       "      <td>22.0</td>\n",
       "      <td>California</td>\n",
       "      <td>Paso Robles</td>\n",
       "      <td>Central Coast</td>\n",
       "      <td>Matt Kettmann</td>\n",
       "      <td>@mattkettmann</td>\n",
       "      <td>Bianchi 2011 Signature Selection Merlot (Paso ...</td>\n",
       "      <td>Merlot</td>\n",
       "      <td>Bianchi</td>\n",
       "    </tr>\n",
       "    <tr>\n",
       "      <th>25</th>\n",
       "      <td>25</td>\n",
       "      <td>US</td>\n",
       "      <td>Oak and earth intermingle around robust aromas...</td>\n",
       "      <td>King Ridge Vineyard</td>\n",
       "      <td>87</td>\n",
       "      <td>69.0</td>\n",
       "      <td>California</td>\n",
       "      <td>Sonoma Coast</td>\n",
       "      <td>Sonoma</td>\n",
       "      <td>Virginie Boone</td>\n",
       "      <td>@vboone</td>\n",
       "      <td>Castello di Amorosa 2011 King Ridge Vineyard P...</td>\n",
       "      <td>Pinot Noir</td>\n",
       "      <td>Castello di Amorosa</td>\n",
       "    </tr>\n",
       "  </tbody>\n",
       "</table>\n",
       "</div>"
      ],
      "text/plain": [
       "    Unnamed: 0 country                                        description  \\\n",
       "10          10      US  Soft, supple plum envelopes an oaky structure ...   \n",
       "12          12      US  Slightly reduced, this wine offers a chalky, t...   \n",
       "14          14      US  Building on 150 years and six generations of w...   \n",
       "23          23      US  This wine from the Geneseo district offers aro...   \n",
       "25          25      US  Oak and earth intermingle around robust aromas...   \n",
       "\n",
       "            designation  points  price    province          region_1  \\\n",
       "10       Mountain Cuvée      87   19.0  California       Napa Valley   \n",
       "12                  NaN      87   34.0  California  Alexander Valley   \n",
       "14                  NaN      87   12.0  California     Central Coast   \n",
       "23  Signature Selection      87   22.0  California       Paso Robles   \n",
       "25  King Ridge Vineyard      87   69.0  California      Sonoma Coast   \n",
       "\n",
       "         region_2     taster_name taster_twitter_handle  \\\n",
       "10           Napa  Virginie Boone               @vboone   \n",
       "12         Sonoma  Virginie Boone               @vboone   \n",
       "14  Central Coast   Matt Kettmann         @mattkettmann   \n",
       "23  Central Coast   Matt Kettmann         @mattkettmann   \n",
       "25         Sonoma  Virginie Boone               @vboone   \n",
       "\n",
       "                                                title             variety  \\\n",
       "10  Kirkland Signature 2011 Mountain Cuvée Caberne...  Cabernet Sauvignon   \n",
       "12  Louis M. Martini 2012 Cabernet Sauvignon (Alex...  Cabernet Sauvignon   \n",
       "14           Mirassou 2012 Chardonnay (Central Coast)          Chardonnay   \n",
       "23  Bianchi 2011 Signature Selection Merlot (Paso ...              Merlot   \n",
       "25  Castello di Amorosa 2011 King Ridge Vineyard P...          Pinot Noir   \n",
       "\n",
       "                 winery  \n",
       "10   Kirkland Signature  \n",
       "12     Louis M. Martini  \n",
       "14             Mirassou  \n",
       "23              Bianchi  \n",
       "25  Castello di Amorosa  "
      ]
     },
     "execution_count": 47,
     "metadata": {},
     "output_type": "execute_result"
    },
    {
     "name": "stdout",
     "output_type": "stream",
     "text": [
      "<class 'pandas.core.frame.DataFrame'>\n",
      "Int64Index: 36247 entries, 10 to 129952\n",
      "Data columns (total 14 columns):\n",
      "Unnamed: 0               36247 non-null int64\n",
      "country                  36247 non-null object\n",
      "description              36247 non-null object\n",
      "designation              24359 non-null object\n",
      "points                   36247 non-null int64\n",
      "price                    36104 non-null float64\n",
      "province                 36247 non-null object\n",
      "region_1                 36245 non-null object\n",
      "region_2                 34119 non-null object\n",
      "taster_name              20174 non-null object\n",
      "taster_twitter_handle    20174 non-null object\n",
      "title                    36247 non-null object\n",
      "variety                  36247 non-null object\n",
      "winery                   36247 non-null object\n",
      "dtypes: float64(1), int64(2), object(11)\n",
      "memory usage: 4.1+ MB\n"
     ]
    }
   ],
   "source": [
    "# filter: only keep the California wine\n",
    "df_org = df_org[df_org.province=='California']\n",
    "# quick review of the first five rows\n",
    "df_org.head()\n",
    "df_org.info()"
   ]
  },
  {
   "cell_type": "markdown",
   "metadata": {},
   "source": [
    "We can witness that there are some missing values in designation."
   ]
  },
  {
   "cell_type": "code",
   "execution_count": 48,
   "metadata": {},
   "outputs": [],
   "source": [
    "# drop the columns we don't need and rows with missing data\n",
    "# reset the index\n",
    "\n",
    "df_org = df_org.drop(['Unnamed: 0','country','designation','province','taster_name',\n",
    "              'taster_twitter_handle'], axis=1)\n",
    "df_org = df_org.dropna()\n",
    "df_org = df_org.reset_index(drop=True)"
   ]
  },
  {
   "cell_type": "markdown",
   "metadata": {},
   "source": [
    "#### Get vintage from the 'title' column"
   ]
  },
  {
   "cell_type": "code",
   "execution_count": 49,
   "metadata": {},
   "outputs": [],
   "source": [
    "# create vintage column from the 'title column' by extracting the numbers in the title\n",
    "import re\n",
    "def vintage(df): \n",
    "    temp = re.findall('\\d+', df.title)\n",
    "    if temp:\n",
    "        df['vintage']= int(temp[0])\n",
    "    else:\n",
    "        df['vintage']= 0\n",
    "    return df\n",
    "\n",
    "df_org = df_org.apply(vintage, axis=1)"
   ]
  },
  {
   "cell_type": "code",
   "execution_count": 50,
   "metadata": {},
   "outputs": [],
   "source": [
    "# remove the rows with unvalid vintage information\n",
    "df_org = df_org[(df_org.vintage>1900) & (df_org.vintage<2018)]"
   ]
  },
  {
   "cell_type": "markdown",
   "metadata": {},
   "source": [
    "#### Recode the variety column"
   ]
  },
  {
   "cell_type": "code",
   "execution_count": 32,
   "metadata": {},
   "outputs": [
    {
     "data": {
      "text/plain": [
       "Pinot Noir                  6292\n",
       "Cabernet Sauvignon          5525\n",
       "Chardonnay                  4946\n",
       "Zinfandel                   2485\n",
       "Syrah                       1805\n",
       "Red Blend                   1677\n",
       "Sauvignon Blanc             1605\n",
       "Merlot                      1350\n",
       "Bordeaux-style Red Blend     862\n",
       "Petite Sirah                 626\n",
       "Name: variety, dtype: int64"
      ]
     },
     "execution_count": 32,
     "metadata": {},
     "output_type": "execute_result"
    }
   ],
   "source": [
    "# review what varieties we have\n",
    "df_org.variety.value_counts().head(10)"
   ]
  },
  {
   "cell_type": "markdown",
   "metadata": {},
   "source": [
    "Only keep “Cabernet Sauvignon”, “Merlot”, “Pinot Noir”, “Syrah”, \"Red Blend\",\n",
    "and “Zinfandel” for red wines; “Chardonnay” and “Sauvignon Blanc” for white\n",
    "wines; and “other” for all other minor grape varieties"
   ]
  },
  {
   "cell_type": "code",
   "execution_count": 51,
   "metadata": {},
   "outputs": [],
   "source": [
    "# create a function to change the uncommon varieties into 'others'\n",
    "def variety(df): \n",
    "    \n",
    "    if df.variety not in ['Cabernet Sauvignon', 'Merlot', 'Pinot Noir', 'Syrah', \n",
    "                          'Zinfandel','Chardonnay', 'Sauvignon Blanc','Red Blend']:\n",
    "        df.variety= 'other'\n",
    "    else:\n",
    "        df.variety = df.variety\n",
    "    return df\n",
    "\n",
    "df_org = df_org.apply(variety, axis=1)"
   ]
  },
  {
   "cell_type": "markdown",
   "metadata": {},
   "source": [
    "#### Recode the region_2 to reflect the social classification\n",
    "Specifically, we are going to assign 'other' to all the observations without region_2 information."
   ]
  },
  {
   "cell_type": "code",
   "execution_count": 34,
   "metadata": {},
   "outputs": [
    {
     "data": {
      "text/plain": [
       "Central Coast       10975\n",
       "Sonoma               9009\n",
       "Napa                 6804\n",
       "California Other     2661\n",
       "Sierra Foothills     1461\n",
       "Napa-Sonoma          1169\n",
       "Central Valley       1058\n",
       "North Coast           583\n",
       "South Coast           262\n",
       "Name: region_2, dtype: int64"
      ]
     },
     "execution_count": 34,
     "metadata": {},
     "output_type": "execute_result"
    }
   ],
   "source": [
    "df_org.region_2.value_counts()"
   ]
  },
  {
   "cell_type": "code",
   "execution_count": 52,
   "metadata": {},
   "outputs": [],
   "source": [
    "# create a function to fill in the missing region_2 with 'other'\n",
    "def region2(df): \n",
    "    \n",
    "    if df.region_2:\n",
    "        df.region_2 = df.region_2\n",
    "    else:\n",
    "        df.region_2 = 'other'\n",
    "    return df\n",
    "\n",
    "df_org = df_org.apply(region2, axis=1)"
   ]
  },
  {
   "cell_type": "markdown",
   "metadata": {},
   "source": [
    "#### Recode the price column\n",
    "Because the price distribution is skewed (see section 3: Explore the data), we can tranform the data using log function."
   ]
  },
  {
   "cell_type": "code",
   "execution_count": 53,
   "metadata": {},
   "outputs": [],
   "source": [
    "# transfer price using log function\n",
    "import math\n",
    "df_org=df_org.assign(priceLog = lambda x: np.log(x.price))"
   ]
  },
  {
   "cell_type": "code",
   "execution_count": 54,
   "metadata": {},
   "outputs": [
    {
     "data": {
      "text/plain": [
       "count    33089.000000\n",
       "mean         3.500614\n",
       "std          0.593992\n",
       "min          1.386294\n",
       "25%          3.091042\n",
       "50%          3.526361\n",
       "75%          3.891820\n",
       "max          7.607381\n",
       "Name: priceLog, dtype: float64"
      ]
     },
     "execution_count": 54,
     "metadata": {},
     "output_type": "execute_result"
    }
   ],
   "source": [
    "df_org.priceLog.describe()"
   ]
  },
  {
   "cell_type": "code",
   "execution_count": 55,
   "metadata": {},
   "outputs": [
    {
     "data": {
      "text/html": [
       "<div>\n",
       "<style scoped>\n",
       "    .dataframe tbody tr th:only-of-type {\n",
       "        vertical-align: middle;\n",
       "    }\n",
       "\n",
       "    .dataframe tbody tr th {\n",
       "        vertical-align: top;\n",
       "    }\n",
       "\n",
       "    .dataframe thead th {\n",
       "        text-align: right;\n",
       "    }\n",
       "</style>\n",
       "<table border=\"1\" class=\"dataframe\">\n",
       "  <thead>\n",
       "    <tr style=\"text-align: right;\">\n",
       "      <th></th>\n",
       "      <th>description</th>\n",
       "      <th>points</th>\n",
       "      <th>price</th>\n",
       "      <th>region_1</th>\n",
       "      <th>region_2</th>\n",
       "      <th>title</th>\n",
       "      <th>variety</th>\n",
       "      <th>winery</th>\n",
       "      <th>vintage</th>\n",
       "      <th>priceLog</th>\n",
       "    </tr>\n",
       "  </thead>\n",
       "  <tbody>\n",
       "    <tr>\n",
       "      <th>0</th>\n",
       "      <td>Soft, supple plum envelopes an oaky structure ...</td>\n",
       "      <td>87</td>\n",
       "      <td>19.0</td>\n",
       "      <td>Napa Valley</td>\n",
       "      <td>Napa</td>\n",
       "      <td>Kirkland Signature 2011 Mountain Cuvée Caberne...</td>\n",
       "      <td>Cabernet Sauvignon</td>\n",
       "      <td>Kirkland Signature</td>\n",
       "      <td>2011</td>\n",
       "      <td>2.944439</td>\n",
       "    </tr>\n",
       "    <tr>\n",
       "      <th>1</th>\n",
       "      <td>Slightly reduced, this wine offers a chalky, t...</td>\n",
       "      <td>87</td>\n",
       "      <td>34.0</td>\n",
       "      <td>Alexander Valley</td>\n",
       "      <td>Sonoma</td>\n",
       "      <td>Louis M. Martini 2012 Cabernet Sauvignon (Alex...</td>\n",
       "      <td>Cabernet Sauvignon</td>\n",
       "      <td>Louis M. Martini</td>\n",
       "      <td>2012</td>\n",
       "      <td>3.526361</td>\n",
       "    </tr>\n",
       "    <tr>\n",
       "      <th>2</th>\n",
       "      <td>Building on 150 years and six generations of w...</td>\n",
       "      <td>87</td>\n",
       "      <td>12.0</td>\n",
       "      <td>Central Coast</td>\n",
       "      <td>Central Coast</td>\n",
       "      <td>Mirassou 2012 Chardonnay (Central Coast)</td>\n",
       "      <td>Chardonnay</td>\n",
       "      <td>Mirassou</td>\n",
       "      <td>2012</td>\n",
       "      <td>2.484907</td>\n",
       "    </tr>\n",
       "    <tr>\n",
       "      <th>3</th>\n",
       "      <td>This wine from the Geneseo district offers aro...</td>\n",
       "      <td>87</td>\n",
       "      <td>22.0</td>\n",
       "      <td>Paso Robles</td>\n",
       "      <td>Central Coast</td>\n",
       "      <td>Bianchi 2011 Signature Selection Merlot (Paso ...</td>\n",
       "      <td>Merlot</td>\n",
       "      <td>Bianchi</td>\n",
       "      <td>2011</td>\n",
       "      <td>3.091042</td>\n",
       "    </tr>\n",
       "    <tr>\n",
       "      <th>4</th>\n",
       "      <td>Oak and earth intermingle around robust aromas...</td>\n",
       "      <td>87</td>\n",
       "      <td>69.0</td>\n",
       "      <td>Sonoma Coast</td>\n",
       "      <td>Sonoma</td>\n",
       "      <td>Castello di Amorosa 2011 King Ridge Vineyard P...</td>\n",
       "      <td>Pinot Noir</td>\n",
       "      <td>Castello di Amorosa</td>\n",
       "      <td>2011</td>\n",
       "      <td>4.234107</td>\n",
       "    </tr>\n",
       "  </tbody>\n",
       "</table>\n",
       "</div>"
      ],
      "text/plain": [
       "                                         description  points  price  \\\n",
       "0  Soft, supple plum envelopes an oaky structure ...      87   19.0   \n",
       "1  Slightly reduced, this wine offers a chalky, t...      87   34.0   \n",
       "2  Building on 150 years and six generations of w...      87   12.0   \n",
       "3  This wine from the Geneseo district offers aro...      87   22.0   \n",
       "4  Oak and earth intermingle around robust aromas...      87   69.0   \n",
       "\n",
       "           region_1       region_2  \\\n",
       "0       Napa Valley           Napa   \n",
       "1  Alexander Valley         Sonoma   \n",
       "2     Central Coast  Central Coast   \n",
       "3       Paso Robles  Central Coast   \n",
       "4      Sonoma Coast         Sonoma   \n",
       "\n",
       "                                               title             variety  \\\n",
       "0  Kirkland Signature 2011 Mountain Cuvée Caberne...  Cabernet Sauvignon   \n",
       "1  Louis M. Martini 2012 Cabernet Sauvignon (Alex...  Cabernet Sauvignon   \n",
       "2           Mirassou 2012 Chardonnay (Central Coast)          Chardonnay   \n",
       "3  Bianchi 2011 Signature Selection Merlot (Paso ...              Merlot   \n",
       "4  Castello di Amorosa 2011 King Ridge Vineyard P...          Pinot Noir   \n",
       "\n",
       "                winery  vintage  priceLog  \n",
       "0   Kirkland Signature     2011  2.944439  \n",
       "1     Louis M. Martini     2012  3.526361  \n",
       "2             Mirassou     2012  2.484907  \n",
       "3              Bianchi     2011  3.091042  \n",
       "4  Castello di Amorosa     2011  4.234107  "
      ]
     },
     "execution_count": 55,
     "metadata": {},
     "output_type": "execute_result"
    }
   ],
   "source": [
    "df_org.head()"
   ]
  },
  {
   "cell_type": "markdown",
   "metadata": {},
   "source": [
    "#### Get the dummy variables "
   ]
  },
  {
   "cell_type": "code",
   "execution_count": 56,
   "metadata": {},
   "outputs": [
    {
     "data": {
      "text/html": [
       "<div>\n",
       "<style scoped>\n",
       "    .dataframe tbody tr th:only-of-type {\n",
       "        vertical-align: middle;\n",
       "    }\n",
       "\n",
       "    .dataframe tbody tr th {\n",
       "        vertical-align: top;\n",
       "    }\n",
       "\n",
       "    .dataframe thead th {\n",
       "        text-align: right;\n",
       "    }\n",
       "</style>\n",
       "<table border=\"1\" class=\"dataframe\">\n",
       "  <thead>\n",
       "    <tr style=\"text-align: right;\">\n",
       "      <th></th>\n",
       "      <th>points</th>\n",
       "      <th>price</th>\n",
       "      <th>vintage</th>\n",
       "      <th>priceLog</th>\n",
       "      <th>Adelaida District</th>\n",
       "      <th>Alexander Valley</th>\n",
       "      <th>Alta Mesa</th>\n",
       "      <th>Amador County</th>\n",
       "      <th>Amador-Napa</th>\n",
       "      <th>Antelope Valley of the California High Desert</th>\n",
       "      <th>Arroyo Grande Valley</th>\n",
       "      <th>Arroyo Seco</th>\n",
       "      <th>Atlas Peak</th>\n",
       "      <th>Ballard Canyon</th>\n",
       "      <th>Ben Lomond Mountain</th>\n",
       "      <th>Bennett Valley</th>\n",
       "      <th>Calaveras County</th>\n",
       "      <th>California</th>\n",
       "      <th>Calistoga</th>\n",
       "      <th>Capay Valley</th>\n",
       "      <th>Carmel Valley</th>\n",
       "      <th>Carneros</th>\n",
       "      <th>Carneros-Napa Valley</th>\n",
       "      <th>Central Coast</th>\n",
       "      <th>Chalk Hill</th>\n",
       "      <th>Chalone</th>\n",
       "      <th>Chiles Valley</th>\n",
       "      <th>Cienega Valley</th>\n",
       "      <th>Clarksburg</th>\n",
       "      <th>Clements Hills</th>\n",
       "      <th>Contra Costa County</th>\n",
       "      <th>Coombsville</th>\n",
       "      <th>Cucamonga Valley</th>\n",
       "      <th>Diamond Mountain District</th>\n",
       "      <th>Dry Creek Valley</th>\n",
       "      <th>Dunnigan Hills</th>\n",
       "      <th>Edna Valley</th>\n",
       "      <th>El Dorado</th>\n",
       "      <th>El Dorado County</th>\n",
       "      <th>El Pomar District</th>\n",
       "      <th>...</th>\n",
       "      <th>Cabernet Sauvignon</th>\n",
       "      <th>Chardonnay</th>\n",
       "      <th>Merlot</th>\n",
       "      <th>Pinot Noir</th>\n",
       "      <th>Red Blend</th>\n",
       "      <th>Sauvignon Blanc</th>\n",
       "      <th>Syrah</th>\n",
       "      <th>Zinfandel</th>\n",
       "      <th>other</th>\n",
       "      <th>1985</th>\n",
       "      <th>1986</th>\n",
       "      <th>1987</th>\n",
       "      <th>1989</th>\n",
       "      <th>1990</th>\n",
       "      <th>1991</th>\n",
       "      <th>1992</th>\n",
       "      <th>1993</th>\n",
       "      <th>1994</th>\n",
       "      <th>1995</th>\n",
       "      <th>1996</th>\n",
       "      <th>1997</th>\n",
       "      <th>1998</th>\n",
       "      <th>1999</th>\n",
       "      <th>2000</th>\n",
       "      <th>2001</th>\n",
       "      <th>2002</th>\n",
       "      <th>2003</th>\n",
       "      <th>2004</th>\n",
       "      <th>2005</th>\n",
       "      <th>2006</th>\n",
       "      <th>2007</th>\n",
       "      <th>2008</th>\n",
       "      <th>2009</th>\n",
       "      <th>2010</th>\n",
       "      <th>2011</th>\n",
       "      <th>2012</th>\n",
       "      <th>2013</th>\n",
       "      <th>2014</th>\n",
       "      <th>2015</th>\n",
       "      <th>2016</th>\n",
       "    </tr>\n",
       "  </thead>\n",
       "  <tbody>\n",
       "    <tr>\n",
       "      <th>count</th>\n",
       "      <td>33089.000000</td>\n",
       "      <td>33089.000000</td>\n",
       "      <td>33089.000000</td>\n",
       "      <td>33089.000000</td>\n",
       "      <td>33089.000000</td>\n",
       "      <td>33089.000000</td>\n",
       "      <td>33089.000000</td>\n",
       "      <td>33089.000000</td>\n",
       "      <td>33089.000000</td>\n",
       "      <td>33089.000000</td>\n",
       "      <td>33089.000000</td>\n",
       "      <td>33089.000000</td>\n",
       "      <td>33089.000000</td>\n",
       "      <td>33089.000000</td>\n",
       "      <td>33089.000000</td>\n",
       "      <td>33089.000000</td>\n",
       "      <td>33089.000000</td>\n",
       "      <td>33089.000000</td>\n",
       "      <td>33089.000000</td>\n",
       "      <td>33089.000000</td>\n",
       "      <td>33089.000000</td>\n",
       "      <td>33089.000000</td>\n",
       "      <td>33089.000000</td>\n",
       "      <td>33089.000000</td>\n",
       "      <td>33089.000000</td>\n",
       "      <td>33089.000000</td>\n",
       "      <td>33089.000000</td>\n",
       "      <td>33089.000000</td>\n",
       "      <td>33089.000000</td>\n",
       "      <td>33089.000000</td>\n",
       "      <td>33089.000000</td>\n",
       "      <td>33089.000000</td>\n",
       "      <td>33089.000000</td>\n",
       "      <td>33089.000000</td>\n",
       "      <td>33089.000000</td>\n",
       "      <td>33089.000000</td>\n",
       "      <td>33089.000000</td>\n",
       "      <td>33089.000000</td>\n",
       "      <td>33089.000000</td>\n",
       "      <td>33089.000000</td>\n",
       "      <td>...</td>\n",
       "      <td>33089.000000</td>\n",
       "      <td>33089.000000</td>\n",
       "      <td>33089.000000</td>\n",
       "      <td>33089.000000</td>\n",
       "      <td>33089.000000</td>\n",
       "      <td>33089.000000</td>\n",
       "      <td>33089.000000</td>\n",
       "      <td>33089.000000</td>\n",
       "      <td>33089.000000</td>\n",
       "      <td>33089.000000</td>\n",
       "      <td>33089.000000</td>\n",
       "      <td>33089.000000</td>\n",
       "      <td>33089.000000</td>\n",
       "      <td>33089.000000</td>\n",
       "      <td>33089.000000</td>\n",
       "      <td>33089.000000</td>\n",
       "      <td>33089.000000</td>\n",
       "      <td>33089.000000</td>\n",
       "      <td>33089.000000</td>\n",
       "      <td>33089.000000</td>\n",
       "      <td>33089.000000</td>\n",
       "      <td>33089.000000</td>\n",
       "      <td>33089.000000</td>\n",
       "      <td>33089.00000</td>\n",
       "      <td>33089.000000</td>\n",
       "      <td>33089.000000</td>\n",
       "      <td>33089.000000</td>\n",
       "      <td>33089.000000</td>\n",
       "      <td>33089.000000</td>\n",
       "      <td>33089.000000</td>\n",
       "      <td>33089.000000</td>\n",
       "      <td>33089.000000</td>\n",
       "      <td>33089.000000</td>\n",
       "      <td>33089.000000</td>\n",
       "      <td>33089.000000</td>\n",
       "      <td>33089.000000</td>\n",
       "      <td>33089.000000</td>\n",
       "      <td>33089.000000</td>\n",
       "      <td>33089.000000</td>\n",
       "      <td>33089.000000</td>\n",
       "    </tr>\n",
       "    <tr>\n",
       "      <th>mean</th>\n",
       "      <td>88.661640</td>\n",
       "      <td>39.865454</td>\n",
       "      <td>2010.502463</td>\n",
       "      <td>3.500614</td>\n",
       "      <td>0.003324</td>\n",
       "      <td>0.023422</td>\n",
       "      <td>0.000272</td>\n",
       "      <td>0.011635</td>\n",
       "      <td>0.000060</td>\n",
       "      <td>0.000091</td>\n",
       "      <td>0.004835</td>\n",
       "      <td>0.006316</td>\n",
       "      <td>0.002025</td>\n",
       "      <td>0.002388</td>\n",
       "      <td>0.000635</td>\n",
       "      <td>0.002236</td>\n",
       "      <td>0.002659</td>\n",
       "      <td>0.068905</td>\n",
       "      <td>0.004443</td>\n",
       "      <td>0.000091</td>\n",
       "      <td>0.002871</td>\n",
       "      <td>0.029526</td>\n",
       "      <td>0.000695</td>\n",
       "      <td>0.021095</td>\n",
       "      <td>0.002659</td>\n",
       "      <td>0.002085</td>\n",
       "      <td>0.000363</td>\n",
       "      <td>0.000635</td>\n",
       "      <td>0.003022</td>\n",
       "      <td>0.000484</td>\n",
       "      <td>0.002206</td>\n",
       "      <td>0.001632</td>\n",
       "      <td>0.000272</td>\n",
       "      <td>0.004624</td>\n",
       "      <td>0.028166</td>\n",
       "      <td>0.001179</td>\n",
       "      <td>0.012209</td>\n",
       "      <td>0.009248</td>\n",
       "      <td>0.000604</td>\n",
       "      <td>0.000181</td>\n",
       "      <td>...</td>\n",
       "      <td>0.164858</td>\n",
       "      <td>0.147511</td>\n",
       "      <td>0.040074</td>\n",
       "      <td>0.188461</td>\n",
       "      <td>0.046450</td>\n",
       "      <td>0.047901</td>\n",
       "      <td>0.054248</td>\n",
       "      <td>0.073801</td>\n",
       "      <td>0.236695</td>\n",
       "      <td>0.000030</td>\n",
       "      <td>0.000030</td>\n",
       "      <td>0.000030</td>\n",
       "      <td>0.000030</td>\n",
       "      <td>0.000030</td>\n",
       "      <td>0.000091</td>\n",
       "      <td>0.000121</td>\n",
       "      <td>0.000030</td>\n",
       "      <td>0.000272</td>\n",
       "      <td>0.000212</td>\n",
       "      <td>0.000393</td>\n",
       "      <td>0.005833</td>\n",
       "      <td>0.005712</td>\n",
       "      <td>0.006498</td>\n",
       "      <td>0.00677</td>\n",
       "      <td>0.004715</td>\n",
       "      <td>0.000907</td>\n",
       "      <td>0.002025</td>\n",
       "      <td>0.012633</td>\n",
       "      <td>0.032246</td>\n",
       "      <td>0.049745</td>\n",
       "      <td>0.058116</td>\n",
       "      <td>0.059960</td>\n",
       "      <td>0.081870</td>\n",
       "      <td>0.099912</td>\n",
       "      <td>0.086947</td>\n",
       "      <td>0.140077</td>\n",
       "      <td>0.151440</td>\n",
       "      <td>0.122458</td>\n",
       "      <td>0.053613</td>\n",
       "      <td>0.017256</td>\n",
       "    </tr>\n",
       "    <tr>\n",
       "      <th>std</th>\n",
       "      <td>3.266805</td>\n",
       "      <td>30.992979</td>\n",
       "      <td>3.569834</td>\n",
       "      <td>0.593992</td>\n",
       "      <td>0.057562</td>\n",
       "      <td>0.151241</td>\n",
       "      <td>0.016490</td>\n",
       "      <td>0.107239</td>\n",
       "      <td>0.007774</td>\n",
       "      <td>0.009522</td>\n",
       "      <td>0.069370</td>\n",
       "      <td>0.079225</td>\n",
       "      <td>0.044953</td>\n",
       "      <td>0.048804</td>\n",
       "      <td>0.025185</td>\n",
       "      <td>0.047238</td>\n",
       "      <td>0.051502</td>\n",
       "      <td>0.253296</td>\n",
       "      <td>0.066505</td>\n",
       "      <td>0.009522</td>\n",
       "      <td>0.053506</td>\n",
       "      <td>0.169279</td>\n",
       "      <td>0.026356</td>\n",
       "      <td>0.143702</td>\n",
       "      <td>0.051502</td>\n",
       "      <td>0.045618</td>\n",
       "      <td>0.019040</td>\n",
       "      <td>0.025185</td>\n",
       "      <td>0.054892</td>\n",
       "      <td>0.021985</td>\n",
       "      <td>0.046919</td>\n",
       "      <td>0.040365</td>\n",
       "      <td>0.016490</td>\n",
       "      <td>0.067843</td>\n",
       "      <td>0.165451</td>\n",
       "      <td>0.034312</td>\n",
       "      <td>0.109822</td>\n",
       "      <td>0.095721</td>\n",
       "      <td>0.024578</td>\n",
       "      <td>0.013465</td>\n",
       "      <td>...</td>\n",
       "      <td>0.371058</td>\n",
       "      <td>0.354620</td>\n",
       "      <td>0.196135</td>\n",
       "      <td>0.391086</td>\n",
       "      <td>0.210462</td>\n",
       "      <td>0.213560</td>\n",
       "      <td>0.226509</td>\n",
       "      <td>0.261451</td>\n",
       "      <td>0.425060</td>\n",
       "      <td>0.005497</td>\n",
       "      <td>0.005497</td>\n",
       "      <td>0.005497</td>\n",
       "      <td>0.005497</td>\n",
       "      <td>0.005497</td>\n",
       "      <td>0.009522</td>\n",
       "      <td>0.010994</td>\n",
       "      <td>0.005497</td>\n",
       "      <td>0.016490</td>\n",
       "      <td>0.014543</td>\n",
       "      <td>0.019818</td>\n",
       "      <td>0.076151</td>\n",
       "      <td>0.075362</td>\n",
       "      <td>0.080347</td>\n",
       "      <td>0.08200</td>\n",
       "      <td>0.068502</td>\n",
       "      <td>0.030097</td>\n",
       "      <td>0.044953</td>\n",
       "      <td>0.111684</td>\n",
       "      <td>0.176656</td>\n",
       "      <td>0.217420</td>\n",
       "      <td>0.233966</td>\n",
       "      <td>0.237415</td>\n",
       "      <td>0.274171</td>\n",
       "      <td>0.299888</td>\n",
       "      <td>0.281762</td>\n",
       "      <td>0.347072</td>\n",
       "      <td>0.358483</td>\n",
       "      <td>0.327819</td>\n",
       "      <td>0.225256</td>\n",
       "      <td>0.130228</td>\n",
       "    </tr>\n",
       "    <tr>\n",
       "      <th>min</th>\n",
       "      <td>80.000000</td>\n",
       "      <td>4.000000</td>\n",
       "      <td>1985.000000</td>\n",
       "      <td>1.386294</td>\n",
       "      <td>0.000000</td>\n",
       "      <td>0.000000</td>\n",
       "      <td>0.000000</td>\n",
       "      <td>0.000000</td>\n",
       "      <td>0.000000</td>\n",
       "      <td>0.000000</td>\n",
       "      <td>0.000000</td>\n",
       "      <td>0.000000</td>\n",
       "      <td>0.000000</td>\n",
       "      <td>0.000000</td>\n",
       "      <td>0.000000</td>\n",
       "      <td>0.000000</td>\n",
       "      <td>0.000000</td>\n",
       "      <td>0.000000</td>\n",
       "      <td>0.000000</td>\n",
       "      <td>0.000000</td>\n",
       "      <td>0.000000</td>\n",
       "      <td>0.000000</td>\n",
       "      <td>0.000000</td>\n",
       "      <td>0.000000</td>\n",
       "      <td>0.000000</td>\n",
       "      <td>0.000000</td>\n",
       "      <td>0.000000</td>\n",
       "      <td>0.000000</td>\n",
       "      <td>0.000000</td>\n",
       "      <td>0.000000</td>\n",
       "      <td>0.000000</td>\n",
       "      <td>0.000000</td>\n",
       "      <td>0.000000</td>\n",
       "      <td>0.000000</td>\n",
       "      <td>0.000000</td>\n",
       "      <td>0.000000</td>\n",
       "      <td>0.000000</td>\n",
       "      <td>0.000000</td>\n",
       "      <td>0.000000</td>\n",
       "      <td>0.000000</td>\n",
       "      <td>...</td>\n",
       "      <td>0.000000</td>\n",
       "      <td>0.000000</td>\n",
       "      <td>0.000000</td>\n",
       "      <td>0.000000</td>\n",
       "      <td>0.000000</td>\n",
       "      <td>0.000000</td>\n",
       "      <td>0.000000</td>\n",
       "      <td>0.000000</td>\n",
       "      <td>0.000000</td>\n",
       "      <td>0.000000</td>\n",
       "      <td>0.000000</td>\n",
       "      <td>0.000000</td>\n",
       "      <td>0.000000</td>\n",
       "      <td>0.000000</td>\n",
       "      <td>0.000000</td>\n",
       "      <td>0.000000</td>\n",
       "      <td>0.000000</td>\n",
       "      <td>0.000000</td>\n",
       "      <td>0.000000</td>\n",
       "      <td>0.000000</td>\n",
       "      <td>0.000000</td>\n",
       "      <td>0.000000</td>\n",
       "      <td>0.000000</td>\n",
       "      <td>0.00000</td>\n",
       "      <td>0.000000</td>\n",
       "      <td>0.000000</td>\n",
       "      <td>0.000000</td>\n",
       "      <td>0.000000</td>\n",
       "      <td>0.000000</td>\n",
       "      <td>0.000000</td>\n",
       "      <td>0.000000</td>\n",
       "      <td>0.000000</td>\n",
       "      <td>0.000000</td>\n",
       "      <td>0.000000</td>\n",
       "      <td>0.000000</td>\n",
       "      <td>0.000000</td>\n",
       "      <td>0.000000</td>\n",
       "      <td>0.000000</td>\n",
       "      <td>0.000000</td>\n",
       "      <td>0.000000</td>\n",
       "    </tr>\n",
       "    <tr>\n",
       "      <th>25%</th>\n",
       "      <td>86.000000</td>\n",
       "      <td>22.000000</td>\n",
       "      <td>2009.000000</td>\n",
       "      <td>3.091042</td>\n",
       "      <td>0.000000</td>\n",
       "      <td>0.000000</td>\n",
       "      <td>0.000000</td>\n",
       "      <td>0.000000</td>\n",
       "      <td>0.000000</td>\n",
       "      <td>0.000000</td>\n",
       "      <td>0.000000</td>\n",
       "      <td>0.000000</td>\n",
       "      <td>0.000000</td>\n",
       "      <td>0.000000</td>\n",
       "      <td>0.000000</td>\n",
       "      <td>0.000000</td>\n",
       "      <td>0.000000</td>\n",
       "      <td>0.000000</td>\n",
       "      <td>0.000000</td>\n",
       "      <td>0.000000</td>\n",
       "      <td>0.000000</td>\n",
       "      <td>0.000000</td>\n",
       "      <td>0.000000</td>\n",
       "      <td>0.000000</td>\n",
       "      <td>0.000000</td>\n",
       "      <td>0.000000</td>\n",
       "      <td>0.000000</td>\n",
       "      <td>0.000000</td>\n",
       "      <td>0.000000</td>\n",
       "      <td>0.000000</td>\n",
       "      <td>0.000000</td>\n",
       "      <td>0.000000</td>\n",
       "      <td>0.000000</td>\n",
       "      <td>0.000000</td>\n",
       "      <td>0.000000</td>\n",
       "      <td>0.000000</td>\n",
       "      <td>0.000000</td>\n",
       "      <td>0.000000</td>\n",
       "      <td>0.000000</td>\n",
       "      <td>0.000000</td>\n",
       "      <td>...</td>\n",
       "      <td>0.000000</td>\n",
       "      <td>0.000000</td>\n",
       "      <td>0.000000</td>\n",
       "      <td>0.000000</td>\n",
       "      <td>0.000000</td>\n",
       "      <td>0.000000</td>\n",
       "      <td>0.000000</td>\n",
       "      <td>0.000000</td>\n",
       "      <td>0.000000</td>\n",
       "      <td>0.000000</td>\n",
       "      <td>0.000000</td>\n",
       "      <td>0.000000</td>\n",
       "      <td>0.000000</td>\n",
       "      <td>0.000000</td>\n",
       "      <td>0.000000</td>\n",
       "      <td>0.000000</td>\n",
       "      <td>0.000000</td>\n",
       "      <td>0.000000</td>\n",
       "      <td>0.000000</td>\n",
       "      <td>0.000000</td>\n",
       "      <td>0.000000</td>\n",
       "      <td>0.000000</td>\n",
       "      <td>0.000000</td>\n",
       "      <td>0.00000</td>\n",
       "      <td>0.000000</td>\n",
       "      <td>0.000000</td>\n",
       "      <td>0.000000</td>\n",
       "      <td>0.000000</td>\n",
       "      <td>0.000000</td>\n",
       "      <td>0.000000</td>\n",
       "      <td>0.000000</td>\n",
       "      <td>0.000000</td>\n",
       "      <td>0.000000</td>\n",
       "      <td>0.000000</td>\n",
       "      <td>0.000000</td>\n",
       "      <td>0.000000</td>\n",
       "      <td>0.000000</td>\n",
       "      <td>0.000000</td>\n",
       "      <td>0.000000</td>\n",
       "      <td>0.000000</td>\n",
       "    </tr>\n",
       "    <tr>\n",
       "      <th>50%</th>\n",
       "      <td>89.000000</td>\n",
       "      <td>34.000000</td>\n",
       "      <td>2011.000000</td>\n",
       "      <td>3.526361</td>\n",
       "      <td>0.000000</td>\n",
       "      <td>0.000000</td>\n",
       "      <td>0.000000</td>\n",
       "      <td>0.000000</td>\n",
       "      <td>0.000000</td>\n",
       "      <td>0.000000</td>\n",
       "      <td>0.000000</td>\n",
       "      <td>0.000000</td>\n",
       "      <td>0.000000</td>\n",
       "      <td>0.000000</td>\n",
       "      <td>0.000000</td>\n",
       "      <td>0.000000</td>\n",
       "      <td>0.000000</td>\n",
       "      <td>0.000000</td>\n",
       "      <td>0.000000</td>\n",
       "      <td>0.000000</td>\n",
       "      <td>0.000000</td>\n",
       "      <td>0.000000</td>\n",
       "      <td>0.000000</td>\n",
       "      <td>0.000000</td>\n",
       "      <td>0.000000</td>\n",
       "      <td>0.000000</td>\n",
       "      <td>0.000000</td>\n",
       "      <td>0.000000</td>\n",
       "      <td>0.000000</td>\n",
       "      <td>0.000000</td>\n",
       "      <td>0.000000</td>\n",
       "      <td>0.000000</td>\n",
       "      <td>0.000000</td>\n",
       "      <td>0.000000</td>\n",
       "      <td>0.000000</td>\n",
       "      <td>0.000000</td>\n",
       "      <td>0.000000</td>\n",
       "      <td>0.000000</td>\n",
       "      <td>0.000000</td>\n",
       "      <td>0.000000</td>\n",
       "      <td>...</td>\n",
       "      <td>0.000000</td>\n",
       "      <td>0.000000</td>\n",
       "      <td>0.000000</td>\n",
       "      <td>0.000000</td>\n",
       "      <td>0.000000</td>\n",
       "      <td>0.000000</td>\n",
       "      <td>0.000000</td>\n",
       "      <td>0.000000</td>\n",
       "      <td>0.000000</td>\n",
       "      <td>0.000000</td>\n",
       "      <td>0.000000</td>\n",
       "      <td>0.000000</td>\n",
       "      <td>0.000000</td>\n",
       "      <td>0.000000</td>\n",
       "      <td>0.000000</td>\n",
       "      <td>0.000000</td>\n",
       "      <td>0.000000</td>\n",
       "      <td>0.000000</td>\n",
       "      <td>0.000000</td>\n",
       "      <td>0.000000</td>\n",
       "      <td>0.000000</td>\n",
       "      <td>0.000000</td>\n",
       "      <td>0.000000</td>\n",
       "      <td>0.00000</td>\n",
       "      <td>0.000000</td>\n",
       "      <td>0.000000</td>\n",
       "      <td>0.000000</td>\n",
       "      <td>0.000000</td>\n",
       "      <td>0.000000</td>\n",
       "      <td>0.000000</td>\n",
       "      <td>0.000000</td>\n",
       "      <td>0.000000</td>\n",
       "      <td>0.000000</td>\n",
       "      <td>0.000000</td>\n",
       "      <td>0.000000</td>\n",
       "      <td>0.000000</td>\n",
       "      <td>0.000000</td>\n",
       "      <td>0.000000</td>\n",
       "      <td>0.000000</td>\n",
       "      <td>0.000000</td>\n",
       "    </tr>\n",
       "    <tr>\n",
       "      <th>75%</th>\n",
       "      <td>91.000000</td>\n",
       "      <td>49.000000</td>\n",
       "      <td>2013.000000</td>\n",
       "      <td>3.891820</td>\n",
       "      <td>0.000000</td>\n",
       "      <td>0.000000</td>\n",
       "      <td>0.000000</td>\n",
       "      <td>0.000000</td>\n",
       "      <td>0.000000</td>\n",
       "      <td>0.000000</td>\n",
       "      <td>0.000000</td>\n",
       "      <td>0.000000</td>\n",
       "      <td>0.000000</td>\n",
       "      <td>0.000000</td>\n",
       "      <td>0.000000</td>\n",
       "      <td>0.000000</td>\n",
       "      <td>0.000000</td>\n",
       "      <td>0.000000</td>\n",
       "      <td>0.000000</td>\n",
       "      <td>0.000000</td>\n",
       "      <td>0.000000</td>\n",
       "      <td>0.000000</td>\n",
       "      <td>0.000000</td>\n",
       "      <td>0.000000</td>\n",
       "      <td>0.000000</td>\n",
       "      <td>0.000000</td>\n",
       "      <td>0.000000</td>\n",
       "      <td>0.000000</td>\n",
       "      <td>0.000000</td>\n",
       "      <td>0.000000</td>\n",
       "      <td>0.000000</td>\n",
       "      <td>0.000000</td>\n",
       "      <td>0.000000</td>\n",
       "      <td>0.000000</td>\n",
       "      <td>0.000000</td>\n",
       "      <td>0.000000</td>\n",
       "      <td>0.000000</td>\n",
       "      <td>0.000000</td>\n",
       "      <td>0.000000</td>\n",
       "      <td>0.000000</td>\n",
       "      <td>...</td>\n",
       "      <td>0.000000</td>\n",
       "      <td>0.000000</td>\n",
       "      <td>0.000000</td>\n",
       "      <td>0.000000</td>\n",
       "      <td>0.000000</td>\n",
       "      <td>0.000000</td>\n",
       "      <td>0.000000</td>\n",
       "      <td>0.000000</td>\n",
       "      <td>0.000000</td>\n",
       "      <td>0.000000</td>\n",
       "      <td>0.000000</td>\n",
       "      <td>0.000000</td>\n",
       "      <td>0.000000</td>\n",
       "      <td>0.000000</td>\n",
       "      <td>0.000000</td>\n",
       "      <td>0.000000</td>\n",
       "      <td>0.000000</td>\n",
       "      <td>0.000000</td>\n",
       "      <td>0.000000</td>\n",
       "      <td>0.000000</td>\n",
       "      <td>0.000000</td>\n",
       "      <td>0.000000</td>\n",
       "      <td>0.000000</td>\n",
       "      <td>0.00000</td>\n",
       "      <td>0.000000</td>\n",
       "      <td>0.000000</td>\n",
       "      <td>0.000000</td>\n",
       "      <td>0.000000</td>\n",
       "      <td>0.000000</td>\n",
       "      <td>0.000000</td>\n",
       "      <td>0.000000</td>\n",
       "      <td>0.000000</td>\n",
       "      <td>0.000000</td>\n",
       "      <td>0.000000</td>\n",
       "      <td>0.000000</td>\n",
       "      <td>0.000000</td>\n",
       "      <td>0.000000</td>\n",
       "      <td>0.000000</td>\n",
       "      <td>0.000000</td>\n",
       "      <td>0.000000</td>\n",
       "    </tr>\n",
       "    <tr>\n",
       "      <th>max</th>\n",
       "      <td>100.000000</td>\n",
       "      <td>2013.000000</td>\n",
       "      <td>2016.000000</td>\n",
       "      <td>7.607381</td>\n",
       "      <td>1.000000</td>\n",
       "      <td>1.000000</td>\n",
       "      <td>1.000000</td>\n",
       "      <td>1.000000</td>\n",
       "      <td>1.000000</td>\n",
       "      <td>1.000000</td>\n",
       "      <td>1.000000</td>\n",
       "      <td>1.000000</td>\n",
       "      <td>1.000000</td>\n",
       "      <td>1.000000</td>\n",
       "      <td>1.000000</td>\n",
       "      <td>1.000000</td>\n",
       "      <td>1.000000</td>\n",
       "      <td>1.000000</td>\n",
       "      <td>1.000000</td>\n",
       "      <td>1.000000</td>\n",
       "      <td>1.000000</td>\n",
       "      <td>1.000000</td>\n",
       "      <td>1.000000</td>\n",
       "      <td>1.000000</td>\n",
       "      <td>1.000000</td>\n",
       "      <td>1.000000</td>\n",
       "      <td>1.000000</td>\n",
       "      <td>1.000000</td>\n",
       "      <td>1.000000</td>\n",
       "      <td>1.000000</td>\n",
       "      <td>1.000000</td>\n",
       "      <td>1.000000</td>\n",
       "      <td>1.000000</td>\n",
       "      <td>1.000000</td>\n",
       "      <td>1.000000</td>\n",
       "      <td>1.000000</td>\n",
       "      <td>1.000000</td>\n",
       "      <td>1.000000</td>\n",
       "      <td>1.000000</td>\n",
       "      <td>1.000000</td>\n",
       "      <td>...</td>\n",
       "      <td>1.000000</td>\n",
       "      <td>1.000000</td>\n",
       "      <td>1.000000</td>\n",
       "      <td>1.000000</td>\n",
       "      <td>1.000000</td>\n",
       "      <td>1.000000</td>\n",
       "      <td>1.000000</td>\n",
       "      <td>1.000000</td>\n",
       "      <td>1.000000</td>\n",
       "      <td>1.000000</td>\n",
       "      <td>1.000000</td>\n",
       "      <td>1.000000</td>\n",
       "      <td>1.000000</td>\n",
       "      <td>1.000000</td>\n",
       "      <td>1.000000</td>\n",
       "      <td>1.000000</td>\n",
       "      <td>1.000000</td>\n",
       "      <td>1.000000</td>\n",
       "      <td>1.000000</td>\n",
       "      <td>1.000000</td>\n",
       "      <td>1.000000</td>\n",
       "      <td>1.000000</td>\n",
       "      <td>1.000000</td>\n",
       "      <td>1.00000</td>\n",
       "      <td>1.000000</td>\n",
       "      <td>1.000000</td>\n",
       "      <td>1.000000</td>\n",
       "      <td>1.000000</td>\n",
       "      <td>1.000000</td>\n",
       "      <td>1.000000</td>\n",
       "      <td>1.000000</td>\n",
       "      <td>1.000000</td>\n",
       "      <td>1.000000</td>\n",
       "      <td>1.000000</td>\n",
       "      <td>1.000000</td>\n",
       "      <td>1.000000</td>\n",
       "      <td>1.000000</td>\n",
       "      <td>1.000000</td>\n",
       "      <td>1.000000</td>\n",
       "      <td>1.000000</td>\n",
       "    </tr>\n",
       "  </tbody>\n",
       "</table>\n",
       "<p>8 rows × 4001 columns</p>\n",
       "</div>"
      ],
      "text/plain": [
       "             points         price       vintage      priceLog  \\\n",
       "count  33089.000000  33089.000000  33089.000000  33089.000000   \n",
       "mean      88.661640     39.865454   2010.502463      3.500614   \n",
       "std        3.266805     30.992979      3.569834      0.593992   \n",
       "min       80.000000      4.000000   1985.000000      1.386294   \n",
       "25%       86.000000     22.000000   2009.000000      3.091042   \n",
       "50%       89.000000     34.000000   2011.000000      3.526361   \n",
       "75%       91.000000     49.000000   2013.000000      3.891820   \n",
       "max      100.000000   2013.000000   2016.000000      7.607381   \n",
       "\n",
       "       Adelaida District  Alexander Valley     Alta Mesa  Amador County  \\\n",
       "count       33089.000000      33089.000000  33089.000000   33089.000000   \n",
       "mean            0.003324          0.023422      0.000272       0.011635   \n",
       "std             0.057562          0.151241      0.016490       0.107239   \n",
       "min             0.000000          0.000000      0.000000       0.000000   \n",
       "25%             0.000000          0.000000      0.000000       0.000000   \n",
       "50%             0.000000          0.000000      0.000000       0.000000   \n",
       "75%             0.000000          0.000000      0.000000       0.000000   \n",
       "max             1.000000          1.000000      1.000000       1.000000   \n",
       "\n",
       "        Amador-Napa  Antelope Valley of the California High Desert  \\\n",
       "count  33089.000000                                   33089.000000   \n",
       "mean       0.000060                                       0.000091   \n",
       "std        0.007774                                       0.009522   \n",
       "min        0.000000                                       0.000000   \n",
       "25%        0.000000                                       0.000000   \n",
       "50%        0.000000                                       0.000000   \n",
       "75%        0.000000                                       0.000000   \n",
       "max        1.000000                                       1.000000   \n",
       "\n",
       "       Arroyo Grande Valley   Arroyo Seco    Atlas Peak  Ballard Canyon  \\\n",
       "count          33089.000000  33089.000000  33089.000000    33089.000000   \n",
       "mean               0.004835      0.006316      0.002025        0.002388   \n",
       "std                0.069370      0.079225      0.044953        0.048804   \n",
       "min                0.000000      0.000000      0.000000        0.000000   \n",
       "25%                0.000000      0.000000      0.000000        0.000000   \n",
       "50%                0.000000      0.000000      0.000000        0.000000   \n",
       "75%                0.000000      0.000000      0.000000        0.000000   \n",
       "max                1.000000      1.000000      1.000000        1.000000   \n",
       "\n",
       "       Ben Lomond Mountain  Bennett Valley  Calaveras County    California  \\\n",
       "count         33089.000000    33089.000000      33089.000000  33089.000000   \n",
       "mean              0.000635        0.002236          0.002659      0.068905   \n",
       "std               0.025185        0.047238          0.051502      0.253296   \n",
       "min               0.000000        0.000000          0.000000      0.000000   \n",
       "25%               0.000000        0.000000          0.000000      0.000000   \n",
       "50%               0.000000        0.000000          0.000000      0.000000   \n",
       "75%               0.000000        0.000000          0.000000      0.000000   \n",
       "max               1.000000        1.000000          1.000000      1.000000   \n",
       "\n",
       "          Calistoga  Capay Valley  Carmel Valley      Carneros  \\\n",
       "count  33089.000000  33089.000000   33089.000000  33089.000000   \n",
       "mean       0.004443      0.000091       0.002871      0.029526   \n",
       "std        0.066505      0.009522       0.053506      0.169279   \n",
       "min        0.000000      0.000000       0.000000      0.000000   \n",
       "25%        0.000000      0.000000       0.000000      0.000000   \n",
       "50%        0.000000      0.000000       0.000000      0.000000   \n",
       "75%        0.000000      0.000000       0.000000      0.000000   \n",
       "max        1.000000      1.000000       1.000000      1.000000   \n",
       "\n",
       "       Carneros-Napa Valley  Central Coast    Chalk Hill       Chalone  \\\n",
       "count          33089.000000   33089.000000  33089.000000  33089.000000   \n",
       "mean               0.000695       0.021095      0.002659      0.002085   \n",
       "std                0.026356       0.143702      0.051502      0.045618   \n",
       "min                0.000000       0.000000      0.000000      0.000000   \n",
       "25%                0.000000       0.000000      0.000000      0.000000   \n",
       "50%                0.000000       0.000000      0.000000      0.000000   \n",
       "75%                0.000000       0.000000      0.000000      0.000000   \n",
       "max                1.000000       1.000000      1.000000      1.000000   \n",
       "\n",
       "       Chiles Valley  Cienega Valley    Clarksburg  Clements Hills  \\\n",
       "count   33089.000000    33089.000000  33089.000000    33089.000000   \n",
       "mean        0.000363        0.000635      0.003022        0.000484   \n",
       "std         0.019040        0.025185      0.054892        0.021985   \n",
       "min         0.000000        0.000000      0.000000        0.000000   \n",
       "25%         0.000000        0.000000      0.000000        0.000000   \n",
       "50%         0.000000        0.000000      0.000000        0.000000   \n",
       "75%         0.000000        0.000000      0.000000        0.000000   \n",
       "max         1.000000        1.000000      1.000000        1.000000   \n",
       "\n",
       "       Contra Costa County   Coombsville  Cucamonga Valley  \\\n",
       "count         33089.000000  33089.000000      33089.000000   \n",
       "mean              0.002206      0.001632          0.000272   \n",
       "std               0.046919      0.040365          0.016490   \n",
       "min               0.000000      0.000000          0.000000   \n",
       "25%               0.000000      0.000000          0.000000   \n",
       "50%               0.000000      0.000000          0.000000   \n",
       "75%               0.000000      0.000000          0.000000   \n",
       "max               1.000000      1.000000          1.000000   \n",
       "\n",
       "       Diamond Mountain District  Dry Creek Valley  Dunnigan Hills  \\\n",
       "count               33089.000000      33089.000000    33089.000000   \n",
       "mean                    0.004624          0.028166        0.001179   \n",
       "std                     0.067843          0.165451        0.034312   \n",
       "min                     0.000000          0.000000        0.000000   \n",
       "25%                     0.000000          0.000000        0.000000   \n",
       "50%                     0.000000          0.000000        0.000000   \n",
       "75%                     0.000000          0.000000        0.000000   \n",
       "max                     1.000000          1.000000        1.000000   \n",
       "\n",
       "        Edna Valley     El Dorado  El Dorado County  El Pomar District  ...  \\\n",
       "count  33089.000000  33089.000000      33089.000000       33089.000000  ...   \n",
       "mean       0.012209      0.009248          0.000604           0.000181  ...   \n",
       "std        0.109822      0.095721          0.024578           0.013465  ...   \n",
       "min        0.000000      0.000000          0.000000           0.000000  ...   \n",
       "25%        0.000000      0.000000          0.000000           0.000000  ...   \n",
       "50%        0.000000      0.000000          0.000000           0.000000  ...   \n",
       "75%        0.000000      0.000000          0.000000           0.000000  ...   \n",
       "max        1.000000      1.000000          1.000000           1.000000  ...   \n",
       "\n",
       "       Cabernet Sauvignon    Chardonnay        Merlot    Pinot Noir  \\\n",
       "count        33089.000000  33089.000000  33089.000000  33089.000000   \n",
       "mean             0.164858      0.147511      0.040074      0.188461   \n",
       "std              0.371058      0.354620      0.196135      0.391086   \n",
       "min              0.000000      0.000000      0.000000      0.000000   \n",
       "25%              0.000000      0.000000      0.000000      0.000000   \n",
       "50%              0.000000      0.000000      0.000000      0.000000   \n",
       "75%              0.000000      0.000000      0.000000      0.000000   \n",
       "max              1.000000      1.000000      1.000000      1.000000   \n",
       "\n",
       "          Red Blend  Sauvignon Blanc         Syrah     Zinfandel  \\\n",
       "count  33089.000000     33089.000000  33089.000000  33089.000000   \n",
       "mean       0.046450         0.047901      0.054248      0.073801   \n",
       "std        0.210462         0.213560      0.226509      0.261451   \n",
       "min        0.000000         0.000000      0.000000      0.000000   \n",
       "25%        0.000000         0.000000      0.000000      0.000000   \n",
       "50%        0.000000         0.000000      0.000000      0.000000   \n",
       "75%        0.000000         0.000000      0.000000      0.000000   \n",
       "max        1.000000         1.000000      1.000000      1.000000   \n",
       "\n",
       "              other          1985          1986          1987          1989  \\\n",
       "count  33089.000000  33089.000000  33089.000000  33089.000000  33089.000000   \n",
       "mean       0.236695      0.000030      0.000030      0.000030      0.000030   \n",
       "std        0.425060      0.005497      0.005497      0.005497      0.005497   \n",
       "min        0.000000      0.000000      0.000000      0.000000      0.000000   \n",
       "25%        0.000000      0.000000      0.000000      0.000000      0.000000   \n",
       "50%        0.000000      0.000000      0.000000      0.000000      0.000000   \n",
       "75%        0.000000      0.000000      0.000000      0.000000      0.000000   \n",
       "max        1.000000      1.000000      1.000000      1.000000      1.000000   \n",
       "\n",
       "               1990          1991          1992          1993          1994  \\\n",
       "count  33089.000000  33089.000000  33089.000000  33089.000000  33089.000000   \n",
       "mean       0.000030      0.000091      0.000121      0.000030      0.000272   \n",
       "std        0.005497      0.009522      0.010994      0.005497      0.016490   \n",
       "min        0.000000      0.000000      0.000000      0.000000      0.000000   \n",
       "25%        0.000000      0.000000      0.000000      0.000000      0.000000   \n",
       "50%        0.000000      0.000000      0.000000      0.000000      0.000000   \n",
       "75%        0.000000      0.000000      0.000000      0.000000      0.000000   \n",
       "max        1.000000      1.000000      1.000000      1.000000      1.000000   \n",
       "\n",
       "               1995          1996          1997          1998          1999  \\\n",
       "count  33089.000000  33089.000000  33089.000000  33089.000000  33089.000000   \n",
       "mean       0.000212      0.000393      0.005833      0.005712      0.006498   \n",
       "std        0.014543      0.019818      0.076151      0.075362      0.080347   \n",
       "min        0.000000      0.000000      0.000000      0.000000      0.000000   \n",
       "25%        0.000000      0.000000      0.000000      0.000000      0.000000   \n",
       "50%        0.000000      0.000000      0.000000      0.000000      0.000000   \n",
       "75%        0.000000      0.000000      0.000000      0.000000      0.000000   \n",
       "max        1.000000      1.000000      1.000000      1.000000      1.000000   \n",
       "\n",
       "              2000          2001          2002          2003          2004  \\\n",
       "count  33089.00000  33089.000000  33089.000000  33089.000000  33089.000000   \n",
       "mean       0.00677      0.004715      0.000907      0.002025      0.012633   \n",
       "std        0.08200      0.068502      0.030097      0.044953      0.111684   \n",
       "min        0.00000      0.000000      0.000000      0.000000      0.000000   \n",
       "25%        0.00000      0.000000      0.000000      0.000000      0.000000   \n",
       "50%        0.00000      0.000000      0.000000      0.000000      0.000000   \n",
       "75%        0.00000      0.000000      0.000000      0.000000      0.000000   \n",
       "max        1.00000      1.000000      1.000000      1.000000      1.000000   \n",
       "\n",
       "               2005          2006          2007          2008          2009  \\\n",
       "count  33089.000000  33089.000000  33089.000000  33089.000000  33089.000000   \n",
       "mean       0.032246      0.049745      0.058116      0.059960      0.081870   \n",
       "std        0.176656      0.217420      0.233966      0.237415      0.274171   \n",
       "min        0.000000      0.000000      0.000000      0.000000      0.000000   \n",
       "25%        0.000000      0.000000      0.000000      0.000000      0.000000   \n",
       "50%        0.000000      0.000000      0.000000      0.000000      0.000000   \n",
       "75%        0.000000      0.000000      0.000000      0.000000      0.000000   \n",
       "max        1.000000      1.000000      1.000000      1.000000      1.000000   \n",
       "\n",
       "               2010          2011          2012          2013          2014  \\\n",
       "count  33089.000000  33089.000000  33089.000000  33089.000000  33089.000000   \n",
       "mean       0.099912      0.086947      0.140077      0.151440      0.122458   \n",
       "std        0.299888      0.281762      0.347072      0.358483      0.327819   \n",
       "min        0.000000      0.000000      0.000000      0.000000      0.000000   \n",
       "25%        0.000000      0.000000      0.000000      0.000000      0.000000   \n",
       "50%        0.000000      0.000000      0.000000      0.000000      0.000000   \n",
       "75%        0.000000      0.000000      0.000000      0.000000      0.000000   \n",
       "max        1.000000      1.000000      1.000000      1.000000      1.000000   \n",
       "\n",
       "               2015          2016  \n",
       "count  33089.000000  33089.000000  \n",
       "mean       0.053613      0.017256  \n",
       "std        0.225256      0.130228  \n",
       "min        0.000000      0.000000  \n",
       "25%        0.000000      0.000000  \n",
       "50%        0.000000      0.000000  \n",
       "75%        0.000000      0.000000  \n",
       "max        1.000000      1.000000  \n",
       "\n",
       "[8 rows x 4001 columns]"
      ]
     },
     "execution_count": 56,
     "metadata": {},
     "output_type": "execute_result"
    }
   ],
   "source": [
    "# getting the dummy variables\n",
    "region = pd.get_dummies(df_org['region_1'])\n",
    "region2 = pd.get_dummies(df_org['region_2'])\n",
    "winery= pd.get_dummies(df_org.winery)\n",
    "variety= pd.get_dummies(df_org.variety)\n",
    "vintage= pd.get_dummies(df_org.vintage)\n",
    "\n",
    "df=df_org.join(region,rsuffix='_region')\n",
    "df=df.join(region,rsuffix='_region2')\n",
    "df=df.join(winery,rsuffix='_winery')\n",
    "df=df.join(variety)\n",
    "df=df.join(vintage)\n",
    "\n",
    "df.describe()"
   ]
  },
  {
   "cell_type": "code",
   "execution_count": 57,
   "metadata": {},
   "outputs": [
    {
     "data": {
      "text/plain": [
       "(33089, 4007)"
      ]
     },
     "execution_count": 57,
     "metadata": {},
     "output_type": "execute_result"
    }
   ],
   "source": [
    "# check the shape of the final dataframe (33982, 4214)\n",
    "df.shape"
   ]
  },
  {
   "cell_type": "markdown",
   "metadata": {},
   "source": [
    "There are 4214 columns. I might reduce the dimensions in the second half of the project. But we'll use this dataframe for now."
   ]
  },
  {
   "cell_type": "markdown",
   "metadata": {},
   "source": [
    "## 3. Explore the data"
   ]
  },
  {
   "cell_type": "code",
   "execution_count": 16,
   "metadata": {},
   "outputs": [
    {
     "data": {
      "text/plain": [
       "<matplotlib.axes._subplots.AxesSubplot at 0x1856226db00>"
      ]
     },
     "execution_count": 16,
     "metadata": {},
     "output_type": "execute_result"
    },
    {
     "data": {
      "image/png": "[encoded data removed]",
      "text/plain": [
       "<Figure size 432x288 with 1 Axes>"
      ]
     },
     "metadata": {
      "needs_background": "light"
     },
     "output_type": "display_data"
    }
   ],
   "source": [
    "df.price.plot('hist')"
   ]
  },
  {
   "cell_type": "code",
   "execution_count": 17,
   "metadata": {},
   "outputs": [
    {
     "data": {
      "text/plain": [
       "<matplotlib.axes._subplots.AxesSubplot at 0x185668137f0>"
      ]
     },
     "execution_count": 17,
     "metadata": {},
     "output_type": "execute_result"
    },
    {
     "data": {
      "image/png": "[encoded data removed]",
      "text/plain": [
       "<Figure size 432x288 with 1 Axes>"
      ]
     },
     "metadata": {
      "needs_background": "light"
     },
     "output_type": "display_data"
    }
   ],
   "source": [
    "df[df.price < 200].price.plot(kind='hist')"
   ]
  },
  {
   "cell_type": "markdown",
   "metadata": {},
   "source": [
    "The price column is skewed. What about log(price)?"
   ]
  },
  {
   "cell_type": "code",
   "execution_count": 18,
   "metadata": {},
   "outputs": [
    {
     "data": {
      "text/plain": [
       "<matplotlib.axes._subplots.AxesSubplot at 0x18562c5b1d0>"
      ]
     },
     "execution_count": 18,
     "metadata": {},
     "output_type": "execute_result"
    },
    {
     "data": {
      "image/png": "[encoded data removed]",
      "text/plain": [
       "<Figure size 432x288 with 1 Axes>"
      ]
     },
     "metadata": {
      "needs_background": "light"
     },
     "output_type": "display_data"
    }
   ],
   "source": [
    "df.priceLog.plot('hist')"
   ]
  },
  {
   "cell_type": "markdown",
   "metadata": {},
   "source": [
    "Log of price is more normally distributed. That's why we are going to use log(price) as the target variable."
   ]
  },
  {
   "cell_type": "code",
   "execution_count": 19,
   "metadata": {},
   "outputs": [
    {
     "data": {
      "text/plain": [
       "(0, 500)"
      ]
     },
     "execution_count": 19,
     "metadata": {},
     "output_type": "execute_result"
    },
    {
     "data": {
      "image/png": "[encoded data removed]",
      "text/plain": [
       "<Figure size 432x288 with 1 Axes>"
      ]
     },
     "metadata": {
      "needs_background": "light"
     },
     "output_type": "display_data"
    }
   ],
   "source": [
    "# visualize the relationship between points nad price\n",
    "p=sns.stripplot(x='points',y='price', data=df, size=4, jitter=True, alpha = 0.4)\n",
    "p.set_ylim([0,500])"
   ]
  },
  {
   "cell_type": "code",
   "execution_count": 20,
   "metadata": {},
   "outputs": [
    {
     "data": {
      "text/plain": [
       "<matplotlib.axes._subplots.AxesSubplot at 0x1856113e7b8>"
      ]
     },
     "execution_count": 20,
     "metadata": {},
     "output_type": "execute_result"
    },
    {
     "data": {
      "text/plain": [
       "(array([0, 1, 2, 3, 4, 5, 6, 7, 8]), <a list of 9 Text xticklabel objects>)"
      ]
     },
     "execution_count": 20,
     "metadata": {},
     "output_type": "execute_result"
    },
    {
     "data": {
      "text/plain": [
       "(0, 250)"
      ]
     },
     "execution_count": 20,
     "metadata": {},
     "output_type": "execute_result"
    },
    {
     "data": {
      "image/png": "[encoded data removed]",
      "text/plain": [
       "<Figure size 432x288 with 1 Axes>"
      ]
     },
     "metadata": {
      "needs_background": "light"
     },
     "output_type": "display_data"
    }
   ],
   "source": [
    "# visualize the relationship between variety nad price\n",
    "sns.stripplot(x='variety',y='price', data=df, size=4, jitter=True, alpha = 0.4)\n",
    "plt.xticks(x='variety', rotation='40')\n",
    "plt.ylim(0,250)"
   ]
  },
  {
   "cell_type": "code",
   "execution_count": 21,
   "metadata": {},
   "outputs": [
    {
     "data": {
      "text/plain": [
       "<matplotlib.axes._subplots.AxesSubplot at 0x18565e3af28>"
      ]
     },
     "execution_count": 21,
     "metadata": {},
     "output_type": "execute_result"
    },
    {
     "data": {
      "text/plain": [
       "(array([0, 1, 2, 3, 4, 5, 6, 7, 8]), <a list of 9 Text xticklabel objects>)"
      ]
     },
     "execution_count": 21,
     "metadata": {},
     "output_type": "execute_result"
    },
    {
     "data": {
      "text/plain": [
       "(0, 250)"
      ]
     },
     "execution_count": 21,
     "metadata": {},
     "output_type": "execute_result"
    },
    {
     "data": {
      "image/png": "[encoded data removed]",
      "text/plain": [
       "<Figure size 432x288 with 1 Axes>"
      ]
     },
     "metadata": {
      "needs_background": "light"
     },
     "output_type": "display_data"
    }
   ],
   "source": [
    "# visualize the relationship between region2 nad price\n",
    "sns.stripplot(x='region_2',y='price', data=df_org, size=4, jitter=True, alpha = 0.4)\n",
    "plt.xticks(x='variety', rotation='40')\n",
    "plt.ylim(0,250)"
   ]
  },
  {
   "cell_type": "markdown",
   "metadata": {},
   "source": [
    "Looks like the relationship between any single dependent variable with 'price' is not clear."
   ]
  },
  {
   "cell_type": "markdown",
   "metadata": {},
   "source": [
    "## 4. Modeling phase"
   ]
  },
  {
   "cell_type": "code",
   "execution_count": 58,
   "metadata": {},
   "outputs": [
    {
     "data": {
      "text/plain": [
       "Index(['description',      'points',       'price',    'region_1',\n",
       "          'region_2',       'title',     'variety',      'winery',\n",
       "           'vintage',    'priceLog',\n",
       "       ...\n",
       "                2007,          2008,          2009,          2010,\n",
       "                2011,          2012,          2013,          2014,\n",
       "                2015,          2016],\n",
       "      dtype='object', length=4007)"
      ]
     },
     "execution_count": 58,
     "metadata": {},
     "output_type": "execute_result"
    }
   ],
   "source": [
    "# Get all the columns\n",
    "# Select explanatory features and outcome features; Store them in X and y\n",
    "df.columns\n",
    "X=df.drop(['price','winery','vintage','region_1','region_2',\n",
    "           'variety','title','description'], axis=1)\n",
    "y=df.priceLog"
   ]
  },
  {
   "cell_type": "code",
   "execution_count": 59,
   "metadata": {},
   "outputs": [],
   "source": [
    "# Get training and test sets\n",
    "\n",
    "X_train, X_test, y_train, y_test = train_test_split(X, y, test_size=0.30, random_state=42)"
   ]
  },
  {
   "cell_type": "code",
   "execution_count": 60,
   "metadata": {},
   "outputs": [
    {
     "data": {
      "text/plain": [
       "(23162, 3999)"
      ]
     },
     "execution_count": 60,
     "metadata": {},
     "output_type": "execute_result"
    }
   ],
   "source": [
    "# Get the number of observations\n",
    "X_train.shape\n",
    "ncol=X_train.shape[1]"
   ]
  },
  {
   "cell_type": "markdown",
   "metadata": {},
   "source": [
    " Saving the features to a csv file (not used)\n",
    "np.savetxt(\"explanatory.csv\", X, delimiter=\",\")"
   ]
  },
  {
   "cell_type": "markdown",
   "metadata": {},
   "source": [
    " Saving the target column to a csv file (not used)\n",
    "np.savetxt(\"target.csv\", y, delimiter=\",\")"
   ]
  },
  {
   "cell_type": "markdown",
   "metadata": {},
   "source": [
    "### 4.1 Neural Network"
   ]
  },
  {
   "cell_type": "code",
   "execution_count": 25,
   "metadata": {},
   "outputs": [
    {
     "name": "stderr",
     "output_type": "stream",
     "text": [
      "Using TensorFlow backend.\n"
     ]
    }
   ],
   "source": [
    "from keras.layers import Dense\n",
    "from keras.models import Sequential"
   ]
  },
  {
   "cell_type": "code",
   "execution_count": 29,
   "metadata": {},
   "outputs": [
    {
     "name": "stdout",
     "output_type": "stream",
     "text": [
      "_________________________________________________________________\n",
      "Layer (type)                 Output Shape              Param #   \n",
      "=================================================================\n",
      "dense_9 (Dense)              (None, 100)               420700    \n",
      "_________________________________________________________________\n",
      "dense_10 (Dense)             (None, 100)               10100     \n",
      "_________________________________________________________________\n",
      "dense_11 (Dense)             (None, 100)               10100     \n",
      "_________________________________________________________________\n",
      "dense_12 (Dense)             (None, 1)                 101       \n",
      "=================================================================\n",
      "Total params: 441,001\n",
      "Trainable params: 441,001\n",
      "Non-trainable params: 0\n",
      "_________________________________________________________________\n"
     ]
    }
   ],
   "source": [
    "# Building the structure of the neural network\n",
    "# two hidden layers, with 100 nodes each layer\n",
    "# loss function is MSE and optimizer is adam\n",
    "# Adam - source: https://github.com/keras-team/keras/blob/master/keras/optimizers.py#L436\n",
    "act='selu'\n",
    "num=100\n",
    "nn1 = Sequential()\n",
    "nn1.add(Dense(num,activation=act, input_shape = (ncol,)))\n",
    "nn1.add(Dense(num, activation=act))\n",
    "nn1.add(Dense(num, activation=act))\n",
    "nn1.add(Dense(1, activation=act)) \n",
    "nn1.compile(loss='mse', optimizer='adam')\n",
    "nn1.summary()"
   ]
  },
  {
   "cell_type": "code",
   "execution_count": 30,
   "metadata": {},
   "outputs": [
    {
     "name": "stdout",
     "output_type": "stream",
     "text": [
      "Train on 23787 samples, validate on 10195 samples\n",
      "Epoch 1/20\n",
      "23787/23787 [==============================] - 16s 680us/step - loss: 0.1432 - val_loss: 0.0137\n",
      "Epoch 2/20\n",
      "23787/23787 [==============================] - 14s 602us/step - loss: 0.0147 - val_loss: 0.0111\n",
      "Epoch 3/20\n",
      "23787/23787 [==============================] - 15s 644us/step - loss: 0.0093 - val_loss: 0.0102\n",
      "Epoch 4/20\n",
      "23787/23787 [==============================] - 15s 641us/step - loss: 0.0092 - val_loss: 0.0058\n",
      "Epoch 5/20\n",
      "23787/23787 [==============================] - 16s 666us/step - loss: 0.0073 - val_loss: 0.0048\n",
      "Epoch 6/20\n",
      "23787/23787 [==============================] - 16s 677us/step - loss: 0.0076 - val_loss: 0.0086\n",
      "Epoch 7/20\n",
      "23787/23787 [==============================] - 16s 665us/step - loss: 0.0063 - val_loss: 0.0024\n",
      "Epoch 8/20\n",
      "23787/23787 [==============================] - 16s 652us/step - loss: 0.0056 - val_loss: 0.0022\n",
      "Epoch 9/20\n",
      "23787/23787 [==============================] - 16s 667us/step - loss: 0.0047 - val_loss: 0.0023\n",
      "Epoch 10/20\n",
      "23787/23787 [==============================] - 16s 655us/step - loss: 0.0055 - val_loss: 0.0020\n",
      "Epoch 11/20\n",
      "23787/23787 [==============================] - 15s 643us/step - loss: 0.0054 - val_loss: 0.0026\n",
      "Epoch 12/20\n",
      "23787/23787 [==============================] - 16s 664us/step - loss: 0.0024 - val_loss: 0.0035\n",
      "Epoch 13/20\n",
      "23787/23787 [==============================] - 15s 628us/step - loss: 0.0033 - val_loss: 0.0091\n",
      "Epoch 14/20\n",
      "23787/23787 [==============================] - 15s 637us/step - loss: 0.0039 - val_loss: 0.0012\n",
      "Epoch 15/20\n",
      "23787/23787 [==============================] - 15s 638us/step - loss: 0.0031 - val_loss: 0.0089\n",
      "Epoch 16/20\n",
      "23787/23787 [==============================] - 16s 657us/step - loss: 0.0050 - val_loss: 0.0033\n",
      "Epoch 17/20\n",
      "23787/23787 [==============================] - 15s 635us/step - loss: 0.0028 - val_loss: 0.0016\n",
      "Epoch 18/20\n",
      "23787/23787 [==============================] - 15s 645us/step - loss: 0.0033 - val_loss: 0.0018\n",
      "Epoch 19/20\n",
      "23787/23787 [==============================] - 16s 654us/step - loss: 0.0025 - val_loss: 0.0017\n",
      "Epoch 20/20\n",
      "23787/23787 [==============================] - 16s 666us/step - loss: 0.0016 - val_loss: 0.0010\n"
     ]
    }
   ],
   "source": [
    "# fit the model and get test results: epochs = 20, batch size = 50.\n",
    "# it might take 5 minutes to run the codes\n",
    "history_nn1 = nn1.fit(X_train,\n",
    "                    y_train,\n",
    "                    epochs=20,\n",
    "                    batch_size=50,\n",
    "                    validation_data=(X_test, y_test))"
   ]
  },
  {
   "cell_type": "markdown",
   "metadata": {},
   "source": [
    "### Discuss the results"
   ]
  },
  {
   "cell_type": "code",
   "execution_count": 31,
   "metadata": {},
   "outputs": [
    {
     "data": {
      "text/plain": [
       "[<matplotlib.lines.Line2D at 0x185325d0f60>]"
      ]
     },
     "execution_count": 31,
     "metadata": {},
     "output_type": "execute_result"
    },
    {
     "data": {
      "text/plain": [
       "[<matplotlib.lines.Line2D at 0x185327c9da0>]"
      ]
     },
     "execution_count": 31,
     "metadata": {},
     "output_type": "execute_result"
    },
    {
     "data": {
      "text/plain": [
       "Text(0.5, 1.0, 'Training and test loss')"
      ]
     },
     "execution_count": 31,
     "metadata": {},
     "output_type": "execute_result"
    },
    {
     "data": {
      "text/plain": [
       "Text(0.5, 0, 'Epochs')"
      ]
     },
     "execution_count": 31,
     "metadata": {},
     "output_type": "execute_result"
    },
    {
     "data": {
      "text/plain": [
       "Text(0, 0.5, 'Loss')"
      ]
     },
     "execution_count": 31,
     "metadata": {},
     "output_type": "execute_result"
    },
    {
     "data": {
      "text/plain": [
       "<matplotlib.legend.Legend at 0x185327e36a0>"
      ]
     },
     "execution_count": 31,
     "metadata": {},
     "output_type": "execute_result"
    },
    {
     "data": {
      "image/png": "[encoded data removed]",
      "text/plain": [
       "<Figure size 432x288 with 1 Axes>"
      ]
     },
     "metadata": {
      "needs_background": "light"
     },
     "output_type": "display_data"
    }
   ],
   "source": [
    "# get the learning curve\n",
    "loss = history_nn1.history['loss']\n",
    "val_loss = history_nn1.history['val_loss']\n",
    "epochs = range(1, len(loss) + 1);\n",
    "plt.plot(epochs, loss, 'b', label='Training loss')\n",
    "plt.plot(epochs, val_loss, 'r', label='Test loss')\n",
    "plt.title('Training and test loss')\n",
    "plt.xlabel('Epochs')\n",
    "plt.ylabel('Loss')\n",
    "plt.legend()\n",
    "plt.show()"
   ]
  },
  {
   "cell_type": "code",
   "execution_count": 32,
   "metadata": {},
   "outputs": [
    {
     "data": {
      "text/plain": [
       "[<matplotlib.lines.Line2D at 0x1853266eb70>]"
      ]
     },
     "execution_count": 32,
     "metadata": {},
     "output_type": "execute_result"
    },
    {
     "data": {
      "text/plain": [
       "[<matplotlib.lines.Line2D at 0x1853263dd68>]"
      ]
     },
     "execution_count": 32,
     "metadata": {},
     "output_type": "execute_result"
    },
    {
     "data": {
      "text/plain": [
       "Text(0.5, 1.0, 'Training and test loss')"
      ]
     },
     "execution_count": 32,
     "metadata": {},
     "output_type": "execute_result"
    },
    {
     "data": {
      "text/plain": [
       "Text(0.5, 0, 'Epochs')"
      ]
     },
     "execution_count": 32,
     "metadata": {},
     "output_type": "execute_result"
    },
    {
     "data": {
      "text/plain": [
       "Text(0, 0.5, 'Loss')"
      ]
     },
     "execution_count": 32,
     "metadata": {},
     "output_type": "execute_result"
    },
    {
     "data": {
      "text/plain": [
       "<matplotlib.legend.Legend at 0x1853266ef28>"
      ]
     },
     "execution_count": 32,
     "metadata": {},
     "output_type": "execute_result"
    },
    {
     "data": {
      "text/plain": [
       "(0, 0.02)"
      ]
     },
     "execution_count": 32,
     "metadata": {},
     "output_type": "execute_result"
    },
    {
     "data": {
      "text/plain": [
       "(5, 20)"
      ]
     },
     "execution_count": 32,
     "metadata": {},
     "output_type": "execute_result"
    },
    {
     "data": {
      "image/png": "[encoded data removed]",
      "text/plain": [
       "<Figure size 432x288 with 1 Axes>"
      ]
     },
     "metadata": {
      "needs_background": "light"
     },
     "output_type": "display_data"
    }
   ],
   "source": [
    "# Have a closer look at epochs after 5\n",
    "# get the learning curve\n",
    "loss = history_nn1.history['loss']\n",
    "val_loss = history_nn1.history['val_loss']\n",
    "\n",
    "epochs = range(1, len(loss) + 1)\n",
    "\n",
    "plt.plot(epochs, loss, 'b', label='Training loss');\n",
    "plt.plot(epochs, val_loss, 'r', label='Test loss');\n",
    "plt.title('Training and test loss');\n",
    "plt.xlabel('Epochs');\n",
    "plt.ylabel('Loss');\n",
    "plt.legend()\n",
    "plt.ylim(0,0.02);\n",
    "plt.xlim(5,20);\n",
    "plt.show()"
   ]
  },
  {
   "cell_type": "markdown",
   "metadata": {},
   "source": [
    "Looks like the losses are not very steady. But the good thing is the training and test losses are very close even after a close scrutiny. We can say this model is not overfitting or underfitting.\n",
    "<br>\n",
    "<br>\n",
    "It's very interesting to see that test loss is actually lower than training loss sometimes. One explanation is that training set has more 'outliers' due to the large volume of data.\n",
    "<br>\n",
    "<br>\n",
    "Let's plot the comparion between the predicted value and true/observed value of price."
   ]
  },
  {
   "cell_type": "code",
   "execution_count": 33,
   "metadata": {},
   "outputs": [
    {
     "data": {
      "text/plain": [
       "<Figure size 800x400 with 0 Axes>"
      ]
     },
     "execution_count": 33,
     "metadata": {},
     "output_type": "execute_result"
    },
    {
     "data": {
      "text/plain": [
       "<matplotlib.axes._subplots.AxesSubplot at 0x18532688c88>"
      ]
     },
     "execution_count": 33,
     "metadata": {},
     "output_type": "execute_result"
    },
    {
     "data": {
      "text/plain": [
       "<matplotlib.collections.PathCollection at 0x185326a4a90>"
      ]
     },
     "execution_count": 33,
     "metadata": {},
     "output_type": "execute_result"
    },
    {
     "data": {
      "text/plain": [
       "Text(0.5, 0, 'predicted log price')"
      ]
     },
     "execution_count": 33,
     "metadata": {},
     "output_type": "execute_result"
    },
    {
     "data": {
      "text/plain": [
       "Text(0, 0.5, 'observed log price')"
      ]
     },
     "execution_count": 33,
     "metadata": {},
     "output_type": "execute_result"
    },
    {
     "data": {
      "text/plain": [
       "Text(0.5, 1.0, 'predicted log price vs real log price - test set')"
      ]
     },
     "execution_count": 33,
     "metadata": {},
     "output_type": "execute_result"
    },
    {
     "data": {
      "text/plain": [
       "[<matplotlib.lines.Line2D at 0x185326ccac8>]"
      ]
     },
     "execution_count": 33,
     "metadata": {},
     "output_type": "execute_result"
    },
    {
     "data": {
      "text/plain": [
       "<matplotlib.axes._subplots.AxesSubplot at 0x185326cc9b0>"
      ]
     },
     "execution_count": 33,
     "metadata": {},
     "output_type": "execute_result"
    },
    {
     "data": {
      "text/plain": [
       "<matplotlib.collections.PathCollection at 0x18532704cf8>"
      ]
     },
     "execution_count": 33,
     "metadata": {},
     "output_type": "execute_result"
    },
    {
     "data": {
      "text/plain": [
       "[<matplotlib.lines.Line2D at 0x1853270d0b8>]"
      ]
     },
     "execution_count": 33,
     "metadata": {},
     "output_type": "execute_result"
    },
    {
     "data": {
      "text/plain": [
       "Text(0.5, 0, 'predicted price')"
      ]
     },
     "execution_count": 33,
     "metadata": {},
     "output_type": "execute_result"
    },
    {
     "data": {
      "text/plain": [
       "Text(0, 0.5, 'observed price')"
      ]
     },
     "execution_count": 33,
     "metadata": {},
     "output_type": "execute_result"
    },
    {
     "data": {
      "text/plain": [
       "Text(0.5, 1.0, 'predicted price vs real price - test set')"
      ]
     },
     "execution_count": 33,
     "metadata": {},
     "output_type": "execute_result"
    },
    {
     "data": {
      "image/png": "[encoded data removed]",
      "text/plain": [
       "<Figure size 800x400 with 2 Axes>"
      ]
     },
     "metadata": {},
     "output_type": "display_data"
    }
   ],
   "source": [
    "from matplotlib.pyplot import figure\n",
    "figure(num=None, figsize=(10,5), dpi=80, facecolor='w', edgecolor='k')\n",
    "\n",
    "# Getting the 'Q-Q' plot between predicted log price and real log price \n",
    "plt.subplot(1,2,1)\n",
    "plt.scatter(nn1.predict(X_test),y_test,s=20,alpha=0.4, c='r')\n",
    "plt.xlabel('predicted log price')\n",
    "plt.ylabel('observed log price')\n",
    "plt.title('predicted log price vs real log price - test set')\n",
    "ident = [0.0, 10.0]\n",
    "plt.plot(ident,ident)\n",
    "\n",
    "# Getting the 'Q-Q' plot between predicted price and real price\n",
    "plt.subplot(1,2,2)\n",
    "plt.scatter(np.exp(nn1.predict(X_test)),np.exp(y_test),s=20,c='r', alpha=0.4)\n",
    "ident = [0.0, 2000.0]\n",
    "plt.plot(ident,ident)\n",
    "plt.xlabel('predicted price')\n",
    "plt.ylabel('observed price')\n",
    "plt.title('predicted price vs real price - test set')\n",
    "plt.show()"
   ]
  },
  {
   "cell_type": "markdown",
   "metadata": {},
   "source": [
    "The model did a good job predicting the price log, and therefore, predicting the price. Most of the points fall on the diagnol line.\n",
    "<br>\n",
    "<br>\n",
    "And the errors are evenly distributed along both sides of the diagnol line. We can then check how errors in the test set are distributed by plotting the errors against true price value."
   ]
  },
  {
   "cell_type": "code",
   "execution_count": 34,
   "metadata": {},
   "outputs": [],
   "source": [
    "# calculating the error in the test set\n",
    "price_pred=np.exp(nn1.predict(X_test))\n",
    "error = price_pred[:,0] - np.exp(y_test)"
   ]
  },
  {
   "cell_type": "code",
   "execution_count": 35,
   "metadata": {},
   "outputs": [
    {
     "data": {
      "text/plain": [
       "<Figure size 800x400 with 0 Axes>"
      ]
     },
     "execution_count": 35,
     "metadata": {},
     "output_type": "execute_result"
    },
    {
     "data": {
      "text/plain": [
       "<matplotlib.axes._subplots.AxesSubplot at 0x18532f999e8>"
      ]
     },
     "execution_count": 35,
     "metadata": {},
     "output_type": "execute_result"
    },
    {
     "data": {
      "text/plain": [
       "<matplotlib.collections.PathCollection at 0x18532fc4358>"
      ]
     },
     "execution_count": 35,
     "metadata": {},
     "output_type": "execute_result"
    },
    {
     "data": {
      "text/plain": [
       "Text(0.5, 0, 'observed price')"
      ]
     },
     "execution_count": 35,
     "metadata": {},
     "output_type": "execute_result"
    },
    {
     "data": {
      "text/plain": [
       "Text(0, 0.5, 'prediction error')"
      ]
     },
     "execution_count": 35,
     "metadata": {},
     "output_type": "execute_result"
    },
    {
     "data": {
      "text/plain": [
       "Text(0.5, 1.0, 'prediction error ~ real price')"
      ]
     },
     "execution_count": 35,
     "metadata": {},
     "output_type": "execute_result"
    },
    {
     "data": {
      "text/plain": [
       "<matplotlib.lines.Line2D at 0x18532f99eb8>"
      ]
     },
     "execution_count": 35,
     "metadata": {},
     "output_type": "execute_result"
    },
    {
     "data": {
      "text/plain": [
       "<matplotlib.axes._subplots.AxesSubplot at 0x18532fabc88>"
      ]
     },
     "execution_count": 35,
     "metadata": {},
     "output_type": "execute_result"
    },
    {
     "data": {
      "text/plain": [
       "<matplotlib.collections.PathCollection at 0x18532fc4b00>"
      ]
     },
     "execution_count": 35,
     "metadata": {},
     "output_type": "execute_result"
    },
    {
     "data": {
      "text/plain": [
       "Text(0.5, 0, 'observed price')"
      ]
     },
     "execution_count": 35,
     "metadata": {},
     "output_type": "execute_result"
    },
    {
     "data": {
      "text/plain": [
       "Text(0, 0.5, 'prediction error')"
      ]
     },
     "execution_count": 35,
     "metadata": {},
     "output_type": "execute_result"
    },
    {
     "data": {
      "text/plain": [
       "Text(0.5, 1.0, 'prediction error ($) ~ real price, zoomed in low price range')"
      ]
     },
     "execution_count": 35,
     "metadata": {},
     "output_type": "execute_result"
    },
    {
     "data": {
      "text/plain": [
       "<matplotlib.lines.Line2D at 0x18532ea87f0>"
      ]
     },
     "execution_count": 35,
     "metadata": {},
     "output_type": "execute_result"
    },
    {
     "data": {
      "text/plain": [
       "(-50, 25)"
      ]
     },
     "execution_count": 35,
     "metadata": {},
     "output_type": "execute_result"
    },
    {
     "data": {
      "text/plain": [
       "(0, 200)"
      ]
     },
     "execution_count": 35,
     "metadata": {},
     "output_type": "execute_result"
    },
    {
     "data": {
      "image/png": "[encoded data removed]",
      "text/plain": [
       "<Figure size 800x400 with 2 Axes>"
      ]
     },
     "metadata": {},
     "output_type": "display_data"
    }
   ],
   "source": [
    "figure(num=None, figsize=(10,5), dpi=80, facecolor='w', edgecolor='k')\n",
    "\n",
    "plt.subplot(1,2,1)\n",
    "plt.scatter(np.exp(y_test),error,s=10,c='g', alpha=0.3)\n",
    "plt.xlabel('observed price')\n",
    "plt.ylabel('prediction error')\n",
    "plt.title('prediction error ~ real price')\n",
    "plt.axhline(y=0, color='r', linestyle='-',linewidth=0.3)\n",
    "\n",
    "plt.subplot(1,2,2)\n",
    "plt.scatter(np.exp(y_test),error,s=10,c='g', alpha=0.3)\n",
    "plt.xlabel('observed price')\n",
    "plt.ylabel('prediction error')\n",
    "plt.title('prediction error ~ real price, zoomed in low price range')\n",
    "plt.axhline(y=0, color='r', linestyle='-',linewidth=0.3)\n",
    "plt.ylim(-50,25)\n",
    "plt.xlim(0,200)\n",
    "plt.show()"
   ]
  },
  {
   "cell_type": "markdown",
   "metadata": {},
   "source": [
    "It's clear that the model suffers from heteroskedasticity. \n",
    "We'll need to bring in more features to solve the issue.\n",
    "\n",
    "<br>\n",
    "<br>\n",
    "Let's quickly calculate the R square of this neural network."
   ]
  },
  {
   "cell_type": "code",
   "execution_count": 36,
   "metadata": {},
   "outputs": [
    {
     "data": {
      "text/plain": [
       "0.9957523078179463"
      ]
     },
     "execution_count": 36,
     "metadata": {},
     "output_type": "execute_result"
    },
    {
     "data": {
      "text/plain": [
       "0.9933129015266837"
      ]
     },
     "execution_count": 36,
     "metadata": {},
     "output_type": "execute_result"
    }
   ],
   "source": [
    "# Getting test set R^2 of the neural network model\n",
    "mae_nn1=mean_absolute_error(np.exp(y_test),np.exp(model.predict(X_test)))\n",
    "r2_nn1=r2_score(np.exp(y_test),np.exp(model.predict(X_test)))"
   ]
  },
  {
   "cell_type": "markdown",
   "metadata": {},
   "source": [
    "More than 99% of the variations in price can be explained by the model.\n",
    "And on average the prediction error is one dollar.\n",
    "<br>\n",
    "This is a good model!"
   ]
  },
  {
   "cell_type": "markdown",
   "metadata": {},
   "source": [
    "### A surprise: Linear regression"
   ]
  },
  {
   "cell_type": "code",
   "execution_count": 19,
   "metadata": {},
   "outputs": [],
   "source": [
    "# Getting test set R^2 of the linear regression model as baseline\n",
    "from sklearn.linear_model import LinearRegression\n",
    "reg = LinearRegression().fit(X_train, y_train)"
   ]
  },
  {
   "cell_type": "code",
   "execution_count": 20,
   "metadata": {},
   "outputs": [
    {
     "data": {
      "text/plain": [
       "0.9999999999899544"
      ]
     },
     "execution_count": 20,
     "metadata": {},
     "output_type": "execute_result"
    },
    {
     "ename": "NameError",
     "evalue": "name 'mean_absolute_error' is not defined",
     "output_type": "error",
     "traceback": [
      "\u001b[1;31m---------------------------------------------------------------------------\u001b[0m",
      "\u001b[1;31mNameError\u001b[0m                                 Traceback (most recent call last)",
      "\u001b[1;32m<ipython-input-20-ec6dbc0a9c06>\u001b[0m in \u001b[0;36m<module>\u001b[1;34m\u001b[0m\n\u001b[0;32m      1\u001b[0m \u001b[0mreg\u001b[0m\u001b[1;33m.\u001b[0m\u001b[0mscore\u001b[0m\u001b[1;33m(\u001b[0m\u001b[0mX_test\u001b[0m\u001b[1;33m,\u001b[0m \u001b[0my_test\u001b[0m\u001b[1;33m)\u001b[0m\u001b[1;33m\u001b[0m\u001b[1;33m\u001b[0m\u001b[0m\n\u001b[1;32m----> 2\u001b[1;33m \u001b[0mmean_absolute_error\u001b[0m\u001b[1;33m(\u001b[0m\u001b[0my_test\u001b[0m\u001b[1;33m,\u001b[0m\u001b[0mreg\u001b[0m\u001b[1;33m.\u001b[0m\u001b[0mpredict\u001b[0m\u001b[1;33m(\u001b[0m\u001b[0mX_test\u001b[0m\u001b[1;33m)\u001b[0m\u001b[1;33m)\u001b[0m\u001b[1;33m\u001b[0m\u001b[1;33m\u001b[0m\u001b[0m\n\u001b[0m",
      "\u001b[1;31mNameError\u001b[0m: name 'mean_absolute_error' is not defined"
     ]
    }
   ],
   "source": [
    "r2_reg=reg.score(X_test, y_test);\n",
    "mae_reg=mean_absolute_error(y_test,reg.predict(X_test))"
   ]
  },
  {
   "cell_type": "markdown",
   "metadata": {},
   "source": [
    "It looks like that simple linear regression model makes even better predictions. That's a big surprise. <br> This proves that sometimes simpler model can perform better."
   ]
  },
  {
   "cell_type": "markdown",
   "metadata": {},
   "source": [
    "# -----------------End of first half of the project-------------------"
   ]
  },
  {
   "cell_type": "markdown",
   "metadata": {},
   "source": [
    "### 4.2 random forest algorithm"
   ]
  },
  {
   "cell_type": "code",
   "execution_count": 68,
   "metadata": {},
   "outputs": [
    {
     "data": {
      "text/plain": [
       "RandomForestRegressor(bootstrap=False, criterion='mse', max_depth=10,\n",
       "           max_features='auto', max_leaf_nodes=None,\n",
       "           min_impurity_decrease=0.0, min_impurity_split=None,\n",
       "           min_samples_leaf=10, min_samples_split=20,\n",
       "           min_weight_fraction_leaf=0.0, n_estimators=200, n_jobs=None,\n",
       "           oob_score=False, random_state=0, verbose=0, warm_start=False)"
      ]
     },
     "execution_count": 68,
     "metadata": {},
     "output_type": "execute_result"
    }
   ],
   "source": [
    "# training the regressor\n",
    "from sklearn.ensemble import RandomForestRegressor\n",
    "rfr = RandomForestRegressor(n_estimators=200,max_depth=10,bootstrap=False,\n",
    "                             random_state=0,min_samples_split=20,min_samples_leaf=10)\n",
    "rfr.fit(X_train, y_train)"
   ]
  },
  {
   "cell_type": "code",
   "execution_count": 69,
   "metadata": {},
   "outputs": [],
   "source": [
    "# reporting accuracy from the training set\n",
    "r2_rfr=rfr.score(X_train,y_train)"
   ]
  },
  {
   "cell_type": "code",
   "execution_count": 71,
   "metadata": {},
   "outputs": [
    {
     "data": {
      "text/plain": [
       "0.999590284120252"
      ]
     },
     "execution_count": 71,
     "metadata": {},
     "output_type": "execute_result"
    }
   ],
   "source": [
    "r2_rfr"
   ]
  },
  {
   "cell_type": "code",
   "execution_count": 70,
   "metadata": {},
   "outputs": [],
   "source": [
    "# reporting accuracy from the test set\n",
    "r2_rfr=rfr.score(X_test,y_test)\n",
    "mae_rfr=mean_absolute_error(y_test,rfr.predict(X_test))"
   ]
  },
  {
   "cell_type": "code",
   "execution_count": 72,
   "metadata": {},
   "outputs": [
    {
     "data": {
      "text/plain": [
       "0.9996987265112977"
      ]
     },
     "execution_count": 72,
     "metadata": {},
     "output_type": "execute_result"
    },
    {
     "data": {
      "text/plain": [
       "0.0005869389056901361"
      ]
     },
     "execution_count": 72,
     "metadata": {},
     "output_type": "execute_result"
    }
   ],
   "source": [
    "re_rfr\n",
    "mae_rfr"
   ]
  },
  {
   "cell_type": "markdown",
   "metadata": {},
   "source": [
    "### 4.3 naive bayes as baseline"
   ]
  },
  {
   "cell_type": "code",
   "execution_count": null,
   "metadata": {},
   "outputs": [],
   "source": [
    "# traning the classifier\n",
    "from sklearn.naive_bayes import GaussianNB\n",
    "model = GaussianNB()\n",
    "model.fit(X_train, y_train)"
   ]
  },
  {
   "cell_type": "code",
   "execution_count": null,
   "metadata": {},
   "outputs": [],
   "source": [
    "# reporting accuracy from the training set\n",
    "model.score(X_train,y_train)"
   ]
  },
  {
   "cell_type": "code",
   "execution_count": null,
   "metadata": {},
   "outputs": [],
   "source": [
    "# reporting accuracy from the test set\n",
    "model.score(X_test,y_test)"
   ]
  },
  {
   "cell_type": "markdown",
   "metadata": {},
   "source": [
    "### 4.4 XGBoosting algorithm"
   ]
  },
  {
   "cell_type": "code",
   "execution_count": 62,
   "metadata": {},
   "outputs": [],
   "source": [
    "from xgboost import XGBRegressor\n",
    "# fit model to training data\n",
    "xgb_model = XGBRegressor().fit(X_train, y_train)"
   ]
  },
  {
   "cell_type": "code",
   "execution_count": 64,
   "metadata": {},
   "outputs": [
    {
     "data": {
      "text/plain": [
       "0.99999041901923"
      ]
     },
     "execution_count": 64,
     "metadata": {},
     "output_type": "execute_result"
    },
    {
     "data": {
      "text/plain": [
       "0.9999640805081401"
      ]
     },
     "execution_count": 64,
     "metadata": {},
     "output_type": "execute_result"
    }
   ],
   "source": [
    "from sklearn.metrics import r2_score\n",
    "r2_score(y_train, xgb_model.predict(X_train))\n",
    "r2_score(y_test, xgb_model.predict(X_test))"
   ]
  },
  {
   "cell_type": "code",
   "execution_count": 66,
   "metadata": {},
   "outputs": [
    {
     "data": {
      "text/plain": [
       "0.0006992677025319189"
      ]
     },
     "execution_count": 66,
     "metadata": {},
     "output_type": "execute_result"
    }
   ],
   "source": [
    "mean_absolute_error(y_test,xgb_model.predict(X_test))"
   ]
  },
  {
   "cell_type": "markdown",
   "metadata": {},
   "source": [
    "### 4.5 Trying to use Functional API with descriptions as aux input\n",
    "\n",
    "Previously, we mentioned that the neural network we build in 4.1 suffered from heteroskedasticity. Therefore, we could like to add in more features. The only features we didn't use in the past are test features, e.g. description. By using Functional API, we are able to process the text features first and then integrate the results into the main neural network.\n",
    "<br>\n",
    "<br>\n",
    "See https://keras.io/getting-started/functional-api-guide/"
   ]
  },
  {
   "cell_type": "code",
   "execution_count": null,
   "metadata": {},
   "outputs": [],
   "source": [
    "# Getting datasets from the dataframe\n",
    "num_data=df.drop(['price','winery','vintage','region_1','region_2',\n",
    "                         'variety','title','description'], axis=1).as_matrix()\n",
    "text_data = df.description.as_matrix()\n",
    "labels=df.priceLog.as_matrix()"
   ]
  },
  {
   "cell_type": "code",
   "execution_count": null,
   "metadata": {},
   "outputs": [],
   "source": [
    "from sklearn.feature_extraction.text import CountVectorizer\n",
    "from nltk.corpus import stopwords"
   ]
  },
  {
   "cell_type": "code",
   "execution_count": null,
   "metadata": {},
   "outputs": [],
   "source": [
    "# preprocessing text data\n",
    "from keras.preprocessing.text import Tokenizer\n",
    "# tokenize the most often 150 words\n",
    "tokenizer = Tokenizer(num_words=150)\n",
    "tokenizer.fit_on_texts(text_data)\n",
    "word_index = tokenizer.word_index\n",
    "# convert descriptions into matrix\n",
    "text_data=tokenizer.texts_to_matrix(text_data,mode='binary')\n",
    "print('Found %s unique tokens.' % len(word_index))"
   ]
  },
  {
   "cell_type": "code",
   "execution_count": null,
   "metadata": {},
   "outputs": [],
   "source": [
    "# separating training sets and test sets\n",
    "num1, num2, txt1, txt2, labels1, labels2 = train_test_split(\n",
    "    num_data, text_data, labels, test_size=0.30, random_state=42)\n",
    "# Getting the number of features\n",
    "ncol=num_data.shape[1]"
   ]
  },
  {
   "cell_type": "code",
   "execution_count": null,
   "metadata": {},
   "outputs": [],
   "source": [
    "# First working on the text part\n",
    "from keras.layers import Input, Embedding, LSTM, Dense, Concatenate\n",
    "from keras.models import Model\n",
    "\n",
    "# Description input: meant to receive sequences of 150 integers\n",
    "# Naming this layer by passing it a \"name\" argument.\n",
    "text_input = Input(shape=(150,), dtype='int32', name='text_input')\n",
    "\n",
    "# This embedding layer will encode the input sequence\n",
    "# into a sequence of dense 512-dimensional vectors.\n",
    "x = Embedding(output_dim=512, input_dim=10000, input_length=150)(text_input)\n",
    "\n",
    "# A LSTM will transform the vector sequence into a single vector,\n",
    "# containing information about the entire sequence\n",
    "lstm_out = LSTM(32)(x)"
   ]
  },
  {
   "cell_type": "code",
   "execution_count": null,
   "metadata": {},
   "outputs": [],
   "source": [
    "lstm_out.shape"
   ]
  },
  {
   "cell_type": "code",
   "execution_count": null,
   "metadata": {},
   "outputs": [],
   "source": [
    "# Output of using description to predict price\n",
    "text_output = Dense(1, activation='selu', name='text_output')(lstm_out)"
   ]
  },
  {
   "cell_type": "code",
   "execution_count": null,
   "metadata": {},
   "outputs": [],
   "source": [
    "# Then adding in the non-text part\n",
    "num_input = Input(shape=(ncol,), name='num_input')\n",
    "x = Concatenate(axis=-1)([lstm_out, num_input])\n",
    "\n",
    "# Stacking a deep densely-connected network on top\n",
    "x = Dense(100, activation='selu')(x)\n",
    "x = Dense(100, activation='selu')(x)\n",
    "\n",
    "# And finally adding the main fitting output\n",
    "main_output = Dense(1, activation='selu', name='main_output')(x)"
   ]
  },
  {
   "cell_type": "code",
   "execution_count": null,
   "metadata": {},
   "outputs": [],
   "source": [
    "# Putting the model together with two inputs and one outputs\n",
    "model2 = Model(inputs=[text_input, num_input], outputs=[main_output, text_output])"
   ]
  },
  {
   "cell_type": "markdown",
   "metadata": {},
   "source": [
    "# The codes below might take 10 minutes to run"
   ]
  },
  {
   "cell_type": "code",
   "execution_count": null,
   "metadata": {},
   "outputs": [],
   "source": [
    "# Compiling and fitting the neural network\n",
    "# Since we have more inputs, I changed the batch size into 100.\n",
    "nn2.compile(loss='mse', \n",
    "              optimizer='adam',\n",
    "              loss_weights=[1., 0.00001])\n",
    "history_nn2=nn2.fit([txt1, num1], [labels1,labels1],\n",
    "                  epochs=8, batch_size=100, \n",
    "                  validation_data=([txt2, num2], [labels2,labels2]))"
   ]
  },
  {
   "cell_type": "code",
   "execution_count": null,
   "metadata": {},
   "outputs": [],
   "source": [
    "# Visualizing the training loss and test loss\n",
    "loss = history_nn2.history['main_output_loss']\n",
    "val_loss = history_nn2.history['val_main_output_loss']\n",
    "\n",
    "epochs = range(1, len(loss) + 1)\n",
    "\n",
    "plt.plot(epochs, loss, 'b', label='Training loss')\n",
    "plt.plot(epochs, val_loss, 'r', label='Test loss')\n",
    "plt.title('Training and test loss')\n",
    "plt.xlabel('Epochs')\n",
    "plt.ylabel('Loss')\n",
    "plt.legend()\n",
    "\n",
    "plt.show()"
   ]
  },
  {
   "cell_type": "code",
   "execution_count": null,
   "metadata": {},
   "outputs": [],
   "source": [
    "# getting the predicted price from the test set\n",
    "out_pc=np.exp(nn2.predict([txt2,num2])[0])\n",
    "out_pc=np.squeeze(out_pc)"
   ]
  },
  {
   "cell_type": "code",
   "execution_count": null,
   "metadata": {},
   "outputs": [],
   "source": [
    "# getting the real price from the test set\n",
    "real_pc=np.exp(labels2)"
   ]
  },
  {
   "cell_type": "code",
   "execution_count": null,
   "metadata": {},
   "outputs": [],
   "source": [
    "# calculating the error\n",
    "error2=out_pc - real_pc"
   ]
  },
  {
   "cell_type": "code",
   "execution_count": null,
   "metadata": {},
   "outputs": [],
   "source": [
    "out_pc\n",
    "real_pc"
   ]
  },
  {
   "cell_type": "code",
   "execution_count": null,
   "metadata": {},
   "outputs": [],
   "source": [
    "from matplotlib.pyplot import figure\n",
    "figure(num=None, figsize=(10,5), dpi=80, facecolor='w', edgecolor='k')\n",
    "\n",
    "plt.subplot(1,2,1)\n",
    "plt.scatter(real_pc,error2,s=10,c='g', alpha=0.3)\n",
    "plt.xlabel('observed price')\n",
    "plt.ylabel('prediction error')\n",
    "plt.title('prediction error ~ real price')\n",
    "plt.axhline(y=0, color='r', linestyle='-',linewidth=0.3)\n",
    "\n",
    "plt.subplot(1,2,2)\n",
    "plt.scatter(real_pc,error2,s=10,c='g', alpha=0.3)\n",
    "plt.xlabel('observed price')\n",
    "plt.ylabel('prediction error')\n",
    "plt.title('prediction error ($) ~ real price, zoomed in low price range')\n",
    "plt.axhline(y=0, color='r', linestyle='-',linewidth=0.3)\n",
    "plt.xlim(0,200)\n",
    "plt.show()"
   ]
  },
  {
   "cell_type": "markdown",
   "metadata": {},
   "source": [
    "The errors distribute more evenly than the simple sequential neural network. The heteroskedasticity is reduced."
   ]
  },
  {
   "cell_type": "code",
   "execution_count": null,
   "metadata": {},
   "outputs": [],
   "source": [
    "mean_absolute_error(real_pc,out_pc)\n",
    "r2_score(real_pc,out_pc)"
   ]
  },
  {
   "cell_type": "markdown",
   "metadata": {},
   "source": [
    "The mean absolute error performs worse by 40 cents. R square decreased by 0.0043."
   ]
  },
  {
   "cell_type": "code",
   "execution_count": null,
   "metadata": {},
   "outputs": [],
   "source": []
  }
 ],
 "metadata": {
  "kernelspec": {
   "display_name": "Python 3",
   "language": "python",
   "name": "python3"
  },
  "language_info": {
   "codemirror_mode": {
    "name": "ipython",
    "version": 3
   },
   "file_extension": ".py",
   "mimetype": "text/x-python",
   "name": "python",
   "nbconvert_exporter": "python",
   "pygments_lexer": "ipython3",
   "version": "3.7.1"
  }
 },
 "nbformat": 4,
 "nbformat_minor": 2
}
