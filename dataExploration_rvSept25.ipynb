{
  "nbformat": 4,
  "nbformat_minor": 0,
  "metadata": {
    "colab": {
      "name": "dataExploration.ipynb",
      "provenance": [],
      "collapsed_sections": [
        "2oaN54TnuYqc",
        "hDX8rIxa0hdC",
        "ER7lkNrJ0dHf",
        "kj-UbHx3dXgR"
      ],
      "toc_visible": true,
      "include_colab_link": true
    },
    "kernelspec": {
      "name": "python3",
      "display_name": "Python 3"
    },
    "accelerator": "GPU"
  },
  "cells": [
    {
      "cell_type": "markdown",
      "metadata": {
        "id": "view-in-github",
        "colab_type": "text"
      },
      "source": [
        "<a href=\"https://colab.research.google.com/github/jlaurant/j/blob/master/dataExploration_rvSept25.ipynb\" target=\"_parent\"><img src=\"https://colab.research.google.com/assets/colab-badge.svg\" alt=\"Open In Colab\"/></a>"
      ]
    },
    {
      "cell_type": "markdown",
      "metadata": {
        "id": "QLDHkwu00oae",
        "colab_type": "text"
      },
      "source": [
        "# DSBA 6211 Project"
      ]
    },
    {
      "cell_type": "code",
      "metadata": {
        "id": "VxQJsun_ltb1",
        "colab_type": "code",
        "colab": {}
      },
      "source": [
        "import pandas as pd\n",
        "import numpy as np\n",
        "import seaborn as sns\n",
        "import matplotlib.pyplot as plt\n",
        "import tensorflow as tf\n",
        "import math\n",
        "from matplotlib.pyplot import figure\n",
        "\n",
        "# The command below means that the output of multiple commands in a cell will be output at once\n",
        "from IPython.core.interactiveshell import InteractiveShell\n",
        "InteractiveShell.ast_node_interactivity = \"all\"\n",
        "\n",
        "# The command below tells jupyter to display up to 80 columns, this keeps everything visible\n",
        "pd.set_option('display.max_columns', 80)\n",
        "pd.set_option('expand_frame_repr', True)\n",
        "\n",
        "# Show figures in notebook\n",
        "%matplotlib inline\n",
        "plt.style.use('ggplot')"
      ],
      "execution_count": 0,
      "outputs": []
    },
    {
      "cell_type": "code",
      "metadata": {
        "id": "QgJ9Q0iEo7JF",
        "colab_type": "code",
        "colab": {}
      },
      "source": [
        "from sklearn.metrics import mean_absolute_error\n",
        "from sklearn.metrics import r2_score\n",
        "from sklearn.model_selection import train_test_split"
      ],
      "execution_count": 0,
      "outputs": []
    },
    {
      "cell_type": "markdown",
      "metadata": {
        "id": "DPZveqbmnGXm",
        "colab_type": "text"
      },
      "source": [
        "# Import the data"
      ]
    },
    {
      "cell_type": "code",
      "metadata": {
        "id": "I2ePTaCRmBf1",
        "colab_type": "code",
        "outputId": "6bb49e73-26c4-47ca-dbd6-1eb1a445211e",
        "colab": {
          "base_uri": "https://localhost:8080/",
          "height": 124
        }
      },
      "source": [
        "from google.colab import drive\n",
        "drive.mount('/content/drive')"
      ],
      "execution_count": 3,
      "outputs": [
        {
          "output_type": "stream",
          "text": [
            "Go to this URL in a browser: https://accounts.google.com/o/oauth2/auth?client_id=947318989803-6bn6qk8qdgf4n4g3pfee6491hc0brc4i.apps.googleusercontent.com&redirect_uri=urn%3Aietf%3Awg%3Aoauth%3A2.0%3Aoob&scope=email%20https%3A%2F%2Fwww.googleapis.com%2Fauth%2Fdocs.test%20https%3A%2F%2Fwww.googleapis.com%2Fauth%2Fdrive%20https%3A%2F%2Fwww.googleapis.com%2Fauth%2Fdrive.photos.readonly%20https%3A%2F%2Fwww.googleapis.com%2Fauth%2Fpeopleapi.readonly&response_type=code\n",
            "\n",
            "Enter your authorization code:\n",
            "··········\n",
            "Mounted at /content/drive\n"
          ],
          "name": "stdout"
        }
      ]
    },
    {
      "cell_type": "code",
      "metadata": {
        "id": "tT_3l3LGmJF7",
        "colab_type": "code",
        "colab": {}
      },
      "source": [
        "# import the training set\n",
        "df = pd.read_csv('/content/drive/My Drive/6211 - project/pet-adoption-prediction/train/train.csv')"
      ],
      "execution_count": 0,
      "outputs": []
    },
    {
      "cell_type": "markdown",
      "metadata": {
        "id": "2oaN54TnuYqc",
        "colab_type": "text"
      },
      "source": [
        "# Check the data"
      ]
    },
    {
      "cell_type": "code",
      "metadata": {
        "id": "SQ9FxRR3mr_l",
        "colab_type": "code",
        "outputId": "57774f28-b4a1-44c2-d3ba-1a67228f6f57",
        "colab": {
          "base_uri": "https://localhost:8080/",
          "height": 520
        }
      },
      "source": [
        "# check the columns of the training set\n",
        "df.info()"
      ],
      "execution_count": 0,
      "outputs": [
        {
          "output_type": "stream",
          "text": [
            "<class 'pandas.core.frame.DataFrame'>\n",
            "RangeIndex: 14993 entries, 0 to 14992\n",
            "Data columns (total 24 columns):\n",
            "Type             14993 non-null int64\n",
            "Name             13736 non-null object\n",
            "Age              14993 non-null int64\n",
            "Breed1           14993 non-null int64\n",
            "Breed2           14993 non-null int64\n",
            "Gender           14993 non-null int64\n",
            "Color1           14993 non-null int64\n",
            "Color2           14993 non-null int64\n",
            "Color3           14993 non-null int64\n",
            "MaturitySize     14993 non-null int64\n",
            "FurLength        14993 non-null int64\n",
            "Vaccinated       14993 non-null int64\n",
            "Dewormed         14993 non-null int64\n",
            "Sterilized       14993 non-null int64\n",
            "Health           14993 non-null int64\n",
            "Quantity         14993 non-null int64\n",
            "Fee              14993 non-null int64\n",
            "State            14993 non-null int64\n",
            "RescuerID        14993 non-null object\n",
            "VideoAmt         14993 non-null int64\n",
            "Description      14981 non-null object\n",
            "PetID            14993 non-null object\n",
            "PhotoAmt         14993 non-null float64\n",
            "AdoptionSpeed    14993 non-null int64\n",
            "dtypes: float64(1), int64(19), object(4)\n",
            "memory usage: 2.7+ MB\n"
          ],
          "name": "stdout"
        }
      ]
    },
    {
      "cell_type": "code",
      "metadata": {
        "id": "nKRsO-Znng2Z",
        "colab_type": "code",
        "outputId": "f6aae65f-1730-4be0-d9a1-509bdc1a0748",
        "colab": {
          "base_uri": "https://localhost:8080/",
          "height": 314
        }
      },
      "source": [
        "# check the first 5 rows of the training set\n",
        "df.describe()"
      ],
      "execution_count": 0,
      "outputs": [
        {
          "output_type": "execute_result",
          "data": {
            "text/html": [
              "<div>\n",
              "<style scoped>\n",
              "    .dataframe tbody tr th:only-of-type {\n",
              "        vertical-align: middle;\n",
              "    }\n",
              "\n",
              "    .dataframe tbody tr th {\n",
              "        vertical-align: top;\n",
              "    }\n",
              "\n",
              "    .dataframe thead th {\n",
              "        text-align: right;\n",
              "    }\n",
              "</style>\n",
              "<table border=\"1\" class=\"dataframe\">\n",
              "  <thead>\n",
              "    <tr style=\"text-align: right;\">\n",
              "      <th></th>\n",
              "      <th>Type</th>\n",
              "      <th>Age</th>\n",
              "      <th>Breed1</th>\n",
              "      <th>Breed2</th>\n",
              "      <th>Gender</th>\n",
              "      <th>Color1</th>\n",
              "      <th>Color2</th>\n",
              "      <th>Color3</th>\n",
              "      <th>MaturitySize</th>\n",
              "      <th>FurLength</th>\n",
              "      <th>Vaccinated</th>\n",
              "      <th>Dewormed</th>\n",
              "      <th>Sterilized</th>\n",
              "      <th>Health</th>\n",
              "      <th>Quantity</th>\n",
              "      <th>Fee</th>\n",
              "      <th>State</th>\n",
              "      <th>VideoAmt</th>\n",
              "      <th>PhotoAmt</th>\n",
              "      <th>AdoptionSpeed</th>\n",
              "    </tr>\n",
              "  </thead>\n",
              "  <tbody>\n",
              "    <tr>\n",
              "      <th>count</th>\n",
              "      <td>14993.000000</td>\n",
              "      <td>14993.000000</td>\n",
              "      <td>14993.000000</td>\n",
              "      <td>14993.000000</td>\n",
              "      <td>14993.000000</td>\n",
              "      <td>14993.000000</td>\n",
              "      <td>14993.000000</td>\n",
              "      <td>14993.000000</td>\n",
              "      <td>14993.000000</td>\n",
              "      <td>14993.000000</td>\n",
              "      <td>14993.000000</td>\n",
              "      <td>14993.000000</td>\n",
              "      <td>14993.000000</td>\n",
              "      <td>14993.000000</td>\n",
              "      <td>14993.000000</td>\n",
              "      <td>14993.000000</td>\n",
              "      <td>14993.000000</td>\n",
              "      <td>14993.000000</td>\n",
              "      <td>14993.000000</td>\n",
              "      <td>14993.000000</td>\n",
              "    </tr>\n",
              "    <tr>\n",
              "      <th>mean</th>\n",
              "      <td>1.457614</td>\n",
              "      <td>10.452078</td>\n",
              "      <td>265.272594</td>\n",
              "      <td>74.009738</td>\n",
              "      <td>1.776162</td>\n",
              "      <td>2.234176</td>\n",
              "      <td>3.222837</td>\n",
              "      <td>1.882012</td>\n",
              "      <td>1.862002</td>\n",
              "      <td>1.467485</td>\n",
              "      <td>1.731208</td>\n",
              "      <td>1.558727</td>\n",
              "      <td>1.914227</td>\n",
              "      <td>1.036617</td>\n",
              "      <td>1.576069</td>\n",
              "      <td>21.259988</td>\n",
              "      <td>41346.028347</td>\n",
              "      <td>0.056760</td>\n",
              "      <td>3.889215</td>\n",
              "      <td>2.516441</td>\n",
              "    </tr>\n",
              "    <tr>\n",
              "      <th>std</th>\n",
              "      <td>0.498217</td>\n",
              "      <td>18.155790</td>\n",
              "      <td>60.056818</td>\n",
              "      <td>123.011575</td>\n",
              "      <td>0.681592</td>\n",
              "      <td>1.745225</td>\n",
              "      <td>2.742562</td>\n",
              "      <td>2.984086</td>\n",
              "      <td>0.547959</td>\n",
              "      <td>0.599070</td>\n",
              "      <td>0.667649</td>\n",
              "      <td>0.695817</td>\n",
              "      <td>0.566172</td>\n",
              "      <td>0.199535</td>\n",
              "      <td>1.472477</td>\n",
              "      <td>78.414548</td>\n",
              "      <td>32.444153</td>\n",
              "      <td>0.346185</td>\n",
              "      <td>3.487810</td>\n",
              "      <td>1.177265</td>\n",
              "    </tr>\n",
              "    <tr>\n",
              "      <th>min</th>\n",
              "      <td>1.000000</td>\n",
              "      <td>0.000000</td>\n",
              "      <td>0.000000</td>\n",
              "      <td>0.000000</td>\n",
              "      <td>1.000000</td>\n",
              "      <td>1.000000</td>\n",
              "      <td>0.000000</td>\n",
              "      <td>0.000000</td>\n",
              "      <td>1.000000</td>\n",
              "      <td>1.000000</td>\n",
              "      <td>1.000000</td>\n",
              "      <td>1.000000</td>\n",
              "      <td>1.000000</td>\n",
              "      <td>1.000000</td>\n",
              "      <td>1.000000</td>\n",
              "      <td>0.000000</td>\n",
              "      <td>41324.000000</td>\n",
              "      <td>0.000000</td>\n",
              "      <td>0.000000</td>\n",
              "      <td>0.000000</td>\n",
              "    </tr>\n",
              "    <tr>\n",
              "      <th>25%</th>\n",
              "      <td>1.000000</td>\n",
              "      <td>2.000000</td>\n",
              "      <td>265.000000</td>\n",
              "      <td>0.000000</td>\n",
              "      <td>1.000000</td>\n",
              "      <td>1.000000</td>\n",
              "      <td>0.000000</td>\n",
              "      <td>0.000000</td>\n",
              "      <td>2.000000</td>\n",
              "      <td>1.000000</td>\n",
              "      <td>1.000000</td>\n",
              "      <td>1.000000</td>\n",
              "      <td>2.000000</td>\n",
              "      <td>1.000000</td>\n",
              "      <td>1.000000</td>\n",
              "      <td>0.000000</td>\n",
              "      <td>41326.000000</td>\n",
              "      <td>0.000000</td>\n",
              "      <td>2.000000</td>\n",
              "      <td>2.000000</td>\n",
              "    </tr>\n",
              "    <tr>\n",
              "      <th>50%</th>\n",
              "      <td>1.000000</td>\n",
              "      <td>3.000000</td>\n",
              "      <td>266.000000</td>\n",
              "      <td>0.000000</td>\n",
              "      <td>2.000000</td>\n",
              "      <td>2.000000</td>\n",
              "      <td>2.000000</td>\n",
              "      <td>0.000000</td>\n",
              "      <td>2.000000</td>\n",
              "      <td>1.000000</td>\n",
              "      <td>2.000000</td>\n",
              "      <td>1.000000</td>\n",
              "      <td>2.000000</td>\n",
              "      <td>1.000000</td>\n",
              "      <td>1.000000</td>\n",
              "      <td>0.000000</td>\n",
              "      <td>41326.000000</td>\n",
              "      <td>0.000000</td>\n",
              "      <td>3.000000</td>\n",
              "      <td>2.000000</td>\n",
              "    </tr>\n",
              "    <tr>\n",
              "      <th>75%</th>\n",
              "      <td>2.000000</td>\n",
              "      <td>12.000000</td>\n",
              "      <td>307.000000</td>\n",
              "      <td>179.000000</td>\n",
              "      <td>2.000000</td>\n",
              "      <td>3.000000</td>\n",
              "      <td>6.000000</td>\n",
              "      <td>5.000000</td>\n",
              "      <td>2.000000</td>\n",
              "      <td>2.000000</td>\n",
              "      <td>2.000000</td>\n",
              "      <td>2.000000</td>\n",
              "      <td>2.000000</td>\n",
              "      <td>1.000000</td>\n",
              "      <td>1.000000</td>\n",
              "      <td>0.000000</td>\n",
              "      <td>41401.000000</td>\n",
              "      <td>0.000000</td>\n",
              "      <td>5.000000</td>\n",
              "      <td>4.000000</td>\n",
              "    </tr>\n",
              "    <tr>\n",
              "      <th>max</th>\n",
              "      <td>2.000000</td>\n",
              "      <td>255.000000</td>\n",
              "      <td>307.000000</td>\n",
              "      <td>307.000000</td>\n",
              "      <td>3.000000</td>\n",
              "      <td>7.000000</td>\n",
              "      <td>7.000000</td>\n",
              "      <td>7.000000</td>\n",
              "      <td>4.000000</td>\n",
              "      <td>3.000000</td>\n",
              "      <td>3.000000</td>\n",
              "      <td>3.000000</td>\n",
              "      <td>3.000000</td>\n",
              "      <td>3.000000</td>\n",
              "      <td>20.000000</td>\n",
              "      <td>3000.000000</td>\n",
              "      <td>41415.000000</td>\n",
              "      <td>8.000000</td>\n",
              "      <td>30.000000</td>\n",
              "      <td>4.000000</td>\n",
              "    </tr>\n",
              "  </tbody>\n",
              "</table>\n",
              "</div>"
            ],
            "text/plain": [
              "               Type           Age        Breed1        Breed2        Gender  \\\n",
              "count  14993.000000  14993.000000  14993.000000  14993.000000  14993.000000   \n",
              "mean       1.457614     10.452078    265.272594     74.009738      1.776162   \n",
              "std        0.498217     18.155790     60.056818    123.011575      0.681592   \n",
              "min        1.000000      0.000000      0.000000      0.000000      1.000000   \n",
              "25%        1.000000      2.000000    265.000000      0.000000      1.000000   \n",
              "50%        1.000000      3.000000    266.000000      0.000000      2.000000   \n",
              "75%        2.000000     12.000000    307.000000    179.000000      2.000000   \n",
              "max        2.000000    255.000000    307.000000    307.000000      3.000000   \n",
              "\n",
              "             Color1        Color2        Color3  MaturitySize     FurLength  \\\n",
              "count  14993.000000  14993.000000  14993.000000  14993.000000  14993.000000   \n",
              "mean       2.234176      3.222837      1.882012      1.862002      1.467485   \n",
              "std        1.745225      2.742562      2.984086      0.547959      0.599070   \n",
              "min        1.000000      0.000000      0.000000      1.000000      1.000000   \n",
              "25%        1.000000      0.000000      0.000000      2.000000      1.000000   \n",
              "50%        2.000000      2.000000      0.000000      2.000000      1.000000   \n",
              "75%        3.000000      6.000000      5.000000      2.000000      2.000000   \n",
              "max        7.000000      7.000000      7.000000      4.000000      3.000000   \n",
              "\n",
              "         Vaccinated      Dewormed    Sterilized        Health      Quantity  \\\n",
              "count  14993.000000  14993.000000  14993.000000  14993.000000  14993.000000   \n",
              "mean       1.731208      1.558727      1.914227      1.036617      1.576069   \n",
              "std        0.667649      0.695817      0.566172      0.199535      1.472477   \n",
              "min        1.000000      1.000000      1.000000      1.000000      1.000000   \n",
              "25%        1.000000      1.000000      2.000000      1.000000      1.000000   \n",
              "50%        2.000000      1.000000      2.000000      1.000000      1.000000   \n",
              "75%        2.000000      2.000000      2.000000      1.000000      1.000000   \n",
              "max        3.000000      3.000000      3.000000      3.000000     20.000000   \n",
              "\n",
              "                Fee         State      VideoAmt      PhotoAmt  AdoptionSpeed  \n",
              "count  14993.000000  14993.000000  14993.000000  14993.000000   14993.000000  \n",
              "mean      21.259988  41346.028347      0.056760      3.889215       2.516441  \n",
              "std       78.414548     32.444153      0.346185      3.487810       1.177265  \n",
              "min        0.000000  41324.000000      0.000000      0.000000       0.000000  \n",
              "25%        0.000000  41326.000000      0.000000      2.000000       2.000000  \n",
              "50%        0.000000  41326.000000      0.000000      3.000000       2.000000  \n",
              "75%        0.000000  41401.000000      0.000000      5.000000       4.000000  \n",
              "max     3000.000000  41415.000000      8.000000     30.000000       4.000000  "
            ]
          },
          "metadata": {
            "tags": []
          },
          "execution_count": 64
        }
      ]
    },
    {
      "cell_type": "code",
      "metadata": {
        "id": "WIIA5CNMrOHA",
        "colab_type": "code",
        "colab": {}
      },
      "source": [
        "df['Type'] = df['Type'].apply(lambda x: 'Dog' if x == 1 else 'Cat')\n",
        "df['Gender'] = df['Gender'].apply(lambda x: 'Male' if x == 1 else 'Female' if x == 2 else 'Mixed')"
      ],
      "execution_count": 0,
      "outputs": []
    },
    {
      "cell_type": "markdown",
      "metadata": {
        "id": "ypByunk7uSxr",
        "colab_type": "text"
      },
      "source": [
        "# Data Visualization"
      ]
    },
    {
      "cell_type": "code",
      "metadata": {
        "id": "sidLghZrn3Hv",
        "colab_type": "code",
        "outputId": "abc7d185-f516-4de9-9555-c63fd95b0a55",
        "colab": {
          "base_uri": "https://localhost:8080/",
          "height": 408
        }
      },
      "source": [
        "plt.figure(figsize=(8, 6));\n",
        "sns.countplot(x='AdoptionSpeed',data=df)\n",
        "plt.title('Pet Adoption Speed Classes');"
      ],
      "execution_count": 0,
      "outputs": [
        {
          "output_type": "display_data",
          "data": {
            "image/png": "[encoded data removed]",
            "text/plain": [
              "<Figure size 576x432 with 1 Axes>"
            ]
          },
          "metadata": {
            "tags": []
          }
        }
      ]
    },
    {
      "cell_type": "code",
      "metadata": {
        "id": "lkeJV4rvpqll",
        "colab_type": "code",
        "outputId": "0eeebfc8-0e56-4a61-ddd8-b2982f738b7d",
        "colab": {
          "base_uri": "https://localhost:8080/",
          "height": 408
        }
      },
      "source": [
        "plt.figure(figsize=(8, 6));\n",
        "sns.countplot(hue='Gender', x='Type',data=df)\n",
        "plt.title('Pet Type');"
      ],
      "execution_count": 0,
      "outputs": [
        {
          "output_type": "display_data",
          "data": {
            "image/png": "[encoded data removed]",
            "text/plain": [
              "<Figure size 576x432 with 1 Axes>"
            ]
          },
          "metadata": {
            "tags": []
          }
        }
      ]
    },
    {
      "cell_type": "code",
      "metadata": {
        "id": "xPNwZw6PpCeb",
        "colab_type": "code",
        "outputId": "169faaad-7fe7-4199-aa89-40a9e7a997b1",
        "colab": {
          "base_uri": "https://localhost:8080/",
          "height": 287
        }
      },
      "source": [
        "#checking the dist. of outcome variable\n",
        "y_train.plot('hist')"
      ],
      "execution_count": 0,
      "outputs": [
        {
          "output_type": "execute_result",
          "data": {
            "text/plain": [
              "<matplotlib.axes._subplots.AxesSubplot at 0x7fb9e8c17908>"
            ]
          },
          "metadata": {
            "tags": []
          },
          "execution_count": 40
        },
        {
          "output_type": "display_data",
          "data": {
            "image/png": "[encoded data removed]",
            "text/plain": [
              "<Figure size 432x288 with 1 Axes>"
            ]
          },
          "metadata": {
            "tags": []
          }
        }
      ]
    },
    {
      "cell_type": "code",
      "metadata": {
        "id": "nosJ0qChOlDp",
        "colab_type": "code",
        "outputId": "194c0aca-dee9-43a5-ac33-b416d00af04b",
        "colab": {
          "base_uri": "https://localhost:8080/",
          "height": 408
        }
      },
      "source": [
        "plt.figure(figsize=(10, 6));\n",
        "sns.countplot(hue='Type', x='Breed1',data=df)\n",
        "plt.title('Breed Count');"
      ],
      "execution_count": 0,
      "outputs": [
        {
          "output_type": "display_data",
          "data": {
            "image/png": "[encoded data removed]",
            "text/plain": [
              "<Figure size 720x432 with 1 Axes>"
            ]
          },
          "metadata": {
            "tags": []
          }
        }
      ]
    },
    {
      "cell_type": "code",
      "metadata": {
        "id": "k8Z8ZMZMQc6r",
        "colab_type": "code",
        "outputId": "eedb8e45-b123-4ff2-8142-ccbb74870b2b",
        "colab": {
          "base_uri": "https://localhost:8080/",
          "height": 287
        }
      },
      "source": [
        "df.Fee.plot('hist')"
      ],
      "execution_count": 0,
      "outputs": [
        {
          "output_type": "execute_result",
          "data": {
            "text/plain": [
              "<matplotlib.axes._subplots.AxesSubplot at 0x7f1b0a84f668>"
            ]
          },
          "metadata": {
            "tags": []
          },
          "execution_count": 37
        },
        {
          "output_type": "display_data",
          "data": {
            "image/png": "[encoded data removed]",
            "text/plain": [
              "<Figure size 432x288 with 1 Axes>"
            ]
          },
          "metadata": {
            "tags": []
          }
        }
      ]
    },
    {
      "cell_type": "markdown",
      "metadata": {
        "id": "qZqX9vY_vjr_",
        "colab_type": "text"
      },
      "source": [
        "# Group Breeds"
      ]
    },
    {
      "cell_type": "markdown",
      "metadata": {
        "id": "t9F43Qoqv0Jq",
        "colab_type": "text"
      },
      "source": [
        "There are too many breed categories. Let's group some of the smaller categories."
      ]
    },
    {
      "cell_type": "code",
      "metadata": {
        "id": "mrcKnijtuOjp",
        "colab_type": "code",
        "outputId": "904afb52-d147-42dd-f05e-ebccb427da97",
        "colab": {
          "base_uri": "https://localhost:8080/",
          "height": 208
        }
      },
      "source": [
        "df.loc[df['Type'] == 2].Breed1.value_counts().head(10)"
      ],
      "execution_count": 5,
      "outputs": [
        {
          "output_type": "execute_result",
          "data": {
            "text/plain": [
              "266    3634\n",
              "265    1258\n",
              "299     342\n",
              "264     296\n",
              "292     264\n",
              "285     221\n",
              "254     105\n",
              "243      94\n",
              "283      73\n",
              "247      71\n",
              "Name: Breed1, dtype: int64"
            ]
          },
          "metadata": {
            "tags": []
          },
          "execution_count": 5
        }
      ]
    },
    {
      "cell_type": "code",
      "metadata": {
        "id": "JjxC3P3vxCzr",
        "colab_type": "code",
        "outputId": "8762857b-2e96-4657-d1ab-5eface8b503c",
        "colab": {
          "base_uri": "https://localhost:8080/",
          "height": 208
        }
      },
      "source": [
        "df.loc[df['Type'] == 1].Breed1.value_counts().head(10)"
      ],
      "execution_count": 6,
      "outputs": [
        {
          "output_type": "execute_result",
          "data": {
            "text/plain": [
              "307    5923\n",
              "141     205\n",
              "205     189\n",
              "179     167\n",
              "218     161\n",
              "109     151\n",
              "103      98\n",
              "20       90\n",
              "213      89\n",
              "189      88\n",
              "Name: Breed1, dtype: int64"
            ]
          },
          "metadata": {
            "tags": []
          },
          "execution_count": 6
        }
      ]
    },
    {
      "cell_type": "code",
      "metadata": {
        "id": "MjLDhkGqwKQQ",
        "colab_type": "code",
        "colab": {}
      },
      "source": [
        "# create a function to change the uncommon breeds (count < 200) into '999'\n",
        "def Breed1(df): \n",
        "    \n",
        "    if df.Breed1 not in [266,265,299,264,292,285,307,141]:\n",
        "        df.Breed1= 999\n",
        "    else:\n",
        "        df.Breed1 = df.Breed1\n",
        "    return df\n",
        "  \n",
        "df=df.apply(Breed1, axis=1)"
      ],
      "execution_count": 0,
      "outputs": []
    },
    {
      "cell_type": "code",
      "metadata": {
        "id": "mivXdr_dx2Pn",
        "colab_type": "code",
        "outputId": "be63fd5d-d9f8-47d6-a394-e1dec05edb56",
        "colab": {
          "base_uri": "https://localhost:8080/",
          "height": 191
        }
      },
      "source": [
        "# check the results\n",
        "df.Breed1.value_counts()"
      ],
      "execution_count": 8,
      "outputs": [
        {
          "output_type": "execute_result",
          "data": {
            "text/plain": [
              "307    5927\n",
              "266    3634\n",
              "999    2846\n",
              "265    1258\n",
              "299     342\n",
              "264     296\n",
              "292     264\n",
              "285     221\n",
              "141     205\n",
              "Name: Breed1, dtype: int64"
            ]
          },
          "metadata": {
            "tags": []
          },
          "execution_count": 8
        }
      ]
    },
    {
      "cell_type": "code",
      "metadata": {
        "id": "KIqyB-wW0KOb",
        "colab_type": "code",
        "outputId": "050681e8-a3c5-4859-90f9-b07b0fd79ec4",
        "colab": {
          "base_uri": "https://localhost:8080/",
          "height": 208
        }
      },
      "source": [
        "df.loc[df['Type'] == 2].Breed2.value_counts().head(10)"
      ],
      "execution_count": 9,
      "outputs": [
        {
          "output_type": "execute_result",
          "data": {
            "text/plain": [
              "0      5135\n",
              "266     599\n",
              "265     321\n",
              "299     138\n",
              "264     125\n",
              "292     105\n",
              "285      78\n",
              "254      42\n",
              "247      39\n",
              "243      30\n",
              "Name: Breed2, dtype: int64"
            ]
          },
          "metadata": {
            "tags": []
          },
          "execution_count": 9
        }
      ]
    },
    {
      "cell_type": "code",
      "metadata": {
        "id": "4nZOV87g0Ns3",
        "colab_type": "code",
        "outputId": "7d06c32d-b9d2-4218-e038-476274cccb07",
        "colab": {
          "base_uri": "https://localhost:8080/",
          "height": 208
        }
      },
      "source": [
        "df.loc[df['Type'] == 1].Breed2.value_counts().head(10)"
      ],
      "execution_count": 10,
      "outputs": [
        {
          "output_type": "execute_result",
          "data": {
            "text/plain": [
              "0      5627\n",
              "307    1727\n",
              "218      90\n",
              "141      86\n",
              "103      55\n",
              "213      49\n",
              "189      40\n",
              "109      39\n",
              "179      38\n",
              "205      32\n",
              "Name: Breed2, dtype: int64"
            ]
          },
          "metadata": {
            "tags": []
          },
          "execution_count": 10
        }
      ]
    },
    {
      "cell_type": "code",
      "metadata": {
        "id": "CEuc9wTi0Rzd",
        "colab_type": "code",
        "colab": {}
      },
      "source": [
        "# create a function to change the uncommon breeds into 'others'\n",
        "def Breed2(df): \n",
        "    \n",
        "    if df.Breed2 not in [0,266,265,307]:\n",
        "        df.Breed2= 999\n",
        "    else:\n",
        "        df.Breed2 = df.Breed2\n",
        "    return df\n",
        "  \n",
        "df=df.apply(Breed2, axis=1)"
      ],
      "execution_count": 0,
      "outputs": []
    },
    {
      "cell_type": "code",
      "metadata": {
        "id": "fy_Vzjy10g9j",
        "colab_type": "code",
        "outputId": "1e59ef96-d9bb-4261-c4a8-66b4b7683d3c",
        "colab": {
          "base_uri": "https://localhost:8080/",
          "height": 121
        }
      },
      "source": [
        "# check the results\n",
        "df.Breed2.value_counts()"
      ],
      "execution_count": 12,
      "outputs": [
        {
          "output_type": "execute_result",
          "data": {
            "text/plain": [
              "0      10762\n",
              "307     1727\n",
              "999     1584\n",
              "266      599\n",
              "265      321\n",
              "Name: Breed2, dtype: int64"
            ]
          },
          "metadata": {
            "tags": []
          },
          "execution_count": 12
        }
      ]
    },
    {
      "cell_type": "markdown",
      "metadata": {
        "id": "A-AAq04SwFe2",
        "colab_type": "text"
      },
      "source": [
        "# Data processing"
      ]
    },
    {
      "cell_type": "code",
      "metadata": {
        "id": "_zmuj7YKnkkx",
        "colab_type": "code",
        "colab": {}
      },
      "source": [
        "# drop the columns we do not need\n",
        "df = df.drop(['Name','RescuerID','Description','PetID'], axis=1)"
      ],
      "execution_count": 0,
      "outputs": []
    },
    {
      "cell_type": "code",
      "metadata": {
        "id": "iEQqYeV2nofs",
        "colab_type": "code",
        "outputId": "3408b6d4-5e94-4da7-b952-fda52815081d",
        "colab": {
          "base_uri": "https://localhost:8080/",
          "height": 104
        }
      },
      "source": [
        "df.columns"
      ],
      "execution_count": 0,
      "outputs": [
        {
          "output_type": "execute_result",
          "data": {
            "text/plain": [
              "Index(['Type', 'Age', 'Breed1', 'Breed2', 'Gender', 'Color1', 'Color2',\n",
              "       'Color3', 'MaturitySize', 'FurLength', 'Vaccinated', 'Dewormed',\n",
              "       'Sterilized', 'Health', 'Quantity', 'Fee', 'State', 'VideoAmt',\n",
              "       'PhotoAmt', 'AdoptionSpeed'],\n",
              "      dtype='object')"
            ]
          },
          "metadata": {
            "tags": []
          },
          "execution_count": 99
        }
      ]
    },
    {
      "cell_type": "code",
      "metadata": {
        "id": "UmwIY-CsRlOQ",
        "colab_type": "code",
        "outputId": "d9182456-a0ed-4377-a8d6-de2a8b34ec52",
        "colab": {
          "base_uri": "https://localhost:8080/",
          "height": 222
        }
      },
      "source": [
        "df.head()"
      ],
      "execution_count": 0,
      "outputs": [
        {
          "output_type": "execute_result",
          "data": {
            "text/html": [
              "<div>\n",
              "<style scoped>\n",
              "    .dataframe tbody tr th:only-of-type {\n",
              "        vertical-align: middle;\n",
              "    }\n",
              "\n",
              "    .dataframe tbody tr th {\n",
              "        vertical-align: top;\n",
              "    }\n",
              "\n",
              "    .dataframe thead th {\n",
              "        text-align: right;\n",
              "    }\n",
              "</style>\n",
              "<table border=\"1\" class=\"dataframe\">\n",
              "  <thead>\n",
              "    <tr style=\"text-align: right;\">\n",
              "      <th></th>\n",
              "      <th>Type</th>\n",
              "      <th>Age</th>\n",
              "      <th>Breed1</th>\n",
              "      <th>Breed2</th>\n",
              "      <th>Gender</th>\n",
              "      <th>Color1</th>\n",
              "      <th>Color2</th>\n",
              "      <th>Color3</th>\n",
              "      <th>MaturitySize</th>\n",
              "      <th>FurLength</th>\n",
              "      <th>Vaccinated</th>\n",
              "      <th>Dewormed</th>\n",
              "      <th>Sterilized</th>\n",
              "      <th>Health</th>\n",
              "      <th>Quantity</th>\n",
              "      <th>Fee</th>\n",
              "      <th>State</th>\n",
              "      <th>VideoAmt</th>\n",
              "      <th>PhotoAmt</th>\n",
              "      <th>AdoptionSpeed</th>\n",
              "    </tr>\n",
              "  </thead>\n",
              "  <tbody>\n",
              "    <tr>\n",
              "      <th>0</th>\n",
              "      <td>2</td>\n",
              "      <td>3</td>\n",
              "      <td>299</td>\n",
              "      <td>0</td>\n",
              "      <td>1</td>\n",
              "      <td>1</td>\n",
              "      <td>7</td>\n",
              "      <td>0</td>\n",
              "      <td>1</td>\n",
              "      <td>1</td>\n",
              "      <td>2</td>\n",
              "      <td>2</td>\n",
              "      <td>2</td>\n",
              "      <td>1</td>\n",
              "      <td>1</td>\n",
              "      <td>100</td>\n",
              "      <td>41326</td>\n",
              "      <td>0</td>\n",
              "      <td>1.0</td>\n",
              "      <td>2</td>\n",
              "    </tr>\n",
              "    <tr>\n",
              "      <th>1</th>\n",
              "      <td>2</td>\n",
              "      <td>1</td>\n",
              "      <td>265</td>\n",
              "      <td>0</td>\n",
              "      <td>1</td>\n",
              "      <td>1</td>\n",
              "      <td>2</td>\n",
              "      <td>0</td>\n",
              "      <td>2</td>\n",
              "      <td>2</td>\n",
              "      <td>3</td>\n",
              "      <td>3</td>\n",
              "      <td>3</td>\n",
              "      <td>1</td>\n",
              "      <td>1</td>\n",
              "      <td>0</td>\n",
              "      <td>41401</td>\n",
              "      <td>0</td>\n",
              "      <td>2.0</td>\n",
              "      <td>0</td>\n",
              "    </tr>\n",
              "    <tr>\n",
              "      <th>2</th>\n",
              "      <td>1</td>\n",
              "      <td>1</td>\n",
              "      <td>307</td>\n",
              "      <td>0</td>\n",
              "      <td>1</td>\n",
              "      <td>2</td>\n",
              "      <td>7</td>\n",
              "      <td>0</td>\n",
              "      <td>2</td>\n",
              "      <td>2</td>\n",
              "      <td>1</td>\n",
              "      <td>1</td>\n",
              "      <td>2</td>\n",
              "      <td>1</td>\n",
              "      <td>1</td>\n",
              "      <td>0</td>\n",
              "      <td>41326</td>\n",
              "      <td>0</td>\n",
              "      <td>7.0</td>\n",
              "      <td>3</td>\n",
              "    </tr>\n",
              "    <tr>\n",
              "      <th>3</th>\n",
              "      <td>1</td>\n",
              "      <td>4</td>\n",
              "      <td>307</td>\n",
              "      <td>0</td>\n",
              "      <td>2</td>\n",
              "      <td>1</td>\n",
              "      <td>2</td>\n",
              "      <td>0</td>\n",
              "      <td>2</td>\n",
              "      <td>1</td>\n",
              "      <td>1</td>\n",
              "      <td>1</td>\n",
              "      <td>2</td>\n",
              "      <td>1</td>\n",
              "      <td>1</td>\n",
              "      <td>150</td>\n",
              "      <td>41401</td>\n",
              "      <td>0</td>\n",
              "      <td>8.0</td>\n",
              "      <td>2</td>\n",
              "    </tr>\n",
              "    <tr>\n",
              "      <th>4</th>\n",
              "      <td>1</td>\n",
              "      <td>1</td>\n",
              "      <td>307</td>\n",
              "      <td>0</td>\n",
              "      <td>1</td>\n",
              "      <td>1</td>\n",
              "      <td>0</td>\n",
              "      <td>0</td>\n",
              "      <td>2</td>\n",
              "      <td>1</td>\n",
              "      <td>2</td>\n",
              "      <td>2</td>\n",
              "      <td>2</td>\n",
              "      <td>1</td>\n",
              "      <td>1</td>\n",
              "      <td>0</td>\n",
              "      <td>41326</td>\n",
              "      <td>0</td>\n",
              "      <td>3.0</td>\n",
              "      <td>2</td>\n",
              "    </tr>\n",
              "  </tbody>\n",
              "</table>\n",
              "</div>"
            ],
            "text/plain": [
              "   Type  Age  Breed1  Breed2  Gender  Color1  Color2  Color3  MaturitySize  \\\n",
              "0     2    3     299       0       1       1       7       0             1   \n",
              "1     2    1     265       0       1       1       2       0             2   \n",
              "2     1    1     307       0       1       2       7       0             2   \n",
              "3     1    4     307       0       2       1       2       0             2   \n",
              "4     1    1     307       0       1       1       0       0             2   \n",
              "\n",
              "   FurLength  Vaccinated  Dewormed  Sterilized  Health  Quantity  Fee  State  \\\n",
              "0          1           2         2           2       1         1  100  41326   \n",
              "1          2           3         3           3       1         1    0  41401   \n",
              "2          2           1         1           2       1         1    0  41326   \n",
              "3          1           1         1           2       1         1  150  41401   \n",
              "4          1           2         2           2       1         1    0  41326   \n",
              "\n",
              "   VideoAmt  PhotoAmt  AdoptionSpeed  \n",
              "0         0       1.0              2  \n",
              "1         0       2.0              0  \n",
              "2         0       7.0              3  \n",
              "3         0       8.0              2  \n",
              "4         0       3.0              2  "
            ]
          },
          "metadata": {
            "tags": []
          },
          "execution_count": 100
        }
      ]
    },
    {
      "cell_type": "code",
      "metadata": {
        "id": "77wsM3KpPp0H",
        "colab_type": "code",
        "outputId": "e949f0df-cc36-4ad3-b091-01791f2244b1",
        "colab": {
          "base_uri": "https://localhost:8080/",
          "height": 294
        }
      },
      "source": [
        "df[['Fee','Age','VideoAmt','PhotoAmt','Quantity']].describe()"
      ],
      "execution_count": 0,
      "outputs": [
        {
          "output_type": "execute_result",
          "data": {
            "text/html": [
              "<div>\n",
              "<style scoped>\n",
              "    .dataframe tbody tr th:only-of-type {\n",
              "        vertical-align: middle;\n",
              "    }\n",
              "\n",
              "    .dataframe tbody tr th {\n",
              "        vertical-align: top;\n",
              "    }\n",
              "\n",
              "    .dataframe thead th {\n",
              "        text-align: right;\n",
              "    }\n",
              "</style>\n",
              "<table border=\"1\" class=\"dataframe\">\n",
              "  <thead>\n",
              "    <tr style=\"text-align: right;\">\n",
              "      <th></th>\n",
              "      <th>Fee</th>\n",
              "      <th>Age</th>\n",
              "      <th>VideoAmt</th>\n",
              "      <th>PhotoAmt</th>\n",
              "      <th>Quantity</th>\n",
              "    </tr>\n",
              "  </thead>\n",
              "  <tbody>\n",
              "    <tr>\n",
              "      <th>count</th>\n",
              "      <td>14993.000000</td>\n",
              "      <td>14993.000000</td>\n",
              "      <td>14993.000000</td>\n",
              "      <td>14993.000000</td>\n",
              "      <td>14993.000000</td>\n",
              "    </tr>\n",
              "    <tr>\n",
              "      <th>mean</th>\n",
              "      <td>21.259988</td>\n",
              "      <td>10.452078</td>\n",
              "      <td>0.056760</td>\n",
              "      <td>3.889215</td>\n",
              "      <td>1.576069</td>\n",
              "    </tr>\n",
              "    <tr>\n",
              "      <th>std</th>\n",
              "      <td>78.414548</td>\n",
              "      <td>18.155790</td>\n",
              "      <td>0.346185</td>\n",
              "      <td>3.487810</td>\n",
              "      <td>1.472477</td>\n",
              "    </tr>\n",
              "    <tr>\n",
              "      <th>min</th>\n",
              "      <td>0.000000</td>\n",
              "      <td>0.000000</td>\n",
              "      <td>0.000000</td>\n",
              "      <td>0.000000</td>\n",
              "      <td>1.000000</td>\n",
              "    </tr>\n",
              "    <tr>\n",
              "      <th>25%</th>\n",
              "      <td>0.000000</td>\n",
              "      <td>2.000000</td>\n",
              "      <td>0.000000</td>\n",
              "      <td>2.000000</td>\n",
              "      <td>1.000000</td>\n",
              "    </tr>\n",
              "    <tr>\n",
              "      <th>50%</th>\n",
              "      <td>0.000000</td>\n",
              "      <td>3.000000</td>\n",
              "      <td>0.000000</td>\n",
              "      <td>3.000000</td>\n",
              "      <td>1.000000</td>\n",
              "    </tr>\n",
              "    <tr>\n",
              "      <th>75%</th>\n",
              "      <td>0.000000</td>\n",
              "      <td>12.000000</td>\n",
              "      <td>0.000000</td>\n",
              "      <td>5.000000</td>\n",
              "      <td>1.000000</td>\n",
              "    </tr>\n",
              "    <tr>\n",
              "      <th>max</th>\n",
              "      <td>3000.000000</td>\n",
              "      <td>255.000000</td>\n",
              "      <td>8.000000</td>\n",
              "      <td>30.000000</td>\n",
              "      <td>20.000000</td>\n",
              "    </tr>\n",
              "  </tbody>\n",
              "</table>\n",
              "</div>"
            ],
            "text/plain": [
              "                Fee           Age      VideoAmt      PhotoAmt      Quantity\n",
              "count  14993.000000  14993.000000  14993.000000  14993.000000  14993.000000\n",
              "mean      21.259988     10.452078      0.056760      3.889215      1.576069\n",
              "std       78.414548     18.155790      0.346185      3.487810      1.472477\n",
              "min        0.000000      0.000000      0.000000      0.000000      1.000000\n",
              "25%        0.000000      2.000000      0.000000      2.000000      1.000000\n",
              "50%        0.000000      3.000000      0.000000      3.000000      1.000000\n",
              "75%        0.000000     12.000000      0.000000      5.000000      1.000000\n",
              "max     3000.000000    255.000000      8.000000     30.000000     20.000000"
            ]
          },
          "metadata": {
            "tags": []
          },
          "execution_count": 14
        }
      ]
    },
    {
      "cell_type": "code",
      "metadata": {
        "id": "1KK31fygSd74",
        "colab_type": "code",
        "outputId": "43ff05ef-2b68-4693-9a14-392e4ba6fe74",
        "colab": {
          "base_uri": "https://localhost:8080/",
          "height": 156
        }
      },
      "source": [
        "df.Color1.value_counts()"
      ],
      "execution_count": 0,
      "outputs": [
        {
          "output_type": "execute_result",
          "data": {
            "text/plain": [
              "1    7427\n",
              "2    3750\n",
              "3     947\n",
              "5     884\n",
              "6     684\n",
              "7     667\n",
              "4     634\n",
              "Name: Color1, dtype: int64"
            ]
          },
          "metadata": {
            "tags": []
          },
          "execution_count": 15
        }
      ]
    },
    {
      "cell_type": "code",
      "metadata": {
        "id": "75fWTBxOoZcU",
        "colab_type": "code",
        "colab": {}
      },
      "source": [
        "X=df.drop(['AdoptionSpeed','Fee','Age','VideoAmt','PhotoAmt','Quantity'],axis=1)\n",
        "y=df.AdoptionSpeed"
      ],
      "execution_count": 0,
      "outputs": []
    },
    {
      "cell_type": "code",
      "metadata": {
        "id": "T_itFvgtSasU",
        "colab_type": "code",
        "outputId": "24633e68-b553-4c66-bb48-adc3829a1d80",
        "colab": {
          "base_uri": "https://localhost:8080/",
          "height": 277
        }
      },
      "source": [
        "X.dtypes"
      ],
      "execution_count": 15,
      "outputs": [
        {
          "output_type": "execute_result",
          "data": {
            "text/plain": [
              "Type            int64\n",
              "Breed1          int64\n",
              "Breed2          int64\n",
              "Gender          int64\n",
              "Color1          int64\n",
              "Color2          int64\n",
              "Color3          int64\n",
              "MaturitySize    int64\n",
              "FurLength       int64\n",
              "Vaccinated      int64\n",
              "Dewormed        int64\n",
              "Sterilized      int64\n",
              "Health          int64\n",
              "State           int64\n",
              "dtype: object"
            ]
          },
          "metadata": {
            "tags": []
          },
          "execution_count": 15
        }
      ]
    },
    {
      "cell_type": "code",
      "metadata": {
        "id": "AGypJC6R5UHz",
        "colab_type": "code",
        "colab": {}
      },
      "source": [
        "from sklearn import preprocessing\n",
        "enc = preprocessing.OneHotEncoder(handle_unknown='ignore')\n",
        "X_cat=enc.fit_transform(X).toarray()"
      ],
      "execution_count": 0,
      "outputs": []
    },
    {
      "cell_type": "code",
      "metadata": {
        "id": "vIt3UwdFVwdZ",
        "colab_type": "code",
        "outputId": "6f554be6-8956-4fc1-fdbb-edb52ca47225",
        "colab": {
          "base_uri": "https://localhost:8080/",
          "height": 72
        }
      },
      "source": [
        "df2  = df[['Age','Quantity','Fee','VideoAmt','PhotoAmt',]].as_matrix()"
      ],
      "execution_count": 17,
      "outputs": [
        {
          "output_type": "stream",
          "text": [
            "/usr/local/lib/python3.6/dist-packages/ipykernel_launcher.py:1: FutureWarning: Method .as_matrix will be removed in a future version. Use .values instead.\n",
            "  \"\"\"Entry point for launching an IPython kernel.\n"
          ],
          "name": "stderr"
        }
      ]
    },
    {
      "cell_type": "code",
      "metadata": {
        "id": "hqjULOULjxt-",
        "colab_type": "code",
        "colab": {}
      },
      "source": [
        "X=np.concatenate([X_cat, df2], axis=1)"
      ],
      "execution_count": 0,
      "outputs": []
    },
    {
      "cell_type": "code",
      "metadata": {
        "id": "GMvbEumTXC3P",
        "colab_type": "code",
        "colab": {}
      },
      "source": [
        "from sklearn.preprocessing import MinMaxScaler \n",
        "scaler = MinMaxScaler()\n",
        "X=scaler.fit_transform(X)"
      ],
      "execution_count": 0,
      "outputs": []
    },
    {
      "cell_type": "code",
      "metadata": {
        "id": "-jkSg6rD3k8l",
        "colab_type": "code",
        "outputId": "1f629d48-4f56-417a-cc87-78e1e000d82b",
        "colab": {
          "base_uri": "https://localhost:8080/",
          "height": 35
        }
      },
      "source": [
        "X.shape"
      ],
      "execution_count": 20,
      "outputs": [
        {
          "output_type": "execute_result",
          "data": {
            "text/plain": [
              "(14993, 77)"
            ]
          },
          "metadata": {
            "tags": []
          },
          "execution_count": 20
        }
      ]
    },
    {
      "cell_type": "code",
      "metadata": {
        "id": "KPCfDsef7DKi",
        "colab_type": "code",
        "outputId": "71676143-f752-470a-8b66-88f791da1f05",
        "colab": {
          "base_uri": "https://localhost:8080/",
          "height": 35
        }
      },
      "source": [
        "y.array.shape"
      ],
      "execution_count": 21,
      "outputs": [
        {
          "output_type": "execute_result",
          "data": {
            "text/plain": [
              "(14993,)"
            ]
          },
          "metadata": {
            "tags": []
          },
          "execution_count": 21
        }
      ]
    },
    {
      "cell_type": "code",
      "metadata": {
        "id": "dMywtX2d2E9V",
        "colab_type": "code",
        "outputId": "db27ee1c-b3a1-43aa-fc6d-8691cb34c466",
        "colab": {
          "base_uri": "https://localhost:8080/",
          "height": 1000
        }
      },
      "source": [
        "from scipy import stats\n",
        "stats.describe(X)"
      ],
      "execution_count": 0,
      "outputs": [
        {
          "output_type": "execute_result",
          "data": {
            "text/plain": [
              "DescribeResult(nobs=14993, minmax=(array([0., 0., 0., 0., 0., 0., 0., 0., 0., 0., 0., 0., 0., 0., 0., 0., 0.,\n",
              "       0., 0., 0., 0., 0., 0., 0., 0., 0., 0., 0., 0., 0., 0., 0., 0., 0.,\n",
              "       0., 0., 0., 0., 0., 0., 0., 0., 0., 0., 0., 0., 0., 0., 0., 0., 0.,\n",
              "       0., 0., 0., 0., 0., 0., 0., 0., 0., 0., 0., 0., 0., 0., 0., 0., 0.,\n",
              "       0., 0., 0., 0., 0., 0., 0., 0., 0.]), array([1., 1., 1., 1., 1., 1., 1., 1., 1., 1., 1., 1., 1., 1., 1., 1., 1.,\n",
              "       1., 1., 1., 1., 1., 1., 1., 1., 1., 1., 1., 1., 1., 1., 1., 1., 1.,\n",
              "       1., 1., 1., 1., 1., 1., 1., 1., 1., 1., 1., 1., 1., 1., 1., 1., 1.,\n",
              "       1., 1., 1., 1., 1., 1., 1., 1., 1., 1., 1., 1., 1., 1., 1., 1., 1.,\n",
              "       1., 1., 1., 1., 1., 1., 1., 1., 1.])), mean=array([5.42386447e-01, 4.57613553e-01, 1.36730474e-02, 1.97425465e-02,\n",
              "       8.39058227e-02, 2.42379777e-01, 1.47402121e-02, 1.76082172e-02,\n",
              "       2.28106450e-02, 3.95317815e-01, 1.89821917e-01, 7.17801641e-01,\n",
              "       2.14099913e-02, 3.99519776e-02, 1.15187087e-01, 1.05649303e-01,\n",
              "       3.69238978e-01, 4.85359835e-01, 1.45401187e-01, 4.95364503e-01,\n",
              "       2.50116721e-01, 6.31628093e-02, 4.22864003e-02, 5.89608484e-02,\n",
              "       4.56212899e-02, 4.44874275e-02, 2.98205829e-01, 2.20969786e-01,\n",
              "       4.73554325e-02, 5.80270793e-02, 7.52351097e-02, 7.08997532e-02,\n",
              "       2.29307010e-01, 7.07263390e-01, 1.16721137e-02, 1.32061629e-02,\n",
              "       2.78129794e-02, 2.52117655e-02, 2.14833589e-01, 2.26439005e-01,\n",
              "       6.87320750e-01, 8.40392183e-02, 2.20102715e-03, 5.87474155e-01,\n",
              "       3.57566865e-01, 5.49589809e-02, 3.93383579e-01, 4.82024945e-01,\n",
              "       1.24591476e-01, 5.60061362e-01, 3.21149870e-01, 1.18788768e-01,\n",
              "       2.06829854e-01, 6.72113653e-01, 1.21056493e-01, 9.65650637e-01,\n",
              "       3.20816381e-02, 2.26772494e-03, 9.13759755e-03, 7.33675715e-03,\n",
              "       5.81204562e-01, 5.62262389e-02, 2.80130728e-02, 1.68745415e-02,\n",
              "       5.66931235e-03, 3.38157807e-02, 8.67071300e-04, 1.46735143e-03,\n",
              "       1.73414260e-03, 1.00046688e-03, 2.56453011e-01, 2.00093377e-04,\n",
              "       4.09885397e-02, 3.03194122e-02, 7.08666266e-03, 7.09497766e-03,\n",
              "       1.29640499e-01]), variance=array([2.48219945e-01, 2.48219945e-01, 1.34869947e-02, 1.93540693e-02,\n",
              "       7.68707627e-02, 1.83644069e-01, 1.45239070e-02, 1.72993217e-02,\n",
              "       2.22918063e-02, 2.39057585e-01, 1.53799815e-01, 2.02575957e-01,\n",
              "       2.09530011e-02, 3.83583755e-02, 1.01925820e-01, 9.44938303e-02,\n",
              "       2.32917090e-01, 2.49802327e-01, 1.24267970e-01, 2.49995186e-01,\n",
              "       1.87570858e-01, 5.91772158e-02, 4.05009620e-02, 5.54881677e-02,\n",
              "       4.35428921e-02, 4.25111317e-02, 2.09293072e-01, 1.72153622e-01,\n",
              "       4.51159047e-02, 5.46635833e-02, 6.95794288e-02, 6.58773721e-02,\n",
              "       1.76737093e-01, 2.07055697e-01, 1.15366449e-02, 1.30326294e-02,\n",
              "       2.70412212e-02, 2.45777717e-02, 1.68691369e-01, 1.75176066e-01,\n",
              "       2.14925272e-01, 7.69817626e-02, 2.19632912e-03, 2.42364437e-01,\n",
              "       2.29728124e-01, 5.19419557e-02, 2.38648856e-01, 2.49693551e-01,\n",
              "       1.09075715e-01, 2.46409068e-01, 2.18027173e-01, 1.04684979e-01,\n",
              "       1.64062208e-01, 2.20391590e-01, 1.06408916e-01, 3.31716968e-02,\n",
              "       3.10544779e-02, 2.26273328e-03, 9.05470579e-03, 7.28341494e-03,\n",
              "       2.43422055e-01, 5.30683885e-02, 2.72301567e-02, 1.65908979e-02,\n",
              "       5.63754726e-03, 3.26744530e-02, 8.66377273e-04, 1.46529604e-03,\n",
              "       1.73125082e-03, 9.99532617e-04, 1.90697583e-01, 2.00066684e-04,\n",
              "       5.06932296e-03, 6.00606445e-03, 6.83204587e-04, 1.87255848e-03,\n",
              "       1.35164670e-02]), skewness=array([-1.70158307e-01,  1.70158307e-01,  8.37558642e+00,  6.90450340e+00,\n",
              "        3.00161870e+00,  1.20236403e+00,  8.05335891e+00,  7.33550206e+00,\n",
              "        6.39238018e+00,  4.28219061e-01,  1.58189510e+00, -9.67858074e-01,\n",
              "        6.61279393e+00,  4.69804903e+00,  2.41074907e+00,  2.56581515e+00,\n",
              "        5.41903688e-01,  5.85857809e-02,  2.01188037e+00,  1.85427832e-02,\n",
              "        1.15398189e+00,  3.59159055e+00,  4.54889201e+00,  3.74473795e+00,\n",
              "        4.35515703e+00,  4.41868980e+00,  8.82217502e-01,  1.34504752e+00,\n",
              "        4.26223074e+00,  3.78086432e+00,  3.22071771e+00,  3.34376009e+00,\n",
              "        1.28782732e+00, -9.11010711e-01,  9.09318952e+00,  8.52851717e+00,\n",
              "        5.74308672e+00,  6.05721760e+00,  1.38866157e+00,  1.30725788e+00,\n",
              "       -8.08140039e-01,  2.99849231e+00,  2.12446591e+01, -3.55377384e-01,\n",
              "        5.94358435e-01,  3.90557851e+00,  4.36504676e-01,  7.19467275e-02,\n",
              "        2.27344564e+00, -2.41997741e-01,  7.66087591e-01,  2.35650292e+00,\n",
              "        1.44763791e+00, -7.33267257e-01,  2.32343186e+00, -5.11353034e+00,\n",
              "        5.31070835e+00,  2.09278012e+01,  1.03173242e+01,  1.15458820e+01,\n",
              "       -3.29188721e-01,  3.85290366e+00,  5.72070271e+00,  7.50186868e+00,\n",
              "        1.31679132e+01,  5.15819653e+00,  3.39161991e+01,  2.60480608e+01,\n",
              "        2.39511082e+01,  3.15679321e+01,  1.11546166e+00,  7.06729571e+01,\n",
              "        3.76259844e+00,  4.59935949e+00,  8.92049230e+00,  9.45758689e+00,\n",
              "        2.86035183e+00]), kurtosis=array([-1.97104615e+00, -1.97104615e+00,  6.81504480e+01,  4.56721672e+01,\n",
              "        7.00971483e+00, -5.54320730e-01,  6.28565897e+01,  5.18095905e+01,\n",
              "        3.88625244e+01, -1.81662844e+00,  5.02392107e-01, -1.06325075e+00,\n",
              "        4.17290435e+01,  2.00716646e+01,  3.81171108e+00,  4.58340739e+00,\n",
              "       -1.70634039e+00, -1.99656771e+00,  2.04766264e+00, -1.99965617e+00,\n",
              "       -6.68325797e-01,  1.08995227e+01,  1.86924185e+01,  1.20230623e+01,\n",
              "        1.69673927e+01,  1.75248196e+01, -1.22169228e+00, -1.90847156e-01,\n",
              "        1.61666109e+01,  1.22949350e+01,  8.37302260e+00,  9.18073157e+00,\n",
              "       -3.41500787e-01, -1.17005948e+00,  8.06860957e+01,  7.07356051e+01,\n",
              "        3.09830451e+01,  3.46898850e+01, -7.16190408e-02, -2.91076822e-01,\n",
              "       -1.34690968e+00,  6.99095615e+00,  4.49335539e+02, -1.87370692e+00,\n",
              "       -1.64673805e+00,  1.32535435e+01, -1.80946367e+00, -1.99482367e+00,\n",
              "        3.16855507e+00, -1.94143709e+00, -1.41310980e+00,  3.55310602e+00,\n",
              "        9.56555088e-02, -1.46231913e+00,  3.39833561e+00,  2.41481926e+01,\n",
              "        2.62036232e+01,  4.35972861e+02,  1.04447178e+02,  1.31307391e+02,\n",
              "       -1.89163479e+00,  1.28448666e+01,  3.07264395e+01,  5.42780337e+01,\n",
              "        1.71393937e+02,  2.46069914e+01,  1.14830856e+03,  6.76501470e+02,\n",
              "        5.71655583e+02,  9.94534335e+02, -7.55745279e-01,  4.99266687e+03,\n",
              "        2.07648115e+01,  3.40750088e+01,  1.91636317e+02,  1.24382741e+02,\n",
              "        1.26413013e+01]))"
            ]
          },
          "metadata": {
            "tags": []
          },
          "execution_count": 114
        }
      ]
    },
    {
      "cell_type": "code",
      "metadata": {
        "id": "djVGElPSywlo",
        "colab_type": "code",
        "colab": {}
      },
      "source": [
        "# Get training and test sets\n",
        "\n",
        "X_train, X_test, y_train, y_test = train_test_split(X, y, test_size=0.30, random_state=37)"
      ],
      "execution_count": 0,
      "outputs": []
    },
    {
      "cell_type": "markdown",
      "metadata": {
        "id": "ER7lkNrJ0dHf",
        "colab_type": "text"
      },
      "source": [
        "# Random Forest \n",
        "accuracy = 39.62%"
      ]
    },
    {
      "cell_type": "code",
      "metadata": {
        "id": "TPst_LqSv7v9",
        "colab_type": "code",
        "outputId": "c503958b-4a6d-4330-815e-4485e0fa2fc6",
        "colab": {
          "base_uri": "https://localhost:8080/",
          "height": 139
        }
      },
      "source": [
        "from sklearn.ensemble import RandomForestClassifier\n",
        "rfr = RandomForestClassifier(n_estimators=100,  random_state=42)\n",
        "rfr.fit(X_train, y_train)"
      ],
      "execution_count": 0,
      "outputs": [
        {
          "output_type": "execute_result",
          "data": {
            "text/plain": [
              "RandomForestClassifier(bootstrap=True, class_weight=None, criterion='gini',\n",
              "                       max_depth=None, max_features='auto', max_leaf_nodes=None,\n",
              "                       min_impurity_decrease=0.0, min_impurity_split=None,\n",
              "                       min_samples_leaf=1, min_samples_split=2,\n",
              "                       min_weight_fraction_leaf=0.0, n_estimators=100,\n",
              "                       n_jobs=None, oob_score=False, random_state=42, verbose=0,\n",
              "                       warm_start=False)"
            ]
          },
          "metadata": {
            "tags": []
          },
          "execution_count": 27
        }
      ]
    },
    {
      "cell_type": "code",
      "metadata": {
        "id": "hM5TFFb2wWE4",
        "colab_type": "code",
        "colab": {}
      },
      "source": [
        "from sklearn.metrics import confusion_matrix\n",
        "from sklearn.metrics import mean_squared_error\n",
        "from sklearn.metrics import accuracy_score"
      ],
      "execution_count": 0,
      "outputs": []
    },
    {
      "cell_type": "code",
      "metadata": {
        "id": "AyFp5OhQz5g-",
        "colab_type": "code",
        "outputId": "a0ea3753-041e-4680-9461-9b84f8db33c2",
        "colab": {
          "base_uri": "https://localhost:8080/",
          "height": 35
        }
      },
      "source": [
        "print('Accuracy score for the current model is', accuracy_score(y_test, rfr.predict(X_test))*100)"
      ],
      "execution_count": 0,
      "outputs": [
        {
          "output_type": "stream",
          "text": [
            "Accuracy score for the current model is 39.817696754112944\n"
          ],
          "name": "stdout"
        }
      ]
    },
    {
      "cell_type": "markdown",
      "metadata": {
        "id": "bDbxmrAp05KT",
        "colab_type": "text"
      },
      "source": [
        "# Neural Network"
      ]
    },
    {
      "cell_type": "code",
      "metadata": {
        "id": "m2gbFIvE1EzV",
        "colab_type": "code",
        "outputId": "e3288403-13d8-48bc-9250-667541db25e0",
        "colab": {
          "base_uri": "https://localhost:8080/",
          "height": 35
        }
      },
      "source": [
        "from keras.layers import *\n",
        "from keras.models import Sequential"
      ],
      "execution_count": 0,
      "outputs": [
        {
          "output_type": "stream",
          "text": [
            "Using TensorFlow backend.\n"
          ],
          "name": "stderr"
        }
      ]
    },
    {
      "cell_type": "code",
      "metadata": {
        "id": "0Y09BIzW2Xmg",
        "colab_type": "code",
        "colab": {}
      },
      "source": [
        "from keras.utils import to_categorical\n",
        "y_train_cat = to_categorical(y_train)\n",
        "y_test_cat = to_categorical(y_test)"
      ],
      "execution_count": 0,
      "outputs": []
    },
    {
      "cell_type": "code",
      "metadata": {
        "id": "8uE4a0M61OKb",
        "colab_type": "code",
        "outputId": "22d7ea5a-5a64-4eec-e529-b48ff658e8e7",
        "colab": {
          "base_uri": "https://localhost:8080/",
          "height": 364
        }
      },
      "source": [
        "ncol=X_train.shape[1]\n",
        "act='tanh'\n",
        "num=30\n",
        "nn1 = Sequential()\n",
        "nn1.add(Dense(num,activation=act, input_shape = (ncol,)))\n",
        "nn1.add(Dropout(0.2))\n",
        "nn1.add(Dense(num, activation=act))\n",
        "nn1.add(Dropout(0.2))\n",
        "nn1.add(Dense(num, activation=act))\n",
        "nn1.add(Dense(5, activation='softmax')) \n",
        "nn1.compile(loss='categorical_crossentropy', optimizer='adam',metrics=['categorical_accuracy'])\n",
        "nn1.summary()"
      ],
      "execution_count": 0,
      "outputs": [
        {
          "output_type": "stream",
          "text": [
            "Model: \"sequential_4\"\n",
            "_________________________________________________________________\n",
            "Layer (type)                 Output Shape              Param #   \n",
            "=================================================================\n",
            "dense_13 (Dense)             (None, 30)                1890      \n",
            "_________________________________________________________________\n",
            "dropout_7 (Dropout)          (None, 30)                0         \n",
            "_________________________________________________________________\n",
            "dense_14 (Dense)             (None, 30)                930       \n",
            "_________________________________________________________________\n",
            "dropout_8 (Dropout)          (None, 30)                0         \n",
            "_________________________________________________________________\n",
            "dense_15 (Dense)             (None, 30)                930       \n",
            "_________________________________________________________________\n",
            "dense_16 (Dense)             (None, 5)                 155       \n",
            "=================================================================\n",
            "Total params: 3,905\n",
            "Trainable params: 3,905\n",
            "Non-trainable params: 0\n",
            "_________________________________________________________________\n"
          ],
          "name": "stdout"
        }
      ]
    },
    {
      "cell_type": "code",
      "metadata": {
        "id": "TYxhGjuY2Iee",
        "colab_type": "code",
        "outputId": "0e7cdb06-479d-4ece-dd47-9c2953fed8a9",
        "colab": {
          "base_uri": "https://localhost:8080/",
          "height": 1000
        }
      },
      "source": [
        "history=nn1.fit(X_train,\n",
        "                    y_train_cat,\n",
        "                    epochs=60,\n",
        "                    batch_size=10,\n",
        "                    validation_data=(X_test, y_test_cat))"
      ],
      "execution_count": 0,
      "outputs": [
        {
          "output_type": "stream",
          "text": [
            "Train on 10495 samples, validate on 4498 samples\n",
            "Epoch 1/60\n",
            "10495/10495 [==============================] - 6s 612us/step - loss: 1.3830 - acc: 0.3717 - val_loss: 1.3832 - val_acc: 0.3659\n",
            "Epoch 2/60\n",
            "10495/10495 [==============================] - 6s 617us/step - loss: 1.3875 - acc: 0.3665 - val_loss: 1.3859 - val_acc: 0.3535\n",
            "Epoch 3/60\n",
            "10495/10495 [==============================] - 6s 605us/step - loss: 1.3805 - acc: 0.3720 - val_loss: 1.3822 - val_acc: 0.3713\n",
            "Epoch 4/60\n",
            "10495/10495 [==============================] - 6s 619us/step - loss: 1.3838 - acc: 0.3745 - val_loss: 1.3885 - val_acc: 0.3579\n",
            "Epoch 5/60\n",
            "10495/10495 [==============================] - 6s 614us/step - loss: 1.3830 - acc: 0.3678 - val_loss: 1.3823 - val_acc: 0.3708\n",
            "Epoch 6/60\n",
            "10495/10495 [==============================] - 7s 620us/step - loss: 1.3830 - acc: 0.3789 - val_loss: 1.3826 - val_acc: 0.3606\n",
            "Epoch 7/60\n",
            "10495/10495 [==============================] - 7s 636us/step - loss: 1.3787 - acc: 0.3768 - val_loss: 1.3784 - val_acc: 0.3713\n",
            "Epoch 8/60\n",
            "10495/10495 [==============================] - 7s 627us/step - loss: 1.3778 - acc: 0.3779 - val_loss: 1.3798 - val_acc: 0.3679\n",
            "Epoch 9/60\n",
            "10495/10495 [==============================] - 6s 619us/step - loss: 1.3786 - acc: 0.3739 - val_loss: 1.3863 - val_acc: 0.3671\n",
            "Epoch 10/60\n",
            "10495/10495 [==============================] - 7s 620us/step - loss: 1.3752 - acc: 0.3727 - val_loss: 1.3842 - val_acc: 0.3588\n",
            "Epoch 11/60\n",
            "10495/10495 [==============================] - 7s 626us/step - loss: 1.3733 - acc: 0.3833 - val_loss: 1.3875 - val_acc: 0.3702\n",
            "Epoch 12/60\n",
            "10495/10495 [==============================] - 7s 620us/step - loss: 1.3721 - acc: 0.3758 - val_loss: 1.3831 - val_acc: 0.3602\n",
            "Epoch 13/60\n",
            "10495/10495 [==============================] - 7s 628us/step - loss: 1.3720 - acc: 0.3769 - val_loss: 1.3799 - val_acc: 0.3628\n",
            "Epoch 14/60\n",
            "10495/10495 [==============================] - 7s 626us/step - loss: 1.3730 - acc: 0.3752 - val_loss: 1.3823 - val_acc: 0.3628\n",
            "Epoch 15/60\n",
            "10495/10495 [==============================] - 7s 625us/step - loss: 1.3722 - acc: 0.3749 - val_loss: 1.3817 - val_acc: 0.3582\n",
            "Epoch 16/60\n",
            "10495/10495 [==============================] - 7s 632us/step - loss: 1.3692 - acc: 0.3799 - val_loss: 1.3827 - val_acc: 0.3655\n",
            "Epoch 17/60\n",
            "10495/10495 [==============================] - 6s 616us/step - loss: 1.3673 - acc: 0.3833 - val_loss: 1.3823 - val_acc: 0.3711\n",
            "Epoch 18/60\n",
            "10495/10495 [==============================] - 7s 635us/step - loss: 1.3674 - acc: 0.3796 - val_loss: 1.3850 - val_acc: 0.3753\n",
            "Epoch 19/60\n",
            "10495/10495 [==============================] - 7s 668us/step - loss: 1.3692 - acc: 0.3841 - val_loss: 1.3858 - val_acc: 0.3648\n",
            "Epoch 20/60\n",
            "10495/10495 [==============================] - 7s 637us/step - loss: 1.3682 - acc: 0.3814 - val_loss: 1.3832 - val_acc: 0.3626\n",
            "Epoch 21/60\n",
            "10495/10495 [==============================] - 7s 630us/step - loss: 1.3653 - acc: 0.3876 - val_loss: 1.3862 - val_acc: 0.3671\n",
            "Epoch 22/60\n",
            "10495/10495 [==============================] - 7s 628us/step - loss: 1.3629 - acc: 0.3862 - val_loss: 1.3789 - val_acc: 0.3686\n",
            "Epoch 23/60\n",
            "10495/10495 [==============================] - 7s 636us/step - loss: 1.3659 - acc: 0.3844 - val_loss: 1.3801 - val_acc: 0.3708\n",
            "Epoch 24/60\n",
            "10495/10495 [==============================] - 7s 631us/step - loss: 1.3655 - acc: 0.3873 - val_loss: 1.3817 - val_acc: 0.3706\n",
            "Epoch 25/60\n",
            "10495/10495 [==============================] - 6s 617us/step - loss: 1.3609 - acc: 0.3823 - val_loss: 1.3814 - val_acc: 0.3615\n",
            "Epoch 26/60\n",
            "10495/10495 [==============================] - 7s 655us/step - loss: 1.3618 - acc: 0.3833 - val_loss: 1.3814 - val_acc: 0.3824\n",
            "Epoch 27/60\n",
            "10495/10495 [==============================] - 7s 635us/step - loss: 1.3647 - acc: 0.3801 - val_loss: 1.3791 - val_acc: 0.3719\n",
            "Epoch 28/60\n",
            "10495/10495 [==============================] - 7s 633us/step - loss: 1.3598 - acc: 0.3892 - val_loss: 1.3819 - val_acc: 0.3771\n",
            "Epoch 29/60\n",
            "10495/10495 [==============================] - 7s 631us/step - loss: 1.3625 - acc: 0.3859 - val_loss: 1.3833 - val_acc: 0.3653\n",
            "Epoch 30/60\n",
            "10495/10495 [==============================] - 7s 633us/step - loss: 1.3597 - acc: 0.3855 - val_loss: 1.3863 - val_acc: 0.3746\n",
            "Epoch 31/60\n",
            "10495/10495 [==============================] - 7s 623us/step - loss: 1.3580 - acc: 0.3877 - val_loss: 1.3819 - val_acc: 0.3702\n",
            "Epoch 32/60\n",
            "10495/10495 [==============================] - 7s 628us/step - loss: 1.3567 - acc: 0.3978 - val_loss: 1.3848 - val_acc: 0.3713\n",
            "Epoch 33/60\n",
            "10495/10495 [==============================] - 7s 629us/step - loss: 1.3602 - acc: 0.3912 - val_loss: 1.3821 - val_acc: 0.3771\n",
            "Epoch 34/60\n",
            "10495/10495 [==============================] - 7s 636us/step - loss: 1.3563 - acc: 0.3889 - val_loss: 1.3876 - val_acc: 0.3704\n",
            "Epoch 35/60\n",
            "10495/10495 [==============================] - 7s 624us/step - loss: 1.3570 - acc: 0.3890 - val_loss: 1.3836 - val_acc: 0.3764\n",
            "Epoch 36/60\n",
            "10495/10495 [==============================] - 7s 634us/step - loss: 1.3554 - acc: 0.3874 - val_loss: 1.3846 - val_acc: 0.3719\n",
            "Epoch 37/60\n",
            "10495/10495 [==============================] - 6s 618us/step - loss: 1.3529 - acc: 0.3976 - val_loss: 1.3869 - val_acc: 0.3759\n",
            "Epoch 38/60\n",
            "10495/10495 [==============================] - 7s 624us/step - loss: 1.3525 - acc: 0.3948 - val_loss: 1.3862 - val_acc: 0.3704\n",
            "Epoch 39/60\n",
            "10495/10495 [==============================] - 7s 636us/step - loss: 1.3512 - acc: 0.3905 - val_loss: 1.3833 - val_acc: 0.3673\n",
            "Epoch 40/60\n",
            "10495/10495 [==============================] - 7s 620us/step - loss: 1.3578 - acc: 0.3850 - val_loss: 1.3836 - val_acc: 0.3719\n",
            "Epoch 41/60\n",
            "10495/10495 [==============================] - 7s 622us/step - loss: 1.3512 - acc: 0.3880 - val_loss: 1.3810 - val_acc: 0.3768\n",
            "Epoch 42/60\n",
            "10495/10495 [==============================] - 7s 621us/step - loss: 1.3498 - acc: 0.3949 - val_loss: 1.3815 - val_acc: 0.3726\n",
            "Epoch 43/60\n",
            "10495/10495 [==============================] - 7s 640us/step - loss: 1.3511 - acc: 0.3917 - val_loss: 1.3806 - val_acc: 0.3739\n",
            "Epoch 44/60\n",
            "10495/10495 [==============================] - 7s 633us/step - loss: 1.3530 - acc: 0.3962 - val_loss: 1.3860 - val_acc: 0.3713\n",
            "Epoch 45/60\n",
            "10495/10495 [==============================] - 7s 632us/step - loss: 1.3542 - acc: 0.3853 - val_loss: 1.3790 - val_acc: 0.3775\n",
            "Epoch 46/60\n",
            "10495/10495 [==============================] - 7s 632us/step - loss: 1.3493 - acc: 0.3936 - val_loss: 1.3823 - val_acc: 0.3766\n",
            "Epoch 47/60\n",
            "10495/10495 [==============================] - 7s 638us/step - loss: 1.3490 - acc: 0.3923 - val_loss: 1.3878 - val_acc: 0.3751\n",
            "Epoch 48/60\n",
            "10495/10495 [==============================] - 7s 632us/step - loss: 1.3497 - acc: 0.3927 - val_loss: 1.3856 - val_acc: 0.3688\n",
            "Epoch 49/60\n",
            "10495/10495 [==============================] - 6s 619us/step - loss: 1.3486 - acc: 0.3984 - val_loss: 1.3842 - val_acc: 0.3704\n",
            "Epoch 50/60\n",
            "10495/10495 [==============================] - 7s 633us/step - loss: 1.3523 - acc: 0.3899 - val_loss: 1.3846 - val_acc: 0.3682\n",
            "Epoch 51/60\n",
            "10495/10495 [==============================] - 7s 631us/step - loss: 1.3480 - acc: 0.3952 - val_loss: 1.3864 - val_acc: 0.3786\n",
            "Epoch 52/60\n",
            "10495/10495 [==============================] - 7s 634us/step - loss: 1.3473 - acc: 0.3965 - val_loss: 1.3853 - val_acc: 0.3717\n",
            "Epoch 53/60\n",
            "10495/10495 [==============================] - 7s 634us/step - loss: 1.3485 - acc: 0.3930 - val_loss: 1.3841 - val_acc: 0.3722\n",
            "Epoch 54/60\n",
            "10495/10495 [==============================] - 7s 633us/step - loss: 1.3454 - acc: 0.3947 - val_loss: 1.3811 - val_acc: 0.3782\n",
            "Epoch 55/60\n",
            "10495/10495 [==============================] - 7s 626us/step - loss: 1.3444 - acc: 0.3972 - val_loss: 1.3802 - val_acc: 0.3797\n",
            "Epoch 56/60\n",
            "10495/10495 [==============================] - 7s 640us/step - loss: 1.3475 - acc: 0.3933 - val_loss: 1.3798 - val_acc: 0.3726\n",
            "Epoch 57/60\n",
            "10495/10495 [==============================] - 7s 649us/step - loss: 1.3439 - acc: 0.3955 - val_loss: 1.3826 - val_acc: 0.3775\n",
            "Epoch 58/60\n",
            "10495/10495 [==============================] - 7s 630us/step - loss: 1.3455 - acc: 0.4016 - val_loss: 1.3852 - val_acc: 0.3773\n",
            "Epoch 59/60\n",
            "10495/10495 [==============================] - 6s 619us/step - loss: 1.3427 - acc: 0.3978 - val_loss: 1.3793 - val_acc: 0.3755\n",
            "Epoch 60/60\n",
            "10495/10495 [==============================] - 7s 630us/step - loss: 1.3475 - acc: 0.3929 - val_loss: 1.3815 - val_acc: 0.3748\n"
          ],
          "name": "stdout"
        }
      ]
    },
    {
      "cell_type": "code",
      "metadata": {
        "id": "b5ntvy52258T",
        "colab_type": "code",
        "outputId": "1a1bd9ce-cd0a-4b89-922a-de6442389289",
        "colab": {
          "base_uri": "https://localhost:8080/",
          "height": 371
        }
      },
      "source": [
        "# get the learning curve\n",
        "loss = history.history['acc']\n",
        "val_loss = history.history['val_acc']\n",
        "epochs = range(1, len(loss) + 1);\n",
        "plt.plot(epochs, loss, 'b', label='Training accuracy')\n",
        "plt.plot(epochs, val_loss, 'r', label='Test accuracy')\n",
        "plt.title('Training and test accuracy')\n",
        "plt.xlabel('Epochs')\n",
        "plt.ylabel('Accuracy')\n",
        "plt.legend()\n",
        "plt.show()"
      ],
      "execution_count": 0,
      "outputs": [
        {
          "output_type": "execute_result",
          "data": {
            "text/plain": [
              "[<matplotlib.lines.Line2D at 0x7f8d7808f240>]"
            ]
          },
          "metadata": {
            "tags": []
          },
          "execution_count": 162
        },
        {
          "output_type": "execute_result",
          "data": {
            "text/plain": [
              "[<matplotlib.lines.Line2D at 0x7f8d7809ad68>]"
            ]
          },
          "metadata": {
            "tags": []
          },
          "execution_count": 162
        },
        {
          "output_type": "execute_result",
          "data": {
            "text/plain": [
              "Text(0.5, 1.0, 'Training and test accuracy')"
            ]
          },
          "metadata": {
            "tags": []
          },
          "execution_count": 162
        },
        {
          "output_type": "execute_result",
          "data": {
            "text/plain": [
              "Text(0.5, 0, 'Epochs')"
            ]
          },
          "metadata": {
            "tags": []
          },
          "execution_count": 162
        },
        {
          "output_type": "execute_result",
          "data": {
            "text/plain": [
              "Text(0, 0.5, 'Accuracy')"
            ]
          },
          "metadata": {
            "tags": []
          },
          "execution_count": 162
        },
        {
          "output_type": "execute_result",
          "data": {
            "text/plain": [
              "<matplotlib.legend.Legend at 0x7f8d780facc0>"
            ]
          },
          "metadata": {
            "tags": []
          },
          "execution_count": 162
        },
        {
          "output_type": "display_data",
          "data": {
            "image/png": "[encoded data removed]",
            "text/plain": [
              "<Figure size 432x288 with 1 Axes>"
            ]
          },
          "metadata": {
            "tags": []
          }
        }
      ]
    },
    {
      "cell_type": "markdown",
      "metadata": {
        "id": "kj-UbHx3dXgR",
        "colab_type": "text"
      },
      "source": [
        "# XGBoost"
      ]
    },
    {
      "cell_type": "code",
      "metadata": {
        "id": "QSjKJ65BdbtQ",
        "colab_type": "code",
        "colab": {}
      },
      "source": [
        "from xgboost.sklearn import XGBClassifier \n",
        "# fit model to training data\n",
        "xgb_model = XGBClassifier().fit(X_train, y_train)"
      ],
      "execution_count": 0,
      "outputs": []
    },
    {
      "cell_type": "code",
      "metadata": {
        "id": "3i9P9HFld6Yy",
        "colab_type": "code",
        "outputId": "34975d1b-6090-4e56-981d-538f454e8273",
        "colab": {
          "base_uri": "https://localhost:8080/",
          "height": 35
        }
      },
      "source": [
        "print('Accuracy score for the current model is', accuracy_score(y_test, xgb_model.predict(X_test))*100)"
      ],
      "execution_count": 0,
      "outputs": [
        {
          "output_type": "stream",
          "text": [
            "Accuracy score for the current model is 40.706980880391285\n"
          ],
          "name": "stdout"
        }
      ]
    },
    {
      "cell_type": "code",
      "metadata": {
        "id": "5BQWOx8ne9ef",
        "colab_type": "code",
        "outputId": "34564a29-ddd1-43a7-8a89-9b9a64fc33ef",
        "colab": {
          "base_uri": "https://localhost:8080/",
          "height": 104
        }
      },
      "source": [
        "confusion_matrix(y_test, xgb_model.predict(X_test),labels=[0,1,2,3,4])"
      ],
      "execution_count": 0,
      "outputs": [
        {
          "output_type": "execute_result",
          "data": {
            "text/plain": [
              "array([[  1,  40,  28,   7,  32],\n",
              "       [  0, 264, 367,  49, 219],\n",
              "       [  0, 243, 527, 127, 364],\n",
              "       [  0, 138, 333, 179, 310],\n",
              "       [  0, 101, 244,  65, 860]])"
            ]
          },
          "metadata": {
            "tags": []
          },
          "execution_count": 32
        }
      ]
    },
    {
      "cell_type": "code",
      "metadata": {
        "id": "WL7chGKV-6dz",
        "colab_type": "code",
        "outputId": "f6656654-9fd9-485e-8afc-766a3b0002cc",
        "colab": {
          "base_uri": "https://localhost:8080/",
          "height": 121
        }
      },
      "source": [
        "y_test.value_counts()"
      ],
      "execution_count": 0,
      "outputs": [
        {
          "output_type": "execute_result",
          "data": {
            "text/plain": [
              "4    1270\n",
              "2    1261\n",
              "3     960\n",
              "1     899\n",
              "0     108\n",
              "Name: AdoptionSpeed, dtype: int64"
            ]
          },
          "metadata": {
            "tags": []
          },
          "execution_count": 33
        }
      ]
    },
    {
      "cell_type": "markdown",
      "metadata": {
        "id": "c7m2bU__dxXl",
        "colab_type": "text"
      },
      "source": [
        ""
      ]
    },
    {
      "cell_type": "code",
      "metadata": {
        "id": "DjZ_QPG4dw1F",
        "colab_type": "code",
        "colab": {}
      },
      "source": [
        ""
      ],
      "execution_count": 0,
      "outputs": []
    },
    {
      "cell_type": "markdown",
      "metadata": {
        "id": "r_sRTSy0d7eb",
        "colab_type": "text"
      },
      "source": [
        "# text analysis"
      ]
    },
    {
      "cell_type": "code",
      "metadata": {
        "id": "Ihr8maF-d97m",
        "colab_type": "code",
        "colab": {}
      },
      "source": [
        "df = pd.read_csv('/content/drive/My Drive/6211 - project/pet-adoption-prediction/train/train.csv')\n",
        "text_data = df.Description"
      ],
      "execution_count": 0,
      "outputs": []
    },
    {
      "cell_type": "code",
      "metadata": {
        "id": "NNzZjlvskOsX",
        "colab_type": "code",
        "outputId": "dffddb4a-c164-4aa2-8910-1b7834a47346",
        "colab": {
          "base_uri": "https://localhost:8080/",
          "height": 381
        }
      },
      "source": [
        "text_data.head(20)"
      ],
      "execution_count": 23,
      "outputs": [
        {
          "output_type": "execute_result",
          "data": {
            "text/plain": [
              "0     Nibble is a 3+ month old ball of cuteness. He ...\n",
              "1     I just found it alone yesterday near my apartm...\n",
              "2     Their pregnant mother was dumped by her irresp...\n",
              "3     Good guard dog, very alert, active, obedience ...\n",
              "4     This handsome yet cute boy is up for adoption....\n",
              "5     This is a stray kitten that came to my house. ...\n",
              "6     anyone within the area of ipoh or taiping who ...\n",
              "7     Siu Pak just give birth on 13/6/10 to 6puppies...\n",
              "8     healthy and active, feisty kitten found in nei...\n",
              "9     Very manja and gentle stray cat found, we woul...\n",
              "10    For serious adopter, please do sms or call for...\n",
              "11    Kali is a super playful kitten who is on the g...\n",
              "12    Peanut was an abused puppy until he was rescue...\n",
              "13    Hi Pet Lovers! This is my first posting and I ...\n",
              "14    Lost Dog Found (Bandar Menjalara, Kepong／Taman...\n",
              "15    We moved out of our apartment to a landed home...\n",
              "16              to be spayed on /12 adorable & friendly\n",
              "17    shes active... she can obey wht command that u...\n",
              "18    This cutie dumped by it's owner at the market ...\n",
              "19    Birth Date: Oct 30th Kitty 1, Melly -Female Sa...\n",
              "Name: Description, dtype: object"
            ]
          },
          "metadata": {
            "tags": []
          },
          "execution_count": 23
        }
      ]
    },
    {
      "cell_type": "code",
      "metadata": {
        "id": "7gqFnNkRuKr6",
        "colab_type": "code",
        "outputId": "a503b7be-251e-4628-dd99-870f7d4121f1",
        "colab": {
          "base_uri": "https://localhost:8080/",
          "height": 72
        }
      },
      "source": [
        "text=text_data.as_matrix()"
      ],
      "execution_count": 24,
      "outputs": [
        {
          "output_type": "stream",
          "text": [
            "/usr/local/lib/python3.6/dist-packages/ipykernel_launcher.py:1: FutureWarning: Method .as_matrix will be removed in a future version. Use .values instead.\n",
            "  \"\"\"Entry point for launching an IPython kernel.\n"
          ],
          "name": "stderr"
        }
      ]
    },
    {
      "cell_type": "code",
      "metadata": {
        "id": "68ArwYM1vRaL",
        "colab_type": "code",
        "colab": {}
      },
      "source": [
        "clean_text=[]\n",
        "for line in text:\n",
        "  clean_text.append(str(line))"
      ],
      "execution_count": 0,
      "outputs": []
    },
    {
      "cell_type": "code",
      "metadata": {
        "id": "Tl3grxI1eUhI",
        "colab_type": "code",
        "colab": {}
      },
      "source": [
        "#!pip install langdetect\n",
        "lang=[]\n",
        "for line in text_data:\n",
        "  lang.append(detect(str(line)))"
      ],
      "execution_count": 0,
      "outputs": []
    },
    {
      "cell_type": "code",
      "metadata": {
        "id": "A4YgdrV5fwhC",
        "colab_type": "code",
        "outputId": "830e6789-343b-425e-fee4-b02b5de84355",
        "colab": {
          "base_uri": "https://localhost:8080/",
          "height": 35
        }
      },
      "source": [
        "lang.count('en')"
      ],
      "execution_count": 0,
      "outputs": [
        {
          "output_type": "execute_result",
          "data": {
            "text/plain": [
              "14176"
            ]
          },
          "metadata": {
            "tags": []
          },
          "execution_count": 115
        }
      ]
    },
    {
      "cell_type": "code",
      "metadata": {
        "id": "OTUCrbAbeO6O",
        "colab_type": "code",
        "outputId": "3396457b-b018-4b80-fef2-5ab8f5197fee",
        "colab": {
          "base_uri": "https://localhost:8080/",
          "height": 35
        }
      },
      "source": [
        "# preprocessing text data\n",
        "from keras.preprocessing.text import Tokenizer\n",
        "# tokenize the most often 150 words\n",
        "tokenizer = Tokenizer(num_words=500)\n",
        "tokenizer.fit_on_texts(clean_text)\n",
        "word_index = tokenizer.word_index\n",
        "# convert descriptions into matrix\n",
        "clean_text=tokenizer.texts_to_matrix(clean_text,mode='binary')\n",
        "print('Found %s unique tokens.' % len(word_index))"
      ],
      "execution_count": 82,
      "outputs": [
        {
          "output_type": "stream",
          "text": [
            "Found 21808 unique tokens.\n"
          ],
          "name": "stdout"
        }
      ]
    },
    {
      "cell_type": "code",
      "metadata": {
        "id": "UusKOzW0L7gL",
        "colab_type": "code",
        "colab": {
          "base_uri": "https://localhost:8080/",
          "height": 35
        },
        "outputId": "d12e9193-c95f-432d-d18c-50a3bef52caf"
      },
      "source": [
        "y_cat.shape"
      ],
      "execution_count": 39,
      "outputs": [
        {
          "output_type": "execute_result",
          "data": {
            "text/plain": [
              "(14993, 150)"
            ]
          },
          "metadata": {
            "tags": []
          },
          "execution_count": 39
        }
      ]
    },
    {
      "cell_type": "code",
      "metadata": {
        "id": "PZaclGFgwS-0",
        "colab_type": "code",
        "colab": {}
      },
      "source": [
        "# separating training sets and test sets\n",
        "num1, num2, txt1, txt2, labels1, labels2 = train_test_split(\n",
        "    X, clean_text, y, test_size=0.30, random_state=42)\n",
        "# Getting the number of features\n",
        "ncol=X.shape[1]"
      ],
      "execution_count": 0,
      "outputs": []
    },
    {
      "cell_type": "code",
      "metadata": {
        "id": "8LFcLFtvMe0_",
        "colab_type": "code",
        "colab": {}
      },
      "source": [
        "labels1_cat = to_categorical(labels1)\n",
        "labels2_cat = to_categorical(labels2)"
      ],
      "execution_count": 0,
      "outputs": []
    },
    {
      "cell_type": "code",
      "metadata": {
        "id": "ON0VMAb6wkgh",
        "colab_type": "code",
        "colab": {}
      },
      "source": [
        "# First working on the text part\n",
        "from keras.layers import *\n",
        "from keras.models import *\n",
        "\n",
        "# Description input: meant to receive sequences of 150 integers\n",
        "# Naming this layer by passing it a \"name\" argument.\n",
        "text_input = Input(shape=(150,), dtype='int32', name='text_input')\n",
        "\n",
        "# This embedding layer will encode the input sequence\n",
        "# into a sequence of dense 512-dimensional vectors.\n",
        "x = Embedding(output_dim=512, input_dim=10000, input_length=150)(text_input)\n",
        "\n",
        "# A LSTM will transform the vector sequence into a single vector,\n",
        "# containing information about the entire sequence\n",
        "lstm_out = LSTM(32)(x)"
      ],
      "execution_count": 0,
      "outputs": []
    },
    {
      "cell_type": "code",
      "metadata": {
        "id": "jW0pANkVwn85",
        "colab_type": "code",
        "colab": {}
      },
      "source": [
        "# Output of using description to predict price\n",
        "text_output = Dense(5, activation='softmax', name='text_output')(lstm_out)"
      ],
      "execution_count": 0,
      "outputs": []
    },
    {
      "cell_type": "code",
      "metadata": {
        "id": "QNjkt4PowqbW",
        "colab_type": "code",
        "colab": {}
      },
      "source": [
        "# Then adding in the non-text part\n",
        "num_input = Input(shape=(ncol,), name='num_input')\n",
        "x = Concatenate(axis=-1)([lstm_out, num_input])\n",
        "act = 'tanh'\n",
        "# Stacking a deep densely-connected network on top\n",
        "x = Dense(30, activation=act)(x)\n",
        "x = Dropout(0.2)(x)\n",
        "x = Dense(30, activation=act)(x)\n",
        "x = Dropout(0.2)(x)\n",
        "x = Dense(30, activation=act)(x)\n",
        "\n",
        "# And finally adding the main fitting output\n",
        "main_output = Dense(5, activation='softmax', name='main_output')(x)"
      ],
      "execution_count": 0,
      "outputs": []
    },
    {
      "cell_type": "code",
      "metadata": {
        "id": "1GfzsSRAwszk",
        "colab_type": "code",
        "colab": {}
      },
      "source": [
        "# Putting the model together with two inputs and one outputs\n",
        "nn2 = Model(inputs=[text_input, num_input], outputs=[main_output, text_output])"
      ],
      "execution_count": 0,
      "outputs": []
    },
    {
      "cell_type": "code",
      "metadata": {
        "id": "Bh0PbOIUwukD",
        "colab_type": "code",
        "colab": {
          "base_uri": "https://localhost:8080/",
          "height": 332
        },
        "outputId": "81321d47-8637-4b24-a6c1-079b2af385f1"
      },
      "source": [
        "# Compiling and fitting the neural network\n",
        "# Since we have more inputs, I changed the batch size into 100.\n",
        "nn2.compile(loss='categorical_crossentropy', \n",
        "              optimizer='adam', metrics=['categorical_accuracy'],\n",
        "              loss_weights=[1., 0.001])\n",
        "history_nn2=nn2.fit([txt1, num1], [labels1_cat, labels1_cat],\n",
        "                  epochs=8, batch_size=100, \n",
        "                  validation_data=([txt2, num2], [labels2_cat, labels2_cat]))"
      ],
      "execution_count": 76,
      "outputs": [
        {
          "output_type": "stream",
          "text": [
            "Train on 10495 samples, validate on 4498 samples\n",
            "Epoch 1/8\n",
            "10495/10495 [==============================] - 40s 4ms/step - loss: 1.4319 - main_output_loss: 1.4304 - text_output_loss: 1.4800 - main_output_categorical_accuracy: 0.3331 - text_output_categorical_accuracy: 0.2751 - val_loss: 1.4117 - val_main_output_loss: 1.4103 - val_text_output_loss: 1.4814 - val_main_output_categorical_accuracy: 0.3522 - val_text_output_categorical_accuracy: 0.2617\n",
            "Epoch 2/8\n",
            "10495/10495 [==============================] - 39s 4ms/step - loss: 1.4220 - main_output_loss: 1.4206 - text_output_loss: 1.4653 - main_output_categorical_accuracy: 0.3397 - text_output_categorical_accuracy: 0.2818 - val_loss: 1.4050 - val_main_output_loss: 1.4036 - val_text_output_loss: 1.4753 - val_main_output_categorical_accuracy: 0.3586 - val_text_output_categorical_accuracy: 0.2819\n",
            "Epoch 3/8\n",
            "10495/10495 [==============================] - 38s 4ms/step - loss: 1.4091 - main_output_loss: 1.4077 - text_output_loss: 1.4644 - main_output_categorical_accuracy: 0.3548 - text_output_categorical_accuracy: 0.2779 - val_loss: 1.3982 - val_main_output_loss: 1.3967 - val_text_output_loss: 1.4775 - val_main_output_categorical_accuracy: 0.3644 - val_text_output_categorical_accuracy: 0.2819\n",
            "Epoch 4/8\n",
            "10495/10495 [==============================] - 38s 4ms/step - loss: 1.4091 - main_output_loss: 1.4076 - text_output_loss: 1.4635 - main_output_categorical_accuracy: 0.3512 - text_output_categorical_accuracy: 0.2795 - val_loss: 1.3974 - val_main_output_loss: 1.3960 - val_text_output_loss: 1.4755 - val_main_output_categorical_accuracy: 0.3693 - val_text_output_categorical_accuracy: 0.2643\n",
            "Epoch 5/8\n",
            "10495/10495 [==============================] - 38s 4ms/step - loss: 1.4081 - main_output_loss: 1.4066 - text_output_loss: 1.4623 - main_output_categorical_accuracy: 0.3574 - text_output_categorical_accuracy: 0.2761 - val_loss: 1.3958 - val_main_output_loss: 1.3943 - val_text_output_loss: 1.4760 - val_main_output_categorical_accuracy: 0.3639 - val_text_output_categorical_accuracy: 0.2799\n",
            "Epoch 6/8\n",
            "10495/10495 [==============================] - 38s 4ms/step - loss: 1.3974 - main_output_loss: 1.3959 - text_output_loss: 1.4633 - main_output_categorical_accuracy: 0.3578 - text_output_categorical_accuracy: 0.2746 - val_loss: 1.3957 - val_main_output_loss: 1.3942 - val_text_output_loss: 1.4759 - val_main_output_categorical_accuracy: 0.3691 - val_text_output_categorical_accuracy: 0.2623\n",
            "Epoch 7/8\n",
            "10495/10495 [==============================] - 38s 4ms/step - loss: 1.3997 - main_output_loss: 1.3982 - text_output_loss: 1.4618 - main_output_categorical_accuracy: 0.3596 - text_output_categorical_accuracy: 0.2822 - val_loss: 1.4013 - val_main_output_loss: 1.3999 - val_text_output_loss: 1.4753 - val_main_output_categorical_accuracy: 0.3553 - val_text_output_categorical_accuracy: 0.2819\n",
            "Epoch 8/8\n",
            "10495/10495 [==============================] - 38s 4ms/step - loss: 1.3965 - main_output_loss: 1.3951 - text_output_loss: 1.4614 - main_output_categorical_accuracy: 0.3547 - text_output_categorical_accuracy: 0.2786 - val_loss: 1.3895 - val_main_output_loss: 1.3881 - val_text_output_loss: 1.4758 - val_main_output_categorical_accuracy: 0.3704 - val_text_output_categorical_accuracy: 0.2821\n"
          ],
          "name": "stdout"
        }
      ]
    }
  ]
}