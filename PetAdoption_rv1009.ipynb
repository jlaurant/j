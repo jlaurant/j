{
  "nbformat": 4,
  "nbformat_minor": 0,
  "metadata": {
    "colab": {
      "name": "dataExploration.ipynb",
      "provenance": [],
      "collapsed_sections": [
        "2oaN54TnuYqc",
        "hDX8rIxa0hdC",
        "ER7lkNrJ0dHf",
        "kj-UbHx3dXgR"
      ],
      "include_colab_link": true
    },
    "kernelspec": {
      "name": "python3",
      "display_name": "Python 3"
    },
    "accelerator": "GPU"
  },
  "cells": [
    {
      "cell_type": "markdown",
      "metadata": {
        "id": "view-in-github",
        "colab_type": "text"
      },
      "source": [
        "<a href=\"https://colab.research.google.com/github/jlaurant/j/blob/master/PetAdoption_rv1009.ipynb\" target=\"_parent\"><img src=\"https://colab.research.google.com/assets/colab-badge.svg\" alt=\"Open In Colab\"/></a>"
      ]
    },
    {
      "cell_type": "markdown",
      "metadata": {
        "id": "QLDHkwu00oae",
        "colab_type": "text"
      },
      "source": [
        "# DSBA 6211 Project"
      ]
    },
    {
      "cell_type": "code",
      "metadata": {
        "id": "VxQJsun_ltb1",
        "colab_type": "code",
        "colab": {}
      },
      "source": [
        "import pandas as pd\n",
        "import numpy as np\n",
        "import seaborn as sns\n",
        "import matplotlib.pyplot as plt\n",
        "import tensorflow as tf\n",
        "import math\n",
        "from matplotlib.pyplot import figure\n",
        "\n",
        "# The command below means that the output of multiple commands in a cell will be output at once\n",
        "from IPython.core.interactiveshell import InteractiveShell\n",
        "InteractiveShell.ast_node_interactivity = \"all\"\n",
        "\n",
        "# The command below tells jupyter to display up to 80 columns, this keeps everything visible\n",
        "pd.set_option('display.max_columns', 80)\n",
        "pd.set_option('expand_frame_repr', True)\n",
        "\n",
        "# Show figures in notebook\n",
        "%matplotlib inline\n",
        "plt.style.use('ggplot')"
      ],
      "execution_count": 0,
      "outputs": []
    },
    {
      "cell_type": "code",
      "metadata": {
        "id": "QgJ9Q0iEo7JF",
        "colab_type": "code",
        "colab": {}
      },
      "source": [
        "from sklearn.metrics import f1_score\n",
        "from sklearn.metrics import roc_auc_score\n",
        "from sklearn.model_selection import train_test_split"
      ],
      "execution_count": 0,
      "outputs": []
    },
    {
      "cell_type": "markdown",
      "metadata": {
        "id": "DPZveqbmnGXm",
        "colab_type": "text"
      },
      "source": [
        "# Import the data"
      ]
    },
    {
      "cell_type": "code",
      "metadata": {
        "id": "I2ePTaCRmBf1",
        "colab_type": "code",
        "outputId": "6f18cc9a-5898-4f83-f548-841a99d57999",
        "colab": {
          "base_uri": "https://localhost:8080/",
          "height": 35
        }
      },
      "source": [
        "from google.colab import drive\n",
        "drive.mount('/content/drive')"
      ],
      "execution_count": 98,
      "outputs": [
        {
          "output_type": "stream",
          "text": [
            "Mounted at /content/drive\n"
          ],
          "name": "stdout"
        }
      ]
    },
    {
      "cell_type": "code",
      "metadata": {
        "id": "tT_3l3LGmJF7",
        "colab_type": "code",
        "colab": {}
      },
      "source": [
        "# import the training set\n",
        "df = pd.read_csv('/content/drive/My Drive/6211 - project/pet-adoption-prediction/train/train.csv')"
      ],
      "execution_count": 0,
      "outputs": []
    },
    {
      "cell_type": "markdown",
      "metadata": {
        "id": "2oaN54TnuYqc",
        "colab_type": "text"
      },
      "source": [
        "# Check the data"
      ]
    },
    {
      "cell_type": "code",
      "metadata": {
        "id": "SQ9FxRR3mr_l",
        "colab_type": "code",
        "outputId": "b5b3d1ae-fd78-4931-8609-c2be0e94f49c",
        "colab": {
          "base_uri": "https://localhost:8080/",
          "height": 520
        }
      },
      "source": [
        "# check the columns of the training set\n",
        "df.info()"
      ],
      "execution_count": 6,
      "outputs": [
        {
          "output_type": "stream",
          "text": [
            "<class 'pandas.core.frame.DataFrame'>\n",
            "RangeIndex: 14993 entries, 0 to 14992\n",
            "Data columns (total 24 columns):\n",
            "Type             14993 non-null int64\n",
            "Name             13736 non-null object\n",
            "Age              14993 non-null int64\n",
            "Breed1           14993 non-null int64\n",
            "Breed2           14993 non-null int64\n",
            "Gender           14993 non-null int64\n",
            "Color1           14993 non-null int64\n",
            "Color2           14993 non-null int64\n",
            "Color3           14993 non-null int64\n",
            "MaturitySize     14993 non-null int64\n",
            "FurLength        14993 non-null int64\n",
            "Vaccinated       14993 non-null int64\n",
            "Dewormed         14993 non-null int64\n",
            "Sterilized       14993 non-null int64\n",
            "Health           14993 non-null int64\n",
            "Quantity         14993 non-null int64\n",
            "Fee              14993 non-null int64\n",
            "State            14993 non-null int64\n",
            "RescuerID        14993 non-null object\n",
            "VideoAmt         14993 non-null int64\n",
            "Description      14981 non-null object\n",
            "PetID            14993 non-null object\n",
            "PhotoAmt         14993 non-null float64\n",
            "AdoptionSpeed    14993 non-null int64\n",
            "dtypes: float64(1), int64(19), object(4)\n",
            "memory usage: 2.7+ MB\n"
          ],
          "name": "stdout"
        }
      ]
    },
    {
      "cell_type": "code",
      "metadata": {
        "id": "nKRsO-Znng2Z",
        "colab_type": "code",
        "outputId": "a46348b3-fa2d-4ba4-ae8c-c7d96a541d53",
        "colab": {
          "base_uri": "https://localhost:8080/",
          "height": 314
        }
      },
      "source": [
        "# check the first 5 rows of the training set\n",
        "df.describe()"
      ],
      "execution_count": 7,
      "outputs": [
        {
          "output_type": "execute_result",
          "data": {
            "text/html": [
              "<div>\n",
              "<style scoped>\n",
              "    .dataframe tbody tr th:only-of-type {\n",
              "        vertical-align: middle;\n",
              "    }\n",
              "\n",
              "    .dataframe tbody tr th {\n",
              "        vertical-align: top;\n",
              "    }\n",
              "\n",
              "    .dataframe thead th {\n",
              "        text-align: right;\n",
              "    }\n",
              "</style>\n",
              "<table border=\"1\" class=\"dataframe\">\n",
              "  <thead>\n",
              "    <tr style=\"text-align: right;\">\n",
              "      <th></th>\n",
              "      <th>Type</th>\n",
              "      <th>Age</th>\n",
              "      <th>Breed1</th>\n",
              "      <th>Breed2</th>\n",
              "      <th>Gender</th>\n",
              "      <th>Color1</th>\n",
              "      <th>Color2</th>\n",
              "      <th>Color3</th>\n",
              "      <th>MaturitySize</th>\n",
              "      <th>FurLength</th>\n",
              "      <th>Vaccinated</th>\n",
              "      <th>Dewormed</th>\n",
              "      <th>Sterilized</th>\n",
              "      <th>Health</th>\n",
              "      <th>Quantity</th>\n",
              "      <th>Fee</th>\n",
              "      <th>State</th>\n",
              "      <th>VideoAmt</th>\n",
              "      <th>PhotoAmt</th>\n",
              "      <th>AdoptionSpeed</th>\n",
              "    </tr>\n",
              "  </thead>\n",
              "  <tbody>\n",
              "    <tr>\n",
              "      <th>count</th>\n",
              "      <td>14993.000000</td>\n",
              "      <td>14993.000000</td>\n",
              "      <td>14993.000000</td>\n",
              "      <td>14993.000000</td>\n",
              "      <td>14993.000000</td>\n",
              "      <td>14993.000000</td>\n",
              "      <td>14993.000000</td>\n",
              "      <td>14993.000000</td>\n",
              "      <td>14993.000000</td>\n",
              "      <td>14993.000000</td>\n",
              "      <td>14993.000000</td>\n",
              "      <td>14993.000000</td>\n",
              "      <td>14993.000000</td>\n",
              "      <td>14993.000000</td>\n",
              "      <td>14993.000000</td>\n",
              "      <td>14993.000000</td>\n",
              "      <td>14993.000000</td>\n",
              "      <td>14993.000000</td>\n",
              "      <td>14993.000000</td>\n",
              "      <td>14993.000000</td>\n",
              "    </tr>\n",
              "    <tr>\n",
              "      <th>mean</th>\n",
              "      <td>1.457614</td>\n",
              "      <td>10.452078</td>\n",
              "      <td>265.272594</td>\n",
              "      <td>74.009738</td>\n",
              "      <td>1.776162</td>\n",
              "      <td>2.234176</td>\n",
              "      <td>3.222837</td>\n",
              "      <td>1.882012</td>\n",
              "      <td>1.862002</td>\n",
              "      <td>1.467485</td>\n",
              "      <td>1.731208</td>\n",
              "      <td>1.558727</td>\n",
              "      <td>1.914227</td>\n",
              "      <td>1.036617</td>\n",
              "      <td>1.576069</td>\n",
              "      <td>21.259988</td>\n",
              "      <td>41346.028347</td>\n",
              "      <td>0.056760</td>\n",
              "      <td>3.889215</td>\n",
              "      <td>2.516441</td>\n",
              "    </tr>\n",
              "    <tr>\n",
              "      <th>std</th>\n",
              "      <td>0.498217</td>\n",
              "      <td>18.155790</td>\n",
              "      <td>60.056818</td>\n",
              "      <td>123.011575</td>\n",
              "      <td>0.681592</td>\n",
              "      <td>1.745225</td>\n",
              "      <td>2.742562</td>\n",
              "      <td>2.984086</td>\n",
              "      <td>0.547959</td>\n",
              "      <td>0.599070</td>\n",
              "      <td>0.667649</td>\n",
              "      <td>0.695817</td>\n",
              "      <td>0.566172</td>\n",
              "      <td>0.199535</td>\n",
              "      <td>1.472477</td>\n",
              "      <td>78.414548</td>\n",
              "      <td>32.444153</td>\n",
              "      <td>0.346185</td>\n",
              "      <td>3.487810</td>\n",
              "      <td>1.177265</td>\n",
              "    </tr>\n",
              "    <tr>\n",
              "      <th>min</th>\n",
              "      <td>1.000000</td>\n",
              "      <td>0.000000</td>\n",
              "      <td>0.000000</td>\n",
              "      <td>0.000000</td>\n",
              "      <td>1.000000</td>\n",
              "      <td>1.000000</td>\n",
              "      <td>0.000000</td>\n",
              "      <td>0.000000</td>\n",
              "      <td>1.000000</td>\n",
              "      <td>1.000000</td>\n",
              "      <td>1.000000</td>\n",
              "      <td>1.000000</td>\n",
              "      <td>1.000000</td>\n",
              "      <td>1.000000</td>\n",
              "      <td>1.000000</td>\n",
              "      <td>0.000000</td>\n",
              "      <td>41324.000000</td>\n",
              "      <td>0.000000</td>\n",
              "      <td>0.000000</td>\n",
              "      <td>0.000000</td>\n",
              "    </tr>\n",
              "    <tr>\n",
              "      <th>25%</th>\n",
              "      <td>1.000000</td>\n",
              "      <td>2.000000</td>\n",
              "      <td>265.000000</td>\n",
              "      <td>0.000000</td>\n",
              "      <td>1.000000</td>\n",
              "      <td>1.000000</td>\n",
              "      <td>0.000000</td>\n",
              "      <td>0.000000</td>\n",
              "      <td>2.000000</td>\n",
              "      <td>1.000000</td>\n",
              "      <td>1.000000</td>\n",
              "      <td>1.000000</td>\n",
              "      <td>2.000000</td>\n",
              "      <td>1.000000</td>\n",
              "      <td>1.000000</td>\n",
              "      <td>0.000000</td>\n",
              "      <td>41326.000000</td>\n",
              "      <td>0.000000</td>\n",
              "      <td>2.000000</td>\n",
              "      <td>2.000000</td>\n",
              "    </tr>\n",
              "    <tr>\n",
              "      <th>50%</th>\n",
              "      <td>1.000000</td>\n",
              "      <td>3.000000</td>\n",
              "      <td>266.000000</td>\n",
              "      <td>0.000000</td>\n",
              "      <td>2.000000</td>\n",
              "      <td>2.000000</td>\n",
              "      <td>2.000000</td>\n",
              "      <td>0.000000</td>\n",
              "      <td>2.000000</td>\n",
              "      <td>1.000000</td>\n",
              "      <td>2.000000</td>\n",
              "      <td>1.000000</td>\n",
              "      <td>2.000000</td>\n",
              "      <td>1.000000</td>\n",
              "      <td>1.000000</td>\n",
              "      <td>0.000000</td>\n",
              "      <td>41326.000000</td>\n",
              "      <td>0.000000</td>\n",
              "      <td>3.000000</td>\n",
              "      <td>2.000000</td>\n",
              "    </tr>\n",
              "    <tr>\n",
              "      <th>75%</th>\n",
              "      <td>2.000000</td>\n",
              "      <td>12.000000</td>\n",
              "      <td>307.000000</td>\n",
              "      <td>179.000000</td>\n",
              "      <td>2.000000</td>\n",
              "      <td>3.000000</td>\n",
              "      <td>6.000000</td>\n",
              "      <td>5.000000</td>\n",
              "      <td>2.000000</td>\n",
              "      <td>2.000000</td>\n",
              "      <td>2.000000</td>\n",
              "      <td>2.000000</td>\n",
              "      <td>2.000000</td>\n",
              "      <td>1.000000</td>\n",
              "      <td>1.000000</td>\n",
              "      <td>0.000000</td>\n",
              "      <td>41401.000000</td>\n",
              "      <td>0.000000</td>\n",
              "      <td>5.000000</td>\n",
              "      <td>4.000000</td>\n",
              "    </tr>\n",
              "    <tr>\n",
              "      <th>max</th>\n",
              "      <td>2.000000</td>\n",
              "      <td>255.000000</td>\n",
              "      <td>307.000000</td>\n",
              "      <td>307.000000</td>\n",
              "      <td>3.000000</td>\n",
              "      <td>7.000000</td>\n",
              "      <td>7.000000</td>\n",
              "      <td>7.000000</td>\n",
              "      <td>4.000000</td>\n",
              "      <td>3.000000</td>\n",
              "      <td>3.000000</td>\n",
              "      <td>3.000000</td>\n",
              "      <td>3.000000</td>\n",
              "      <td>3.000000</td>\n",
              "      <td>20.000000</td>\n",
              "      <td>3000.000000</td>\n",
              "      <td>41415.000000</td>\n",
              "      <td>8.000000</td>\n",
              "      <td>30.000000</td>\n",
              "      <td>4.000000</td>\n",
              "    </tr>\n",
              "  </tbody>\n",
              "</table>\n",
              "</div>"
            ],
            "text/plain": [
              "               Type           Age        Breed1        Breed2        Gender  \\\n",
              "count  14993.000000  14993.000000  14993.000000  14993.000000  14993.000000   \n",
              "mean       1.457614     10.452078    265.272594     74.009738      1.776162   \n",
              "std        0.498217     18.155790     60.056818    123.011575      0.681592   \n",
              "min        1.000000      0.000000      0.000000      0.000000      1.000000   \n",
              "25%        1.000000      2.000000    265.000000      0.000000      1.000000   \n",
              "50%        1.000000      3.000000    266.000000      0.000000      2.000000   \n",
              "75%        2.000000     12.000000    307.000000    179.000000      2.000000   \n",
              "max        2.000000    255.000000    307.000000    307.000000      3.000000   \n",
              "\n",
              "             Color1        Color2        Color3  MaturitySize     FurLength  \\\n",
              "count  14993.000000  14993.000000  14993.000000  14993.000000  14993.000000   \n",
              "mean       2.234176      3.222837      1.882012      1.862002      1.467485   \n",
              "std        1.745225      2.742562      2.984086      0.547959      0.599070   \n",
              "min        1.000000      0.000000      0.000000      1.000000      1.000000   \n",
              "25%        1.000000      0.000000      0.000000      2.000000      1.000000   \n",
              "50%        2.000000      2.000000      0.000000      2.000000      1.000000   \n",
              "75%        3.000000      6.000000      5.000000      2.000000      2.000000   \n",
              "max        7.000000      7.000000      7.000000      4.000000      3.000000   \n",
              "\n",
              "         Vaccinated      Dewormed    Sterilized        Health      Quantity  \\\n",
              "count  14993.000000  14993.000000  14993.000000  14993.000000  14993.000000   \n",
              "mean       1.731208      1.558727      1.914227      1.036617      1.576069   \n",
              "std        0.667649      0.695817      0.566172      0.199535      1.472477   \n",
              "min        1.000000      1.000000      1.000000      1.000000      1.000000   \n",
              "25%        1.000000      1.000000      2.000000      1.000000      1.000000   \n",
              "50%        2.000000      1.000000      2.000000      1.000000      1.000000   \n",
              "75%        2.000000      2.000000      2.000000      1.000000      1.000000   \n",
              "max        3.000000      3.000000      3.000000      3.000000     20.000000   \n",
              "\n",
              "                Fee         State      VideoAmt      PhotoAmt  AdoptionSpeed  \n",
              "count  14993.000000  14993.000000  14993.000000  14993.000000   14993.000000  \n",
              "mean      21.259988  41346.028347      0.056760      3.889215       2.516441  \n",
              "std       78.414548     32.444153      0.346185      3.487810       1.177265  \n",
              "min        0.000000  41324.000000      0.000000      0.000000       0.000000  \n",
              "25%        0.000000  41326.000000      0.000000      2.000000       2.000000  \n",
              "50%        0.000000  41326.000000      0.000000      3.000000       2.000000  \n",
              "75%        0.000000  41401.000000      0.000000      5.000000       4.000000  \n",
              "max     3000.000000  41415.000000      8.000000     30.000000       4.000000  "
            ]
          },
          "metadata": {
            "tags": []
          },
          "execution_count": 7
        }
      ]
    },
    {
      "cell_type": "markdown",
      "metadata": {
        "id": "ypByunk7uSxr",
        "colab_type": "text"
      },
      "source": [
        "# Data Visualization"
      ]
    },
    {
      "cell_type": "code",
      "metadata": {
        "id": "WIIA5CNMrOHA",
        "colab_type": "code",
        "colab": {}
      },
      "source": [
        "df['Type'] = df['Type'].apply(lambda x: 'Dog' if x == 1 else 'Cat')\n",
        "df['Gender'] = df['Gender'].apply(lambda x: 'Male' if x == 1 else 'Female' if x == 2 else 'Mixed')"
      ],
      "execution_count": 0,
      "outputs": []
    },
    {
      "cell_type": "code",
      "metadata": {
        "id": "sidLghZrn3Hv",
        "colab_type": "code",
        "outputId": "abc7d185-f516-4de9-9555-c63fd95b0a55",
        "colab": {
          "base_uri": "https://localhost:8080/",
          "height": 408
        }
      },
      "source": [
        "plt.figure(figsize=(8, 6));\n",
        "sns.countplot(x='AdoptionSpeed',data=df)\n",
        "plt.title('Pet Adoption Speed Classes');"
      ],
      "execution_count": 0,
      "outputs": [
        {
          "output_type": "display_data",
          "data": {
            "image/png": "[encoded data removed]",
            "text/plain": [
              "<Figure size 576x432 with 1 Axes>"
            ]
          },
          "metadata": {
            "tags": []
          }
        }
      ]
    },
    {
      "cell_type": "code",
      "metadata": {
        "id": "lkeJV4rvpqll",
        "colab_type": "code",
        "outputId": "0eeebfc8-0e56-4a61-ddd8-b2982f738b7d",
        "colab": {
          "base_uri": "https://localhost:8080/",
          "height": 408
        }
      },
      "source": [
        "plt.figure(figsize=(8, 6));\n",
        "sns.countplot(hue='Gender', x='Type',data=df)\n",
        "plt.title('Pet Type');"
      ],
      "execution_count": 0,
      "outputs": [
        {
          "output_type": "display_data",
          "data": {
            "image/png": "[encoded data removed]",
            "text/plain": [
              "<Figure size 576x432 with 1 Axes>"
            ]
          },
          "metadata": {
            "tags": []
          }
        }
      ]
    },
    {
      "cell_type": "code",
      "metadata": {
        "id": "xPNwZw6PpCeb",
        "colab_type": "code",
        "outputId": "169faaad-7fe7-4199-aa89-40a9e7a997b1",
        "colab": {
          "base_uri": "https://localhost:8080/",
          "height": 287
        }
      },
      "source": [
        "#checking the dist. of outcome variable\n",
        "y_train.plot('hist')"
      ],
      "execution_count": 0,
      "outputs": [
        {
          "output_type": "execute_result",
          "data": {
            "text/plain": [
              "<matplotlib.axes._subplots.AxesSubplot at 0x7fb9e8c17908>"
            ]
          },
          "metadata": {
            "tags": []
          },
          "execution_count": 40
        },
        {
          "output_type": "display_data",
          "data": {
            "image/png": "[encoded data removed]",
            "text/plain": [
              "<Figure size 432x288 with 1 Axes>"
            ]
          },
          "metadata": {
            "tags": []
          }
        }
      ]
    },
    {
      "cell_type": "code",
      "metadata": {
        "id": "nosJ0qChOlDp",
        "colab_type": "code",
        "outputId": "194c0aca-dee9-43a5-ac33-b416d00af04b",
        "colab": {
          "base_uri": "https://localhost:8080/",
          "height": 408
        }
      },
      "source": [
        "plt.figure(figsize=(10, 6));\n",
        "sns.countplot(hue='Type', x='Breed1',data=df)\n",
        "plt.title('Breed Count');"
      ],
      "execution_count": 0,
      "outputs": [
        {
          "output_type": "display_data",
          "data": {
            "image/png": "[encoded data removed]",
            "text/plain": [
              "<Figure size 720x432 with 1 Axes>"
            ]
          },
          "metadata": {
            "tags": []
          }
        }
      ]
    },
    {
      "cell_type": "code",
      "metadata": {
        "id": "k8Z8ZMZMQc6r",
        "colab_type": "code",
        "outputId": "eedb8e45-b123-4ff2-8142-ccbb74870b2b",
        "colab": {
          "base_uri": "https://localhost:8080/",
          "height": 287
        }
      },
      "source": [
        "df.Fee.plot('hist')"
      ],
      "execution_count": 0,
      "outputs": [
        {
          "output_type": "execute_result",
          "data": {
            "text/plain": [
              "<matplotlib.axes._subplots.AxesSubplot at 0x7f1b0a84f668>"
            ]
          },
          "metadata": {
            "tags": []
          },
          "execution_count": 37
        },
        {
          "output_type": "display_data",
          "data": {
            "image/png": "[encoded data removed]",
            "text/plain": [
              "<Figure size 432x288 with 1 Axes>"
            ]
          },
          "metadata": {
            "tags": []
          }
        }
      ]
    },
    {
      "cell_type": "markdown",
      "metadata": {
        "id": "qZqX9vY_vjr_",
        "colab_type": "text"
      },
      "source": [
        "# Group Breeds"
      ]
    },
    {
      "cell_type": "markdown",
      "metadata": {
        "id": "t9F43Qoqv0Jq",
        "colab_type": "text"
      },
      "source": [
        "There are too many breed categories. Let's group some of the smaller categories."
      ]
    },
    {
      "cell_type": "code",
      "metadata": {
        "id": "mrcKnijtuOjp",
        "colab_type": "code",
        "outputId": "904afb52-d147-42dd-f05e-ebccb427da97",
        "colab": {
          "base_uri": "https://localhost:8080/",
          "height": 208
        }
      },
      "source": [
        "df.loc[df['Type'] == 2].Breed1.value_counts().head(10)"
      ],
      "execution_count": 0,
      "outputs": [
        {
          "output_type": "execute_result",
          "data": {
            "text/plain": [
              "266    3634\n",
              "265    1258\n",
              "299     342\n",
              "264     296\n",
              "292     264\n",
              "285     221\n",
              "254     105\n",
              "243      94\n",
              "283      73\n",
              "247      71\n",
              "Name: Breed1, dtype: int64"
            ]
          },
          "metadata": {
            "tags": []
          },
          "execution_count": 5
        }
      ]
    },
    {
      "cell_type": "code",
      "metadata": {
        "id": "JjxC3P3vxCzr",
        "colab_type": "code",
        "outputId": "8762857b-2e96-4657-d1ab-5eface8b503c",
        "colab": {
          "base_uri": "https://localhost:8080/",
          "height": 208
        }
      },
      "source": [
        "df.loc[df['Type'] == 1].Breed1.value_counts().head(10)"
      ],
      "execution_count": 0,
      "outputs": [
        {
          "output_type": "execute_result",
          "data": {
            "text/plain": [
              "307    5923\n",
              "141     205\n",
              "205     189\n",
              "179     167\n",
              "218     161\n",
              "109     151\n",
              "103      98\n",
              "20       90\n",
              "213      89\n",
              "189      88\n",
              "Name: Breed1, dtype: int64"
            ]
          },
          "metadata": {
            "tags": []
          },
          "execution_count": 6
        }
      ]
    },
    {
      "cell_type": "code",
      "metadata": {
        "id": "MjLDhkGqwKQQ",
        "colab_type": "code",
        "colab": {}
      },
      "source": [
        "# create a function to change the uncommon breeds (count < 200) into '999'\n",
        "def Breed1(df): \n",
        "    \n",
        "    if df.Breed1 not in [266,265,299,264,292,285,307,141]:\n",
        "        df.Breed1= 999\n",
        "    else:\n",
        "        df.Breed1 = df.Breed1\n",
        "    return df\n",
        "  \n",
        "df=df.apply(Breed1, axis=1)"
      ],
      "execution_count": 0,
      "outputs": []
    },
    {
      "cell_type": "code",
      "metadata": {
        "id": "mivXdr_dx2Pn",
        "colab_type": "code",
        "outputId": "be63fd5d-d9f8-47d6-a394-e1dec05edb56",
        "colab": {
          "base_uri": "https://localhost:8080/",
          "height": 191
        }
      },
      "source": [
        "# check the results\n",
        "df.Breed1.value_counts()"
      ],
      "execution_count": 0,
      "outputs": [
        {
          "output_type": "execute_result",
          "data": {
            "text/plain": [
              "307    5927\n",
              "266    3634\n",
              "999    2846\n",
              "265    1258\n",
              "299     342\n",
              "264     296\n",
              "292     264\n",
              "285     221\n",
              "141     205\n",
              "Name: Breed1, dtype: int64"
            ]
          },
          "metadata": {
            "tags": []
          },
          "execution_count": 8
        }
      ]
    },
    {
      "cell_type": "code",
      "metadata": {
        "id": "KIqyB-wW0KOb",
        "colab_type": "code",
        "outputId": "050681e8-a3c5-4859-90f9-b07b0fd79ec4",
        "colab": {
          "base_uri": "https://localhost:8080/",
          "height": 208
        }
      },
      "source": [
        "df.loc[df['Type'] == 2].Breed2.value_counts().head(10)"
      ],
      "execution_count": 0,
      "outputs": [
        {
          "output_type": "execute_result",
          "data": {
            "text/plain": [
              "0      5135\n",
              "266     599\n",
              "265     321\n",
              "299     138\n",
              "264     125\n",
              "292     105\n",
              "285      78\n",
              "254      42\n",
              "247      39\n",
              "243      30\n",
              "Name: Breed2, dtype: int64"
            ]
          },
          "metadata": {
            "tags": []
          },
          "execution_count": 9
        }
      ]
    },
    {
      "cell_type": "code",
      "metadata": {
        "id": "4nZOV87g0Ns3",
        "colab_type": "code",
        "outputId": "7d06c32d-b9d2-4218-e038-476274cccb07",
        "colab": {
          "base_uri": "https://localhost:8080/",
          "height": 208
        }
      },
      "source": [
        "df.loc[df['Type'] == 1].Breed2.value_counts().head(10)"
      ],
      "execution_count": 0,
      "outputs": [
        {
          "output_type": "execute_result",
          "data": {
            "text/plain": [
              "0      5627\n",
              "307    1727\n",
              "218      90\n",
              "141      86\n",
              "103      55\n",
              "213      49\n",
              "189      40\n",
              "109      39\n",
              "179      38\n",
              "205      32\n",
              "Name: Breed2, dtype: int64"
            ]
          },
          "metadata": {
            "tags": []
          },
          "execution_count": 10
        }
      ]
    },
    {
      "cell_type": "code",
      "metadata": {
        "id": "CEuc9wTi0Rzd",
        "colab_type": "code",
        "colab": {}
      },
      "source": [
        "# create a function to change the uncommon breeds into 'others'\n",
        "def Breed2(df): \n",
        "    \n",
        "    if df.Breed2 not in [0,266,265,307]:\n",
        "        df.Breed2= 999\n",
        "    else:\n",
        "        df.Breed2 = df.Breed2\n",
        "    return df\n",
        "  \n",
        "df=df.apply(Breed2, axis=1)"
      ],
      "execution_count": 0,
      "outputs": []
    },
    {
      "cell_type": "code",
      "metadata": {
        "id": "fy_Vzjy10g9j",
        "colab_type": "code",
        "outputId": "1e59ef96-d9bb-4261-c4a8-66b4b7683d3c",
        "colab": {
          "base_uri": "https://localhost:8080/",
          "height": 121
        }
      },
      "source": [
        "# check the results\n",
        "df.Breed2.value_counts()"
      ],
      "execution_count": 0,
      "outputs": [
        {
          "output_type": "execute_result",
          "data": {
            "text/plain": [
              "0      10762\n",
              "307     1727\n",
              "999     1584\n",
              "266      599\n",
              "265      321\n",
              "Name: Breed2, dtype: int64"
            ]
          },
          "metadata": {
            "tags": []
          },
          "execution_count": 12
        }
      ]
    },
    {
      "cell_type": "code",
      "metadata": {
        "id": "paE_jyy7PsLJ",
        "colab_type": "code",
        "colab": {}
      },
      "source": [
        "def names(df):\n",
        "  if pd.notnull(df.Name) == True:\n",
        "    df.Name = 1\n",
        "  else:\n",
        "    df.Name=0\n",
        "  return df\n",
        "\n",
        "df=df.apply(names, axis=1)"
      ],
      "execution_count": 0,
      "outputs": []
    },
    {
      "cell_type": "code",
      "metadata": {
        "id": "WWwYyOr4RM_R",
        "colab_type": "code",
        "colab": {}
      },
      "source": [
        "def adopted(df):\n",
        "  if df.AdoptionSpeed not in [0,1,2,3]:\n",
        "        df.AdoptionSpeed= 0\n",
        "  else:\n",
        "        df.AdoptionSpeed = 1\n",
        "  return df\n",
        "\n",
        "df=df.apply(adopted, axis=1)"
      ],
      "execution_count": 0,
      "outputs": []
    },
    {
      "cell_type": "code",
      "metadata": {
        "id": "4OACFEMsyuN4",
        "colab_type": "code",
        "colab": {}
      },
      "source": [
        "def state(df):\n",
        "  if df.State not in [41326, 41401]:\n",
        "        df.State= 11111\n",
        "  else:\n",
        "        df.State = df.State\n",
        "  return df\n",
        "\n",
        "df=df.apply(state, axis=1)"
      ],
      "execution_count": 0,
      "outputs": []
    },
    {
      "cell_type": "markdown",
      "metadata": {
        "id": "A-AAq04SwFe2",
        "colab_type": "text"
      },
      "source": [
        "# Data processing"
      ]
    },
    {
      "cell_type": "code",
      "metadata": {
        "id": "_zmuj7YKnkkx",
        "colab_type": "code",
        "colab": {}
      },
      "source": [
        "# drop the columns we do not need\n",
        "df = df.drop(['RescuerID','Description','PetID'], axis=1)"
      ],
      "execution_count": 0,
      "outputs": []
    },
    {
      "cell_type": "code",
      "metadata": {
        "id": "iEQqYeV2nofs",
        "colab_type": "code",
        "outputId": "7eabc331-3667-411e-912b-4b028381dc8d",
        "colab": {
          "base_uri": "https://localhost:8080/",
          "height": 104
        }
      },
      "source": [
        "df.columns"
      ],
      "execution_count": 17,
      "outputs": [
        {
          "output_type": "execute_result",
          "data": {
            "text/plain": [
              "Index(['Type', 'Name', 'Age', 'Breed1', 'Breed2', 'Gender', 'Color1', 'Color2',\n",
              "       'Color3', 'MaturitySize', 'FurLength', 'Vaccinated', 'Dewormed',\n",
              "       'Sterilized', 'Health', 'Quantity', 'Fee', 'State', 'VideoAmt',\n",
              "       'PhotoAmt', 'AdoptionSpeed'],\n",
              "      dtype='object')"
            ]
          },
          "metadata": {
            "tags": []
          },
          "execution_count": 17
        }
      ]
    },
    {
      "cell_type": "code",
      "metadata": {
        "id": "UmwIY-CsRlOQ",
        "colab_type": "code",
        "outputId": "40b80612-52b0-41bf-9be1-d0e6236574be",
        "colab": {
          "base_uri": "https://localhost:8080/",
          "height": 222
        }
      },
      "source": [
        "df.head()"
      ],
      "execution_count": 18,
      "outputs": [
        {
          "output_type": "execute_result",
          "data": {
            "text/html": [
              "<div>\n",
              "<style scoped>\n",
              "    .dataframe tbody tr th:only-of-type {\n",
              "        vertical-align: middle;\n",
              "    }\n",
              "\n",
              "    .dataframe tbody tr th {\n",
              "        vertical-align: top;\n",
              "    }\n",
              "\n",
              "    .dataframe thead th {\n",
              "        text-align: right;\n",
              "    }\n",
              "</style>\n",
              "<table border=\"1\" class=\"dataframe\">\n",
              "  <thead>\n",
              "    <tr style=\"text-align: right;\">\n",
              "      <th></th>\n",
              "      <th>Type</th>\n",
              "      <th>Name</th>\n",
              "      <th>Age</th>\n",
              "      <th>Breed1</th>\n",
              "      <th>Breed2</th>\n",
              "      <th>Gender</th>\n",
              "      <th>Color1</th>\n",
              "      <th>Color2</th>\n",
              "      <th>Color3</th>\n",
              "      <th>MaturitySize</th>\n",
              "      <th>FurLength</th>\n",
              "      <th>Vaccinated</th>\n",
              "      <th>Dewormed</th>\n",
              "      <th>Sterilized</th>\n",
              "      <th>Health</th>\n",
              "      <th>Quantity</th>\n",
              "      <th>Fee</th>\n",
              "      <th>State</th>\n",
              "      <th>VideoAmt</th>\n",
              "      <th>PhotoAmt</th>\n",
              "      <th>AdoptionSpeed</th>\n",
              "    </tr>\n",
              "  </thead>\n",
              "  <tbody>\n",
              "    <tr>\n",
              "      <th>0</th>\n",
              "      <td>2</td>\n",
              "      <td>1</td>\n",
              "      <td>3</td>\n",
              "      <td>299</td>\n",
              "      <td>0</td>\n",
              "      <td>1</td>\n",
              "      <td>1</td>\n",
              "      <td>7</td>\n",
              "      <td>0</td>\n",
              "      <td>1</td>\n",
              "      <td>1</td>\n",
              "      <td>2</td>\n",
              "      <td>2</td>\n",
              "      <td>2</td>\n",
              "      <td>1</td>\n",
              "      <td>1</td>\n",
              "      <td>100</td>\n",
              "      <td>41326</td>\n",
              "      <td>0</td>\n",
              "      <td>1.0</td>\n",
              "      <td>1</td>\n",
              "    </tr>\n",
              "    <tr>\n",
              "      <th>1</th>\n",
              "      <td>2</td>\n",
              "      <td>1</td>\n",
              "      <td>1</td>\n",
              "      <td>265</td>\n",
              "      <td>0</td>\n",
              "      <td>1</td>\n",
              "      <td>1</td>\n",
              "      <td>2</td>\n",
              "      <td>0</td>\n",
              "      <td>2</td>\n",
              "      <td>2</td>\n",
              "      <td>3</td>\n",
              "      <td>3</td>\n",
              "      <td>3</td>\n",
              "      <td>1</td>\n",
              "      <td>1</td>\n",
              "      <td>0</td>\n",
              "      <td>41401</td>\n",
              "      <td>0</td>\n",
              "      <td>2.0</td>\n",
              "      <td>1</td>\n",
              "    </tr>\n",
              "    <tr>\n",
              "      <th>2</th>\n",
              "      <td>1</td>\n",
              "      <td>1</td>\n",
              "      <td>1</td>\n",
              "      <td>307</td>\n",
              "      <td>0</td>\n",
              "      <td>1</td>\n",
              "      <td>2</td>\n",
              "      <td>7</td>\n",
              "      <td>0</td>\n",
              "      <td>2</td>\n",
              "      <td>2</td>\n",
              "      <td>1</td>\n",
              "      <td>1</td>\n",
              "      <td>2</td>\n",
              "      <td>1</td>\n",
              "      <td>1</td>\n",
              "      <td>0</td>\n",
              "      <td>41326</td>\n",
              "      <td>0</td>\n",
              "      <td>7.0</td>\n",
              "      <td>1</td>\n",
              "    </tr>\n",
              "    <tr>\n",
              "      <th>3</th>\n",
              "      <td>1</td>\n",
              "      <td>1</td>\n",
              "      <td>4</td>\n",
              "      <td>307</td>\n",
              "      <td>0</td>\n",
              "      <td>2</td>\n",
              "      <td>1</td>\n",
              "      <td>2</td>\n",
              "      <td>0</td>\n",
              "      <td>2</td>\n",
              "      <td>1</td>\n",
              "      <td>1</td>\n",
              "      <td>1</td>\n",
              "      <td>2</td>\n",
              "      <td>1</td>\n",
              "      <td>1</td>\n",
              "      <td>150</td>\n",
              "      <td>41401</td>\n",
              "      <td>0</td>\n",
              "      <td>8.0</td>\n",
              "      <td>1</td>\n",
              "    </tr>\n",
              "    <tr>\n",
              "      <th>4</th>\n",
              "      <td>1</td>\n",
              "      <td>1</td>\n",
              "      <td>1</td>\n",
              "      <td>307</td>\n",
              "      <td>0</td>\n",
              "      <td>1</td>\n",
              "      <td>1</td>\n",
              "      <td>0</td>\n",
              "      <td>0</td>\n",
              "      <td>2</td>\n",
              "      <td>1</td>\n",
              "      <td>2</td>\n",
              "      <td>2</td>\n",
              "      <td>2</td>\n",
              "      <td>1</td>\n",
              "      <td>1</td>\n",
              "      <td>0</td>\n",
              "      <td>41326</td>\n",
              "      <td>0</td>\n",
              "      <td>3.0</td>\n",
              "      <td>1</td>\n",
              "    </tr>\n",
              "  </tbody>\n",
              "</table>\n",
              "</div>"
            ],
            "text/plain": [
              "   Type  Name  Age  Breed1  Breed2  Gender  Color1  Color2  Color3  \\\n",
              "0     2     1    3     299       0       1       1       7       0   \n",
              "1     2     1    1     265       0       1       1       2       0   \n",
              "2     1     1    1     307       0       1       2       7       0   \n",
              "3     1     1    4     307       0       2       1       2       0   \n",
              "4     1     1    1     307       0       1       1       0       0   \n",
              "\n",
              "   MaturitySize  FurLength  Vaccinated  Dewormed  Sterilized  Health  \\\n",
              "0             1          1           2         2           2       1   \n",
              "1             2          2           3         3           3       1   \n",
              "2             2          2           1         1           2       1   \n",
              "3             2          1           1         1           2       1   \n",
              "4             2          1           2         2           2       1   \n",
              "\n",
              "   Quantity  Fee  State  VideoAmt  PhotoAmt  AdoptionSpeed  \n",
              "0         1  100  41326         0       1.0              1  \n",
              "1         1    0  41401         0       2.0              1  \n",
              "2         1    0  41326         0       7.0              1  \n",
              "3         1  150  41401         0       8.0              1  \n",
              "4         1    0  41326         0       3.0              1  "
            ]
          },
          "metadata": {
            "tags": []
          },
          "execution_count": 18
        }
      ]
    },
    {
      "cell_type": "code",
      "metadata": {
        "id": "77wsM3KpPp0H",
        "colab_type": "code",
        "outputId": "e9476bb4-3a21-41c5-df8a-ef55ccdb3429",
        "colab": {
          "base_uri": "https://localhost:8080/",
          "height": 294
        }
      },
      "source": [
        "df[['Fee','Age','VideoAmt','PhotoAmt','Quantity']].describe()"
      ],
      "execution_count": 19,
      "outputs": [
        {
          "output_type": "execute_result",
          "data": {
            "text/html": [
              "<div>\n",
              "<style scoped>\n",
              "    .dataframe tbody tr th:only-of-type {\n",
              "        vertical-align: middle;\n",
              "    }\n",
              "\n",
              "    .dataframe tbody tr th {\n",
              "        vertical-align: top;\n",
              "    }\n",
              "\n",
              "    .dataframe thead th {\n",
              "        text-align: right;\n",
              "    }\n",
              "</style>\n",
              "<table border=\"1\" class=\"dataframe\">\n",
              "  <thead>\n",
              "    <tr style=\"text-align: right;\">\n",
              "      <th></th>\n",
              "      <th>Fee</th>\n",
              "      <th>Age</th>\n",
              "      <th>VideoAmt</th>\n",
              "      <th>PhotoAmt</th>\n",
              "      <th>Quantity</th>\n",
              "    </tr>\n",
              "  </thead>\n",
              "  <tbody>\n",
              "    <tr>\n",
              "      <th>count</th>\n",
              "      <td>14993.000000</td>\n",
              "      <td>14993.000000</td>\n",
              "      <td>14993.000000</td>\n",
              "      <td>14993.000000</td>\n",
              "      <td>14993.000000</td>\n",
              "    </tr>\n",
              "    <tr>\n",
              "      <th>mean</th>\n",
              "      <td>21.259988</td>\n",
              "      <td>10.452078</td>\n",
              "      <td>0.056760</td>\n",
              "      <td>3.889215</td>\n",
              "      <td>1.576069</td>\n",
              "    </tr>\n",
              "    <tr>\n",
              "      <th>std</th>\n",
              "      <td>78.414548</td>\n",
              "      <td>18.155790</td>\n",
              "      <td>0.346185</td>\n",
              "      <td>3.487810</td>\n",
              "      <td>1.472477</td>\n",
              "    </tr>\n",
              "    <tr>\n",
              "      <th>min</th>\n",
              "      <td>0.000000</td>\n",
              "      <td>0.000000</td>\n",
              "      <td>0.000000</td>\n",
              "      <td>0.000000</td>\n",
              "      <td>1.000000</td>\n",
              "    </tr>\n",
              "    <tr>\n",
              "      <th>25%</th>\n",
              "      <td>0.000000</td>\n",
              "      <td>2.000000</td>\n",
              "      <td>0.000000</td>\n",
              "      <td>2.000000</td>\n",
              "      <td>1.000000</td>\n",
              "    </tr>\n",
              "    <tr>\n",
              "      <th>50%</th>\n",
              "      <td>0.000000</td>\n",
              "      <td>3.000000</td>\n",
              "      <td>0.000000</td>\n",
              "      <td>3.000000</td>\n",
              "      <td>1.000000</td>\n",
              "    </tr>\n",
              "    <tr>\n",
              "      <th>75%</th>\n",
              "      <td>0.000000</td>\n",
              "      <td>12.000000</td>\n",
              "      <td>0.000000</td>\n",
              "      <td>5.000000</td>\n",
              "      <td>1.000000</td>\n",
              "    </tr>\n",
              "    <tr>\n",
              "      <th>max</th>\n",
              "      <td>3000.000000</td>\n",
              "      <td>255.000000</td>\n",
              "      <td>8.000000</td>\n",
              "      <td>30.000000</td>\n",
              "      <td>20.000000</td>\n",
              "    </tr>\n",
              "  </tbody>\n",
              "</table>\n",
              "</div>"
            ],
            "text/plain": [
              "                Fee           Age      VideoAmt      PhotoAmt      Quantity\n",
              "count  14993.000000  14993.000000  14993.000000  14993.000000  14993.000000\n",
              "mean      21.259988     10.452078      0.056760      3.889215      1.576069\n",
              "std       78.414548     18.155790      0.346185      3.487810      1.472477\n",
              "min        0.000000      0.000000      0.000000      0.000000      1.000000\n",
              "25%        0.000000      2.000000      0.000000      2.000000      1.000000\n",
              "50%        0.000000      3.000000      0.000000      3.000000      1.000000\n",
              "75%        0.000000     12.000000      0.000000      5.000000      1.000000\n",
              "max     3000.000000    255.000000      8.000000     30.000000     20.000000"
            ]
          },
          "metadata": {
            "tags": []
          },
          "execution_count": 19
        }
      ]
    },
    {
      "cell_type": "code",
      "metadata": {
        "id": "1KK31fygSd74",
        "colab_type": "code",
        "outputId": "eeeedc74-6cf1-4c91-be8c-cbdb470ecb0b",
        "colab": {
          "base_uri": "https://localhost:8080/",
          "height": 277
        }
      },
      "source": [
        "df.State.value_counts()"
      ],
      "execution_count": 146,
      "outputs": [
        {
          "output_type": "execute_result",
          "data": {
            "text/plain": [
              "41326    8714\n",
              "41401    3845\n",
              "41327     843\n",
              "41336     507\n",
              "41330     420\n",
              "41332     253\n",
              "41324     137\n",
              "41325     110\n",
              "41335      85\n",
              "41361      26\n",
              "41345      22\n",
              "41367      15\n",
              "41342      13\n",
              "41415       3\n",
              "Name: State, dtype: int64"
            ]
          },
          "metadata": {
            "tags": []
          },
          "execution_count": 146
        }
      ]
    },
    {
      "cell_type": "code",
      "metadata": {
        "id": "75fWTBxOoZcU",
        "colab_type": "code",
        "colab": {}
      },
      "source": [
        "X=df.drop(['AdoptionSpeed','Fee','Age','VideoAmt','PhotoAmt','Quantity'],axis=1)\n",
        "y=df.AdoptionSpeed"
      ],
      "execution_count": 0,
      "outputs": []
    },
    {
      "cell_type": "code",
      "metadata": {
        "id": "T_itFvgtSasU",
        "colab_type": "code",
        "outputId": "24633e68-b553-4c66-bb48-adc3829a1d80",
        "colab": {
          "base_uri": "https://localhost:8080/",
          "height": 277
        }
      },
      "source": [
        "X.dtypes"
      ],
      "execution_count": 0,
      "outputs": [
        {
          "output_type": "execute_result",
          "data": {
            "text/plain": [
              "Type            int64\n",
              "Breed1          int64\n",
              "Breed2          int64\n",
              "Gender          int64\n",
              "Color1          int64\n",
              "Color2          int64\n",
              "Color3          int64\n",
              "MaturitySize    int64\n",
              "FurLength       int64\n",
              "Vaccinated      int64\n",
              "Dewormed        int64\n",
              "Sterilized      int64\n",
              "Health          int64\n",
              "State           int64\n",
              "dtype: object"
            ]
          },
          "metadata": {
            "tags": []
          },
          "execution_count": 15
        }
      ]
    },
    {
      "cell_type": "code",
      "metadata": {
        "id": "AGypJC6R5UHz",
        "colab_type": "code",
        "colab": {}
      },
      "source": [
        "from sklearn import preprocessing\n",
        "enc = preprocessing.OneHotEncoder(handle_unknown='ignore')\n",
        "X_cat=enc.fit_transform(X).toarray()"
      ],
      "execution_count": 0,
      "outputs": []
    },
    {
      "cell_type": "code",
      "metadata": {
        "id": "ZUDSGxdnt7fs",
        "colab_type": "code",
        "colab": {
          "base_uri": "https://localhost:8080/",
          "height": 104
        },
        "outputId": "e123f2ed-a584-414c-a0b4-417f3f592e9d"
      },
      "source": [
        "X_cat[0,:]"
      ],
      "execution_count": 135,
      "outputs": [
        {
          "output_type": "execute_result",
          "data": {
            "text/plain": [
              "array([0., 1., 0., 1., 0., 0., 0., 0., 0., 0., 1., 0., 0., 1., 0., 0., 0.,\n",
              "       0., 1., 0., 0., 1., 0., 0., 0., 0., 0., 0., 0., 0., 0., 0., 0., 0.,\n",
              "       1., 1., 0., 0., 0., 0., 0., 1., 0., 0., 0., 1., 0., 0., 0., 1., 0.,\n",
              "       0., 1., 0., 0., 1., 0., 1., 0., 0., 0., 0., 1., 0., 0., 0., 0., 0.,\n",
              "       0., 0., 0., 0., 0., 0.])"
            ]
          },
          "metadata": {
            "tags": []
          },
          "execution_count": 135
        }
      ]
    },
    {
      "cell_type": "code",
      "metadata": {
        "id": "1ClzFwK7uzAq",
        "colab_type": "code",
        "colab": {
          "base_uri": "https://localhost:8080/",
          "height": 35
        },
        "outputId": "95bae17f-d21e-4c4d-e23a-2d8a98b59f45"
      },
      "source": [
        "X_cat.shape"
      ],
      "execution_count": 139,
      "outputs": [
        {
          "output_type": "execute_result",
          "data": {
            "text/plain": [
              "(14993, 74)"
            ]
          },
          "metadata": {
            "tags": []
          },
          "execution_count": 139
        }
      ]
    },
    {
      "cell_type": "code",
      "metadata": {
        "id": "1qGSTlU9uIzA",
        "colab_type": "code",
        "colab": {
          "base_uri": "https://localhost:8080/",
          "height": 52
        },
        "outputId": "0c2c5a94-6a96-499b-d804-8f8f251b9c79"
      },
      "source": [
        "enc.inverse_transform(X_cat[0,:].reshape(1,-1))"
      ],
      "execution_count": 137,
      "outputs": [
        {
          "output_type": "execute_result",
          "data": {
            "text/plain": [
              "array([[    2,     1,   299,     0,     1,     1,     7,     0,     1,\n",
              "            1,     2,     2,     2,     1, 41326]])"
            ]
          },
          "metadata": {
            "tags": []
          },
          "execution_count": 137
        }
      ]
    },
    {
      "cell_type": "markdown",
      "metadata": {
        "id": "CjpXTAd9uqDK",
        "colab_type": "text"
      },
      "source": [
        "columns after recoding:\n",
        "dog, cat, noName, withName, breed1(9 colums), breed2(5 columns),male, female, mixed, color1(7 columns), color2(7 columns), color3(6 columns), Small, Medium, Large, Extra Large, short, medium, long, vaccinated, not, dewormed, not, sterilized, not, Healthy, Minor Injury, Serious Injury, state(7), age, quantity, fee, videoamt, photoamt\n"
      ]
    },
    {
      "cell_type": "code",
      "metadata": {
        "id": "vIt3UwdFVwdZ",
        "colab_type": "code",
        "outputId": "647c29ab-c308-4e8f-a5bb-8387496170c6",
        "colab": {
          "base_uri": "https://localhost:8080/",
          "height": 72
        }
      },
      "source": [
        "df2  = df[['Age','Quantity','Fee','VideoAmt','PhotoAmt']].as_matrix()"
      ],
      "execution_count": 22,
      "outputs": [
        {
          "output_type": "stream",
          "text": [
            "/usr/local/lib/python3.6/dist-packages/ipykernel_launcher.py:1: FutureWarning: Method .as_matrix will be removed in a future version. Use .values instead.\n",
            "  \"\"\"Entry point for launching an IPython kernel.\n"
          ],
          "name": "stderr"
        }
      ]
    },
    {
      "cell_type": "code",
      "metadata": {
        "id": "hqjULOULjxt-",
        "colab_type": "code",
        "colab": {}
      },
      "source": [
        "X=np.concatenate([X_cat, df2], axis=1)"
      ],
      "execution_count": 0,
      "outputs": []
    },
    {
      "cell_type": "code",
      "metadata": {
        "id": "GMvbEumTXC3P",
        "colab_type": "code",
        "colab": {}
      },
      "source": [
        "from sklearn.preprocessing import MaxAbsScaler \n",
        "scaler = MaxAbsScaler()\n",
        "X=scaler.fit_transform(X)"
      ],
      "execution_count": 0,
      "outputs": []
    },
    {
      "cell_type": "code",
      "metadata": {
        "id": "-jkSg6rD3k8l",
        "colab_type": "code",
        "outputId": "8024ab0d-5d25-4005-b6dd-75f6caa664d0",
        "colab": {
          "base_uri": "https://localhost:8080/",
          "height": 35
        }
      },
      "source": [
        "X.shape"
      ],
      "execution_count": 25,
      "outputs": [
        {
          "output_type": "execute_result",
          "data": {
            "text/plain": [
              "(14993, 79)"
            ]
          },
          "metadata": {
            "tags": []
          },
          "execution_count": 25
        }
      ]
    },
    {
      "cell_type": "code",
      "metadata": {
        "id": "KPCfDsef7DKi",
        "colab_type": "code",
        "outputId": "33472e64-a78e-4c46-aeeb-32e952f1656c",
        "colab": {
          "base_uri": "https://localhost:8080/",
          "height": 35
        }
      },
      "source": [
        "y.array.shape"
      ],
      "execution_count": 26,
      "outputs": [
        {
          "output_type": "execute_result",
          "data": {
            "text/plain": [
              "(14993,)"
            ]
          },
          "metadata": {
            "tags": []
          },
          "execution_count": 26
        }
      ]
    },
    {
      "cell_type": "code",
      "metadata": {
        "id": "dMywtX2d2E9V",
        "colab_type": "code",
        "colab": {}
      },
      "source": [
        "from scipy import stats\n",
        "stats.describe(X)"
      ],
      "execution_count": 0,
      "outputs": []
    },
    {
      "cell_type": "code",
      "metadata": {
        "id": "djVGElPSywlo",
        "colab_type": "code",
        "colab": {}
      },
      "source": [
        "# Get training and test sets\n",
        "\n",
        "X_train, X_test, y_train, y_test = train_test_split(X, y, test_size=0.30, random_state=37)"
      ],
      "execution_count": 0,
      "outputs": []
    },
    {
      "cell_type": "markdown",
      "metadata": {
        "id": "ER7lkNrJ0dHf",
        "colab_type": "text"
      },
      "source": [
        "# Random Forest "
      ]
    },
    {
      "cell_type": "code",
      "metadata": {
        "id": "TPst_LqSv7v9",
        "colab_type": "code",
        "outputId": "e4e17e1f-81fe-4dc0-ec87-36901d10bffd",
        "colab": {
          "base_uri": "https://localhost:8080/",
          "height": 139
        }
      },
      "source": [
        "from sklearn.ensemble import RandomForestClassifier\n",
        "rfr = RandomForestClassifier(n_estimators=100,  random_state=42)\n",
        "rfr.fit(X_train, y_train)"
      ],
      "execution_count": 31,
      "outputs": [
        {
          "output_type": "execute_result",
          "data": {
            "text/plain": [
              "RandomForestClassifier(bootstrap=True, class_weight=None, criterion='gini',\n",
              "                       max_depth=None, max_features='auto', max_leaf_nodes=None,\n",
              "                       min_impurity_decrease=0.0, min_impurity_split=None,\n",
              "                       min_samples_leaf=1, min_samples_split=2,\n",
              "                       min_weight_fraction_leaf=0.0, n_estimators=100,\n",
              "                       n_jobs=None, oob_score=False, random_state=42, verbose=0,\n",
              "                       warm_start=False)"
            ]
          },
          "metadata": {
            "tags": []
          },
          "execution_count": 31
        }
      ]
    },
    {
      "cell_type": "code",
      "metadata": {
        "id": "hM5TFFb2wWE4",
        "colab_type": "code",
        "colab": {}
      },
      "source": [
        "from sklearn.metrics import confusion_matrix\n",
        "from sklearn.metrics import mean_squared_error\n",
        "from sklearn.metrics import roc_auc_score"
      ],
      "execution_count": 0,
      "outputs": []
    },
    {
      "cell_type": "code",
      "metadata": {
        "id": "AyFp5OhQz5g-",
        "colab_type": "code",
        "outputId": "fb4e266e-0b8f-44ac-8b96-a43986998c25",
        "colab": {
          "base_uri": "https://localhost:8080/",
          "height": 35
        }
      },
      "source": [
        "print('AUC for the current model is', roc_auc_score(y_test, rfr.predict(X_test)))"
      ],
      "execution_count": 34,
      "outputs": [
        {
          "output_type": "stream",
          "text": [
            "AUC for the current model is 0.6270826625296373\n"
          ],
          "name": "stdout"
        }
      ]
    },
    {
      "cell_type": "markdown",
      "metadata": {
        "id": "G24IwJtSVThw",
        "colab_type": "text"
      },
      "source": [
        "# Logistic Regression"
      ]
    },
    {
      "cell_type": "code",
      "metadata": {
        "id": "9Cl33wFhVS0V",
        "colab_type": "code",
        "colab": {
          "base_uri": "https://localhost:8080/",
          "height": 159
        },
        "outputId": "b630f7f1-322d-4e5e-efaf-a04843ddc8cf"
      },
      "source": [
        "from sklearn.linear_model import LogisticRegression\n",
        "lr = LogisticRegression()\n",
        "lr.fit(X_train, y_train)"
      ],
      "execution_count": 41,
      "outputs": [
        {
          "output_type": "stream",
          "text": [
            "/usr/local/lib/python3.6/dist-packages/sklearn/linear_model/logistic.py:432: FutureWarning: Default solver will be changed to 'lbfgs' in 0.22. Specify a solver to silence this warning.\n",
            "  FutureWarning)\n"
          ],
          "name": "stderr"
        },
        {
          "output_type": "execute_result",
          "data": {
            "text/plain": [
              "LogisticRegression(C=1.0, class_weight=None, dual=False, fit_intercept=True,\n",
              "                   intercept_scaling=1, l1_ratio=None, max_iter=100,\n",
              "                   multi_class='warn', n_jobs=None, penalty='l2',\n",
              "                   random_state=None, solver='warn', tol=0.0001, verbose=0,\n",
              "                   warm_start=False)"
            ]
          },
          "metadata": {
            "tags": []
          },
          "execution_count": 41
        }
      ]
    },
    {
      "cell_type": "code",
      "metadata": {
        "id": "C59bm_lrW-MV",
        "colab_type": "code",
        "colab": {
          "base_uri": "https://localhost:8080/",
          "height": 35
        },
        "outputId": "43806d2d-34b8-44a5-fd24-adf464015521"
      },
      "source": [
        "print('AUC for the current model is', roc_auc_score(y_test, lr.predict(X_test)))"
      ],
      "execution_count": 42,
      "outputs": [
        {
          "output_type": "stream",
          "text": [
            "AUC for the current model is 0.5940952199748266\n"
          ],
          "name": "stdout"
        }
      ]
    },
    {
      "cell_type": "code",
      "metadata": {
        "id": "bCKa6W4YtAIT",
        "colab_type": "code",
        "colab": {
          "base_uri": "https://localhost:8080/",
          "height": 485
        },
        "outputId": "e74843be-69f3-470b-8790-a3d010cc9dfa"
      },
      "source": [
        "lr.coef_"
      ],
      "execution_count": 134,
      "outputs": [
        {
          "output_type": "execute_result",
          "data": {
            "text/plain": [
              "array([[ 6.86711346e-01, -5.21981415e-01, -3.26792735e-02,\n",
              "         1.97409204e-01, -6.33881577e-02,  2.96304977e-01,\n",
              "         1.92139536e-01,  7.59355178e-05,  6.12731792e-01,\n",
              "         5.00103191e-01, -1.44189548e-02, -1.36271699e+00,\n",
              "         3.89860194e-03,  4.79089875e-02,  1.24380513e-01,\n",
              "         1.72548613e-01, -3.13069629e-01,  1.32961445e-01,\n",
              "         1.21074265e-01, -3.15543730e-02,  7.52100385e-02,\n",
              "        -9.27485016e-02, -8.73323295e-02,  3.69523952e-02,\n",
              "        -2.17804650e-01,  2.63305294e-01,  6.42896133e-02,\n",
              "         1.98068109e-01, -1.24340794e-01,  1.70939324e-01,\n",
              "         2.67100393e-02, -1.36018908e-01,  5.78402336e-02,\n",
              "         1.42220981e-01,  2.73790547e-02,  1.83113712e-01,\n",
              "        -3.92894584e-01, -1.51394985e-01,  2.00843346e-01,\n",
              "         1.80936798e-01,  1.44125644e-01, -1.78238931e-01,\n",
              "        -1.92035629e-01, -2.28614652e-01,  7.63619143e-01,\n",
              "        -1.66520185e-01, -1.07388027e-01,  4.38638143e-01,\n",
              "        -1.17908317e-01,  1.96821892e-01,  8.58163556e-02,\n",
              "         1.39959338e-01, -8.63441454e-02,  1.11114738e-01,\n",
              "        -2.44899011e-01,  6.77108084e-01, -2.67479143e-01,\n",
              "         3.78409117e-01,  5.83778281e-02, -2.72057015e-01,\n",
              "        -7.59625202e-01,  8.09712321e-02,  5.12633683e-01,\n",
              "         1.78382750e-01,  2.36829133e-01, -6.24869289e-02,\n",
              "         1.45304092e-01,  6.14884857e-01, -9.85307479e-01,\n",
              "         3.15990956e-01, -4.83119739e-03, -1.28571248e-01,\n",
              "         2.18362673e-01, -1.97807389e-01, -3.21547469e+00,\n",
              "        -2.36207763e+00, -2.37802677e+00,  1.50875240e-02,\n",
              "         2.23687341e+00]])"
            ]
          },
          "metadata": {
            "tags": []
          },
          "execution_count": 134
        }
      ]
    },
    {
      "cell_type": "markdown",
      "metadata": {
        "id": "-U2da8IFtU3d",
        "colab_type": "text"
      },
      "source": [
        "The last five coefficients are for variables [age, quantity, fee, videoAmt, photoAmt]. The coefficient for photoAmt is large and positive, and that means more photo can lead to adoption, same for video amount."
      ]
    },
    {
      "cell_type": "markdown",
      "metadata": {
        "id": "bDbxmrAp05KT",
        "colab_type": "text"
      },
      "source": [
        "# Neural Network"
      ]
    },
    {
      "cell_type": "code",
      "metadata": {
        "id": "m2gbFIvE1EzV",
        "colab_type": "code",
        "colab": {}
      },
      "source": [
        "from keras.layers import *\n",
        "from keras.models import Sequential"
      ],
      "execution_count": 0,
      "outputs": []
    },
    {
      "cell_type": "code",
      "metadata": {
        "id": "0Y09BIzW2Xmg",
        "colab_type": "code",
        "colab": {}
      },
      "source": [
        "from keras.utils import to_categorical\n",
        "y_train_cat = to_categorical(y_train)\n",
        "y_test_cat = to_categorical(y_test)"
      ],
      "execution_count": 0,
      "outputs": []
    },
    {
      "cell_type": "code",
      "metadata": {
        "id": "eg9SE4TNYgZh",
        "colab_type": "code",
        "colab": {}
      },
      "source": [
        "# the following code is from \n",
        "# https://stackoverflow.com/questions/41032551/how-to-compute-receiving-operating-characteristic-roc-and-auc-in-keras\n",
        "from keras import backend as K\n",
        "\n",
        "def auc(y_true, y_pred):\n",
        "    auc = tf.metrics.auc(y_true, y_pred)[1]\n",
        "    K.get_session().run(tf.local_variables_initializer())\n",
        "    return auc"
      ],
      "execution_count": 0,
      "outputs": []
    },
    {
      "cell_type": "code",
      "metadata": {
        "id": "8uE4a0M61OKb",
        "colab_type": "code",
        "outputId": "270c1b05-d867-44c1-91be-e27fd77b874c",
        "colab": {
          "base_uri": "https://localhost:8080/",
          "height": 364
        }
      },
      "source": [
        "ncol=X_train.shape[1]\n",
        "act='selu'\n",
        "num=30\n",
        "nn1 = Sequential()\n",
        "nn1.add(Dense(num,activation=act, input_shape = (ncol,)))\n",
        "nn1.add(Dropout(0.2))\n",
        "nn1.add(Dense(num, activation=act))\n",
        "nn1.add(Dropout(0.2))\n",
        "nn1.add(Dense(num, activation=act))\n",
        "nn1.add(Dense(1, activation='sigmoid')) \n",
        "nn1.compile(loss='binary_crossentropy', optimizer='adam',metrics=[auc])\n",
        "nn1.summary()"
      ],
      "execution_count": 89,
      "outputs": [
        {
          "output_type": "stream",
          "text": [
            "Model: \"sequential_17\"\n",
            "_________________________________________________________________\n",
            "Layer (type)                 Output Shape              Param #   \n",
            "=================================================================\n",
            "dense_65 (Dense)             (None, 30)                2400      \n",
            "_________________________________________________________________\n",
            "dropout_33 (Dropout)         (None, 30)                0         \n",
            "_________________________________________________________________\n",
            "dense_66 (Dense)             (None, 30)                930       \n",
            "_________________________________________________________________\n",
            "dropout_34 (Dropout)         (None, 30)                0         \n",
            "_________________________________________________________________\n",
            "dense_67 (Dense)             (None, 30)                930       \n",
            "_________________________________________________________________\n",
            "dense_68 (Dense)             (None, 1)                 31        \n",
            "=================================================================\n",
            "Total params: 4,291\n",
            "Trainable params: 4,291\n",
            "Non-trainable params: 0\n",
            "_________________________________________________________________\n"
          ],
          "name": "stdout"
        }
      ]
    },
    {
      "cell_type": "code",
      "metadata": {
        "id": "TYxhGjuY2Iee",
        "colab_type": "code",
        "colab": {}
      },
      "source": [
        "history=nn1.fit(X_train,\n",
        "                    y_train,\n",
        "                    epochs=500,\n",
        "                    batch_size=50,\n",
        "                    validation_data=(X_test, y_test))"
      ],
      "execution_count": 0,
      "outputs": []
    },
    {
      "cell_type": "code",
      "metadata": {
        "id": "b5ntvy52258T",
        "colab_type": "code",
        "outputId": "2c7beb8c-8407-4b1b-f108-444adde5672d",
        "colab": {
          "base_uri": "https://localhost:8080/",
          "height": 371
        }
      },
      "source": [
        "# get the learning curve\n",
        "loss = history.history['auc']\n",
        "val_loss = history.history['val_auc']\n",
        "epochs = range(1, len(loss) + 1);\n",
        "plt.plot(epochs, loss, 'b', label='Training AUC')\n",
        "plt.plot(epochs, val_loss, 'r', label='Test AUC')\n",
        "plt.title('Training and test AUC')\n",
        "plt.xlabel('Epochs')\n",
        "plt.ylabel('Accuracy')\n",
        "plt.legend()\n",
        "plt.show()"
      ],
      "execution_count": 94,
      "outputs": [
        {
          "output_type": "execute_result",
          "data": {
            "text/plain": [
              "[<matplotlib.lines.Line2D at 0x7fb570b76d68>]"
            ]
          },
          "metadata": {
            "tags": []
          },
          "execution_count": 94
        },
        {
          "output_type": "execute_result",
          "data": {
            "text/plain": [
              "[<matplotlib.lines.Line2D at 0x7fb570b57be0>]"
            ]
          },
          "metadata": {
            "tags": []
          },
          "execution_count": 94
        },
        {
          "output_type": "execute_result",
          "data": {
            "text/plain": [
              "Text(0.5, 1.0, 'Training and test AUC')"
            ]
          },
          "metadata": {
            "tags": []
          },
          "execution_count": 94
        },
        {
          "output_type": "execute_result",
          "data": {
            "text/plain": [
              "Text(0.5, 0, 'Epochs')"
            ]
          },
          "metadata": {
            "tags": []
          },
          "execution_count": 94
        },
        {
          "output_type": "execute_result",
          "data": {
            "text/plain": [
              "Text(0, 0.5, 'Accuracy')"
            ]
          },
          "metadata": {
            "tags": []
          },
          "execution_count": 94
        },
        {
          "output_type": "execute_result",
          "data": {
            "text/plain": [
              "<matplotlib.legend.Legend at 0x7fb570b7f390>"
            ]
          },
          "metadata": {
            "tags": []
          },
          "execution_count": 94
        },
        {
          "output_type": "display_data",
          "data": {
            "image/png": "[encoded data removed]",
            "text/plain": [
              "<Figure size 432x288 with 1 Axes>"
            ]
          },
          "metadata": {
            "tags": []
          }
        }
      ]
    },
    {
      "cell_type": "markdown",
      "metadata": {
        "id": "kj-UbHx3dXgR",
        "colab_type": "text"
      },
      "source": [
        "# XGBoost"
      ]
    },
    {
      "cell_type": "code",
      "metadata": {
        "id": "QSjKJ65BdbtQ",
        "colab_type": "code",
        "colab": {}
      },
      "source": [
        "from xgboost.sklearn import XGBClassifier \n",
        "# fit model to training data\n",
        "xgb_model = XGBClassifier().fit(X_train, y_train)"
      ],
      "execution_count": 0,
      "outputs": []
    },
    {
      "cell_type": "code",
      "metadata": {
        "id": "3i9P9HFld6Yy",
        "colab_type": "code",
        "outputId": "54ea1829-7456-46a8-da6f-3a353046266d",
        "colab": {
          "base_uri": "https://localhost:8080/",
          "height": 35
        }
      },
      "source": [
        "print('AUC score for the current model is', roc_auc_score(y_test, xgb_model.predict(X_test)))"
      ],
      "execution_count": 44,
      "outputs": [
        {
          "output_type": "stream",
          "text": [
            "AUC score for the current model is 0.6217898994038384\n"
          ],
          "name": "stdout"
        }
      ]
    },
    {
      "cell_type": "code",
      "metadata": {
        "id": "5BQWOx8ne9ef",
        "colab_type": "code",
        "outputId": "cd37d547-76ad-4ce1-aa2a-78fc5cddcd96",
        "colab": {
          "base_uri": "https://localhost:8080/",
          "height": 52
        }
      },
      "source": [
        "confusion_matrix(y_test, xgb_model.predict(X_test),labels=[0,1])"
      ],
      "execution_count": 45,
      "outputs": [
        {
          "output_type": "execute_result",
          "data": {
            "text/plain": [
              "array([[ 390,  880],\n",
              "       [ 205, 3023]])"
            ]
          },
          "metadata": {
            "tags": []
          },
          "execution_count": 45
        }
      ]
    },
    {
      "cell_type": "code",
      "metadata": {
        "id": "WL7chGKV-6dz",
        "colab_type": "code",
        "outputId": "dbe5903b-0064-4c38-ba5c-0f857433713c",
        "colab": {
          "base_uri": "https://localhost:8080/",
          "height": 69
        }
      },
      "source": [
        "y_test.value_counts()"
      ],
      "execution_count": 46,
      "outputs": [
        {
          "output_type": "execute_result",
          "data": {
            "text/plain": [
              "1    3228\n",
              "0    1270\n",
              "Name: AdoptionSpeed, dtype: int64"
            ]
          },
          "metadata": {
            "tags": []
          },
          "execution_count": 46
        }
      ]
    },
    {
      "cell_type": "code",
      "metadata": {
        "id": "DjZ_QPG4dw1F",
        "colab_type": "code",
        "colab": {}
      },
      "source": [
        ""
      ],
      "execution_count": 0,
      "outputs": []
    },
    {
      "cell_type": "markdown",
      "metadata": {
        "id": "r_sRTSy0d7eb",
        "colab_type": "text"
      },
      "source": [
        "# text analysis"
      ]
    },
    {
      "cell_type": "code",
      "metadata": {
        "id": "Ihr8maF-d97m",
        "colab_type": "code",
        "colab": {}
      },
      "source": [
        "df = pd.read_csv('/content/drive/My Drive/6211 - project/pet-adoption-prediction/train/train.csv')\n",
        "text_data = df.Description"
      ],
      "execution_count": 0,
      "outputs": []
    },
    {
      "cell_type": "code",
      "metadata": {
        "id": "NNzZjlvskOsX",
        "colab_type": "code",
        "outputId": "dffddb4a-c164-4aa2-8910-1b7834a47346",
        "colab": {
          "base_uri": "https://localhost:8080/",
          "height": 381
        }
      },
      "source": [
        "text_data.head(20)"
      ],
      "execution_count": 0,
      "outputs": [
        {
          "output_type": "execute_result",
          "data": {
            "text/plain": [
              "0     Nibble is a 3+ month old ball of cuteness. He ...\n",
              "1     I just found it alone yesterday near my apartm...\n",
              "2     Their pregnant mother was dumped by her irresp...\n",
              "3     Good guard dog, very alert, active, obedience ...\n",
              "4     This handsome yet cute boy is up for adoption....\n",
              "5     This is a stray kitten that came to my house. ...\n",
              "6     anyone within the area of ipoh or taiping who ...\n",
              "7     Siu Pak just give birth on 13/6/10 to 6puppies...\n",
              "8     healthy and active, feisty kitten found in nei...\n",
              "9     Very manja and gentle stray cat found, we woul...\n",
              "10    For serious adopter, please do sms or call for...\n",
              "11    Kali is a super playful kitten who is on the g...\n",
              "12    Peanut was an abused puppy until he was rescue...\n",
              "13    Hi Pet Lovers! This is my first posting and I ...\n",
              "14    Lost Dog Found (Bandar Menjalara, Kepong／Taman...\n",
              "15    We moved out of our apartment to a landed home...\n",
              "16              to be spayed on /12 adorable & friendly\n",
              "17    shes active... she can obey wht command that u...\n",
              "18    This cutie dumped by it's owner at the market ...\n",
              "19    Birth Date: Oct 30th Kitty 1, Melly -Female Sa...\n",
              "Name: Description, dtype: object"
            ]
          },
          "metadata": {
            "tags": []
          },
          "execution_count": 23
        }
      ]
    },
    {
      "cell_type": "code",
      "metadata": {
        "id": "7gqFnNkRuKr6",
        "colab_type": "code",
        "outputId": "77bc1326-8ccc-44d7-c107-53996b6abd47",
        "colab": {
          "base_uri": "https://localhost:8080/",
          "height": 72
        }
      },
      "source": [
        "text=text_data.as_matrix()"
      ],
      "execution_count": 119,
      "outputs": [
        {
          "output_type": "stream",
          "text": [
            "/usr/local/lib/python3.6/dist-packages/ipykernel_launcher.py:1: FutureWarning: Method .as_matrix will be removed in a future version. Use .values instead.\n",
            "  \"\"\"Entry point for launching an IPython kernel.\n"
          ],
          "name": "stderr"
        }
      ]
    },
    {
      "cell_type": "code",
      "metadata": {
        "id": "68ArwYM1vRaL",
        "colab_type": "code",
        "colab": {}
      },
      "source": [
        "clean_text=[]\n",
        "for line in text:\n",
        "  clean_text.append(str(line))"
      ],
      "execution_count": 0,
      "outputs": []
    },
    {
      "cell_type": "code",
      "metadata": {
        "id": "Tl3grxI1eUhI",
        "colab_type": "code",
        "colab": {}
      },
      "source": [
        "#!pip install langdetect\n",
        "lang=[]\n",
        "for line in text_data:\n",
        "  lang.append(detect(str(line)))"
      ],
      "execution_count": 0,
      "outputs": []
    },
    {
      "cell_type": "code",
      "metadata": {
        "id": "A4YgdrV5fwhC",
        "colab_type": "code",
        "outputId": "830e6789-343b-425e-fee4-b02b5de84355",
        "colab": {
          "base_uri": "https://localhost:8080/",
          "height": 35
        }
      },
      "source": [
        "lang.count('en')"
      ],
      "execution_count": 0,
      "outputs": [
        {
          "output_type": "execute_result",
          "data": {
            "text/plain": [
              "14176"
            ]
          },
          "metadata": {
            "tags": []
          },
          "execution_count": 115
        }
      ]
    },
    {
      "cell_type": "code",
      "metadata": {
        "id": "OTUCrbAbeO6O",
        "colab_type": "code",
        "outputId": "7a4cb2df-0471-4c71-f520-915301826486",
        "colab": {
          "base_uri": "https://localhost:8080/",
          "height": 35
        }
      },
      "source": [
        "# preprocessing text data\n",
        "from keras.preprocessing.text import Tokenizer\n",
        "# tokenize the most often 150 words\n",
        "tokenizer = Tokenizer(num_words=150)\n",
        "tokenizer.fit_on_texts(clean_text)\n",
        "word_index = tokenizer.word_index\n",
        "# convert descriptions into matrix\n",
        "clean_text=tokenizer.texts_to_matrix(clean_text,mode='binary')\n",
        "print('Found %s unique tokens.' % len(word_index))"
      ],
      "execution_count": 121,
      "outputs": [
        {
          "output_type": "stream",
          "text": [
            "Found 21808 unique tokens.\n"
          ],
          "name": "stdout"
        }
      ]
    },
    {
      "cell_type": "code",
      "metadata": {
        "id": "PZaclGFgwS-0",
        "colab_type": "code",
        "colab": {}
      },
      "source": [
        "# separating training sets and test sets\n",
        "num1, num2, txt1, txt2, labels1, labels2 = train_test_split(\n",
        "    X, clean_text, y, test_size=0.30, random_state=42)\n",
        "# Getting the number of features\n",
        "ncol=X.shape[1]"
      ],
      "execution_count": 0,
      "outputs": []
    },
    {
      "cell_type": "code",
      "metadata": {
        "id": "ON0VMAb6wkgh",
        "colab_type": "code",
        "colab": {}
      },
      "source": [
        "# First working on the text part\n",
        "from keras.layers import *\n",
        "from keras.models import *\n",
        "\n",
        "# Description input: meant to receive sequences of 150 integers\n",
        "# Naming this layer by passing it a \"name\" argument.\n",
        "text_input = Input(shape=(150,), dtype='int32', name='text_input')\n",
        "\n",
        "# This embedding layer will encode the input sequence\n",
        "# into a sequence of dense 512-dimensional vectors.\n",
        "x = Embedding(output_dim=512, input_dim=10000, input_length=150)(text_input)\n",
        "\n",
        "# A LSTM will transform the vector sequence into a single vector,\n",
        "# containing information about the entire sequence\n",
        "lstm_out = LSTM(32)(x)"
      ],
      "execution_count": 0,
      "outputs": []
    },
    {
      "cell_type": "code",
      "metadata": {
        "id": "jW0pANkVwn85",
        "colab_type": "code",
        "colab": {}
      },
      "source": [
        "# Output of using description to predict price\n",
        "text_output = Dense(1, activation='sigmoid', name='text_output')(lstm_out)"
      ],
      "execution_count": 0,
      "outputs": []
    },
    {
      "cell_type": "code",
      "metadata": {
        "id": "QNjkt4PowqbW",
        "colab_type": "code",
        "colab": {}
      },
      "source": [
        "# Then adding in the non-text part\n",
        "num_input = Input(shape=(ncol,), name='num_input')\n",
        "x = Concatenate(axis=-1)([lstm_out, num_input])\n",
        "act = 'selu'\n",
        "# Stacking a deep densely-connected network on top\n",
        "x = Dense(30, activation=act)(x)\n",
        "x = Dropout(0.2)(x)\n",
        "x = Dense(30, activation=act)(x)\n",
        "x = Dropout(0.2)(x)\n",
        "x = Dense(30, activation=act)(x)\n",
        "\n",
        "# And finally adding the main fitting output\n",
        "main_output = Dense(1, activation='sigmoid', name='main_output')(x)"
      ],
      "execution_count": 0,
      "outputs": []
    },
    {
      "cell_type": "code",
      "metadata": {
        "id": "1GfzsSRAwszk",
        "colab_type": "code",
        "colab": {}
      },
      "source": [
        "# Putting the model together with two inputs and one outputs\n",
        "nn2 = Model(inputs=[text_input, num_input], outputs=[main_output, text_output])"
      ],
      "execution_count": 0,
      "outputs": []
    },
    {
      "cell_type": "code",
      "metadata": {
        "id": "Bh0PbOIUwukD",
        "colab_type": "code",
        "outputId": "fc875246-2096-4317-b135-9a52fac0ae3d",
        "colab": {
          "base_uri": "https://localhost:8080/",
          "height": 401
        }
      },
      "source": [
        "# Compiling and fitting the neural network\n",
        "# Since we have more inputs, I changed the batch size into 100.\n",
        "nn2.compile(loss='binary_crossentropy', \n",
        "              optimizer='adam', metrics=[auc],\n",
        "              loss_weights=[1, 1])\n",
        "history_nn2=nn2.fit([txt1, num1], [labels1, labels1],\n",
        "                  epochs=10, batch_size=50, \n",
        "                  validation_data=([txt2, num2], [labels2, labels2]))"
      ],
      "execution_count": 129,
      "outputs": [
        {
          "output_type": "stream",
          "text": [
            "Train on 10495 samples, validate on 4498 samples\n",
            "Epoch 1/10\n",
            "10495/10495 [==============================] - 86s 8ms/step - loss: 1.1398 - main_output_loss: 0.5467 - text_output_loss: 0.5931 - main_output_auc: 0.6823 - text_output_auc: 0.4880 - val_loss: 1.1317 - val_main_output_loss: 0.5367 - val_text_output_loss: 0.5951 - val_main_output_auc: 0.6880 - val_text_output_auc: 0.4990\n",
            "Epoch 2/10\n",
            "10495/10495 [==============================] - 78s 7ms/step - loss: 1.1351 - main_output_loss: 0.5427 - text_output_loss: 0.5924 - main_output_auc: 0.6909 - text_output_auc: 0.5027 - val_loss: 1.1267 - val_main_output_loss: 0.5321 - val_text_output_loss: 0.5946 - val_main_output_auc: 0.6939 - val_text_output_auc: 0.5040\n",
            "Epoch 3/10\n",
            "10495/10495 [==============================] - 77s 7ms/step - loss: 1.1337 - main_output_loss: 0.5411 - text_output_loss: 0.5926 - main_output_auc: 0.6953 - text_output_auc: 0.5038 - val_loss: 1.1263 - val_main_output_loss: 0.5309 - val_text_output_loss: 0.5954 - val_main_output_auc: 0.6973 - val_text_output_auc: 0.5035\n",
            "Epoch 4/10\n",
            "10495/10495 [==============================] - 78s 7ms/step - loss: 1.1304 - main_output_loss: 0.5384 - text_output_loss: 0.5920 - main_output_auc: 0.6986 - text_output_auc: 0.5056 - val_loss: 1.1297 - val_main_output_loss: 0.5340 - val_text_output_loss: 0.5956 - val_main_output_auc: 0.6994 - val_text_output_auc: 0.5071\n",
            "Epoch 5/10\n",
            "10495/10495 [==============================] - 78s 7ms/step - loss: 1.1326 - main_output_loss: 0.5401 - text_output_loss: 0.5925 - main_output_auc: 0.6997 - text_output_auc: 0.5070 - val_loss: 1.1355 - val_main_output_loss: 0.5408 - val_text_output_loss: 0.5947 - val_main_output_auc: 0.6993 - val_text_output_auc: 0.5062\n",
            "Epoch 6/10\n",
            "10495/10495 [==============================] - 78s 7ms/step - loss: 1.1288 - main_output_loss: 0.5368 - text_output_loss: 0.5920 - main_output_auc: 0.6998 - text_output_auc: 0.5066 - val_loss: 1.1283 - val_main_output_loss: 0.5336 - val_text_output_loss: 0.5947 - val_main_output_auc: 0.7004 - val_text_output_auc: 0.5067\n",
            "Epoch 7/10\n",
            "10495/10495 [==============================] - 77s 7ms/step - loss: 1.1271 - main_output_loss: 0.5352 - text_output_loss: 0.5919 - main_output_auc: 0.7012 - text_output_auc: 0.5069 - val_loss: 1.1270 - val_main_output_loss: 0.5324 - val_text_output_loss: 0.5946 - val_main_output_auc: 0.7016 - val_text_output_auc: 0.5070\n",
            "Epoch 8/10\n",
            "10495/10495 [==============================] - 78s 7ms/step - loss: 1.1262 - main_output_loss: 0.5341 - text_output_loss: 0.5920 - main_output_auc: 0.7021 - text_output_auc: 0.5071 - val_loss: 1.1278 - val_main_output_loss: 0.5333 - val_text_output_loss: 0.5946 - val_main_output_auc: 0.7026 - val_text_output_auc: 0.5071\n",
            "Epoch 9/10\n",
            "10495/10495 [==============================] - 79s 8ms/step - loss: 1.1248 - main_output_loss: 0.5328 - text_output_loss: 0.5920 - main_output_auc: 0.7033 - text_output_auc: 0.5074 - val_loss: 1.1292 - val_main_output_loss: 0.5337 - val_text_output_loss: 0.5954 - val_main_output_auc: 0.7037 - val_text_output_auc: 0.5072\n",
            "Epoch 10/10\n",
            "10495/10495 [==============================] - 77s 7ms/step - loss: 1.1236 - main_output_loss: 0.5316 - text_output_loss: 0.5920 - main_output_auc: 0.7042 - text_output_auc: 0.5074 - val_loss: 1.1280 - val_main_output_loss: 0.5332 - val_text_output_loss: 0.5947 - val_main_output_auc: 0.7047 - val_text_output_auc: 0.5075\n"
          ],
          "name": "stdout"
        }
      ]
    },
    {
      "cell_type": "code",
      "metadata": {
        "id": "f1wG4LPlrMuH",
        "colab_type": "code",
        "colab": {
          "base_uri": "https://localhost:8080/",
          "height": 953
        },
        "outputId": "f4033de8-75db-4df9-f26f-af9e93c6f1b5"
      },
      "source": [
        "from keras.utils import plot_model\n",
        "plot_model(nn2, to_file='model2.png')"
      ],
      "execution_count": 132,
      "outputs": [
        {
          "output_type": "execute_result",
          "data": {
            "image/png": "[encoded data removed]",
            "text/plain": [
              "<IPython.core.display.Image object>"
            ]
          },
          "metadata": {
            "tags": []
          },
          "execution_count": 132
        }
      ]
    }
  ]
}